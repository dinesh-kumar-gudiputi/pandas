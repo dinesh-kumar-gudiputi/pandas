{
 "cells": [
  {
   "cell_type": "markdown",
   "id": "09aed5ee",
   "metadata": {
    "papermill": {
     "duration": 0.018248,
     "end_time": "2023-06-24T13:07:06.137253",
     "exception": false,
     "start_time": "2023-06-24T13:07:06.119005",
     "status": "completed"
    },
    "tags": []
   },
   "source": [
    "# **PANDAS**"
   ]
  },
  {
   "cell_type": "code",
   "execution_count": 1,
   "id": "a5ca9fea",
   "metadata": {
    "execution": {
     "iopub.execute_input": "2023-06-24T13:07:06.176268Z",
     "iopub.status.busy": "2023-06-24T13:07:06.175698Z",
     "iopub.status.idle": "2023-06-24T13:07:06.182877Z",
     "shell.execute_reply": "2023-06-24T13:07:06.182353Z"
    },
    "papermill": {
     "duration": 0.028243,
     "end_time": "2023-06-24T13:07:06.184438",
     "exception": false,
     "start_time": "2023-06-24T13:07:06.156195",
     "status": "completed"
    },
    "tags": []
   },
   "outputs": [],
   "source": [
    "import pandas as pd"
   ]
  },
  {
   "cell_type": "code",
   "execution_count": 2,
   "id": "f50e0a86",
   "metadata": {
    "execution": {
     "iopub.execute_input": "2023-06-24T13:07:06.221777Z",
     "iopub.status.busy": "2023-06-24T13:07:06.221232Z",
     "iopub.status.idle": "2023-06-24T13:07:06.225990Z",
     "shell.execute_reply": "2023-06-24T13:07:06.224943Z"
    },
    "papermill": {
     "duration": 0.025204,
     "end_time": "2023-06-24T13:07:06.227528",
     "exception": false,
     "start_time": "2023-06-24T13:07:06.202324",
     "status": "completed"
    },
    "tags": []
   },
   "outputs": [
    {
     "name": "stdout",
     "output_type": "stream",
     "text": [
      "[1, 2, 3, 4, 5]\n"
     ]
    }
   ],
   "source": [
    "lst=[1,2,3,4,5]\n",
    "print(lst)"
   ]
  },
  {
   "cell_type": "code",
   "execution_count": 3,
   "id": "b0a8e621",
   "metadata": {
    "execution": {
     "iopub.execute_input": "2023-06-24T13:07:06.264851Z",
     "iopub.status.busy": "2023-06-24T13:07:06.264347Z",
     "iopub.status.idle": "2023-06-24T13:07:06.274105Z",
     "shell.execute_reply": "2023-06-24T13:07:06.273106Z"
    },
    "papermill": {
     "duration": 0.030187,
     "end_time": "2023-06-24T13:07:06.275653",
     "exception": false,
     "start_time": "2023-06-24T13:07:06.245466",
     "status": "completed"
    },
    "tags": []
   },
   "outputs": [
    {
     "name": "stdout",
     "output_type": "stream",
     "text": [
      "0    1\n",
      "1    2\n",
      "2    3\n",
      "3    4\n",
      "4    5\n",
      "dtype: int64\n",
      "<class 'pandas.core.series.Series'>\n"
     ]
    }
   ],
   "source": [
    "series=pd.Series(lst)\n",
    "print(series)\n",
    "print(type(series))"
   ]
  },
  {
   "cell_type": "code",
   "execution_count": 4,
   "id": "426ba397",
   "metadata": {
    "execution": {
     "iopub.execute_input": "2023-06-24T13:07:06.313882Z",
     "iopub.status.busy": "2023-06-24T13:07:06.313374Z",
     "iopub.status.idle": "2023-06-24T13:07:06.320872Z",
     "shell.execute_reply": "2023-06-24T13:07:06.319921Z"
    },
    "papermill": {
     "duration": 0.028468,
     "end_time": "2023-06-24T13:07:06.322722",
     "exception": false,
     "start_time": "2023-06-24T13:07:06.294254",
     "status": "completed"
    },
    "tags": []
   },
   "outputs": [
    {
     "name": "stderr",
     "output_type": "stream",
     "text": [
      "/tmp/ipykernel_20/1789121482.py:1: FutureWarning: The default dtype for empty Series will be 'object' instead of 'float64' in a future version. Specify a dtype explicitly to silence this warning.\n",
      "  empty=pd.Series([])\n"
     ]
    },
    {
     "data": {
      "text/plain": [
       "Series([], dtype: float64)"
      ]
     },
     "execution_count": 4,
     "metadata": {},
     "output_type": "execute_result"
    }
   ],
   "source": [
    "empty=pd.Series([])\n",
    "empty"
   ]
  },
  {
   "cell_type": "code",
   "execution_count": 5,
   "id": "57193d9b",
   "metadata": {
    "execution": {
     "iopub.execute_input": "2023-06-24T13:07:06.361071Z",
     "iopub.status.busy": "2023-06-24T13:07:06.360728Z",
     "iopub.status.idle": "2023-06-24T13:07:06.371313Z",
     "shell.execute_reply": "2023-06-24T13:07:06.370470Z"
    },
    "papermill": {
     "duration": 0.031761,
     "end_time": "2023-06-24T13:07:06.373272",
     "exception": false,
     "start_time": "2023-06-24T13:07:06.341511",
     "status": "completed"
    },
    "tags": []
   },
   "outputs": [
    {
     "data": {
      "text/plain": [
       "10    d\n",
       "11    i\n",
       "12    n\n",
       "13    e\n",
       "14    s\n",
       "15    h\n",
       "dtype: object"
      ]
     },
     "execution_count": 5,
     "metadata": {},
     "output_type": "execute_result"
    }
   ],
   "source": [
    "a=pd.Series(['d','i','n','e','s',\"h\"],index=[10,11,12,13,14,15])\n",
    "a"
   ]
  },
  {
   "cell_type": "code",
   "execution_count": 6,
   "id": "1c8379ad",
   "metadata": {
    "execution": {
     "iopub.execute_input": "2023-06-24T13:07:06.413638Z",
     "iopub.status.busy": "2023-06-24T13:07:06.413300Z",
     "iopub.status.idle": "2023-06-24T13:07:06.420334Z",
     "shell.execute_reply": "2023-06-24T13:07:06.419559Z"
    },
    "papermill": {
     "duration": 0.029831,
     "end_time": "2023-06-24T13:07:06.422469",
     "exception": false,
     "start_time": "2023-06-24T13:07:06.392638",
     "status": "completed"
    },
    "tags": []
   },
   "outputs": [
    {
     "data": {
      "text/plain": [
       "10    d\n",
       "11    i\n",
       "12    n\n",
       "13    e\n",
       "14    s\n",
       "15    h\n",
       "Name: my name, dtype: object"
      ]
     },
     "execution_count": 6,
     "metadata": {},
     "output_type": "execute_result"
    }
   ],
   "source": [
    "a=pd.Series(['d','i','n','e','s',\"h\"],index=[10,11,12,13,14,15],name=\"my name\")\n",
    "a"
   ]
  },
  {
   "cell_type": "code",
   "execution_count": 7,
   "id": "424443fc",
   "metadata": {
    "execution": {
     "iopub.execute_input": "2023-06-24T13:07:06.463052Z",
     "iopub.status.busy": "2023-06-24T13:07:06.462712Z",
     "iopub.status.idle": "2023-06-24T13:07:06.471525Z",
     "shell.execute_reply": "2023-06-24T13:07:06.470307Z"
    },
    "papermill": {
     "duration": 0.031056,
     "end_time": "2023-06-24T13:07:06.473414",
     "exception": false,
     "start_time": "2023-06-24T13:07:06.442358",
     "status": "completed"
    },
    "tags": []
   },
   "outputs": [
    {
     "data": {
      "text/plain": [
       "0    0.5\n",
       "dtype: float64"
      ]
     },
     "execution_count": 7,
     "metadata": {},
     "output_type": "execute_result"
    }
   ],
   "source": [
    "scalar_series=pd.Series(0.5)\n",
    "scalar_series"
   ]
  },
  {
   "cell_type": "code",
   "execution_count": 8,
   "id": "1549828e",
   "metadata": {
    "execution": {
     "iopub.execute_input": "2023-06-24T13:07:06.513615Z",
     "iopub.status.busy": "2023-06-24T13:07:06.513286Z",
     "iopub.status.idle": "2023-06-24T13:07:06.519656Z",
     "shell.execute_reply": "2023-06-24T13:07:06.519056Z"
    },
    "papermill": {
     "duration": 0.027968,
     "end_time": "2023-06-24T13:07:06.521219",
     "exception": false,
     "start_time": "2023-06-24T13:07:06.493251",
     "status": "completed"
    },
    "tags": []
   },
   "outputs": [
    {
     "data": {
      "text/plain": [
       "1    0.5\n",
       "2    0.5\n",
       "3    0.5\n",
       "dtype: float64"
      ]
     },
     "execution_count": 8,
     "metadata": {},
     "output_type": "execute_result"
    }
   ],
   "source": [
    "scalar_series=pd.Series(0.5,index=[1,2,3])\n",
    "scalar_series"
   ]
  },
  {
   "cell_type": "markdown",
   "id": "d496df74",
   "metadata": {
    "papermill": {
     "duration": 0.018589,
     "end_time": "2023-06-24T13:07:06.559696",
     "exception": false,
     "start_time": "2023-06-24T13:07:06.541107",
     "status": "completed"
    },
    "tags": []
   },
   "source": [
    "# **PANDAS SERIES WITH PYTHON DICTIONARY**"
   ]
  },
  {
   "cell_type": "code",
   "execution_count": 9,
   "id": "9fdc4f79",
   "metadata": {
    "execution": {
     "iopub.execute_input": "2023-06-24T13:07:06.598237Z",
     "iopub.status.busy": "2023-06-24T13:07:06.597850Z",
     "iopub.status.idle": "2023-06-24T13:07:06.608390Z",
     "shell.execute_reply": "2023-06-24T13:07:06.607814Z"
    },
    "papermill": {
     "duration": 0.031394,
     "end_time": "2023-06-24T13:07:06.609807",
     "exception": false,
     "start_time": "2023-06-24T13:07:06.578413",
     "status": "completed"
    },
    "tags": []
   },
   "outputs": [
    {
     "data": {
      "text/plain": [
       "d    1\n",
       "i    2\n",
       "n    3\n",
       "e    4\n",
       "s    5\n",
       "dtype: int64"
      ]
     },
     "execution_count": 9,
     "metadata": {},
     "output_type": "execute_result"
    }
   ],
   "source": [
    "dict_series=pd.Series({\"d\":1,\"i\":2,\"n\":3,\"e\":4,\"s\":5})\n",
    "dict_series"
   ]
  },
  {
   "cell_type": "code",
   "execution_count": 10,
   "id": "40597f7b",
   "metadata": {
    "execution": {
     "iopub.execute_input": "2023-06-24T13:07:06.648766Z",
     "iopub.status.busy": "2023-06-24T13:07:06.648438Z",
     "iopub.status.idle": "2023-06-24T13:07:06.653735Z",
     "shell.execute_reply": "2023-06-24T13:07:06.652928Z"
    },
    "papermill": {
     "duration": 0.026961,
     "end_time": "2023-06-24T13:07:06.655580",
     "exception": false,
     "start_time": "2023-06-24T13:07:06.628619",
     "status": "completed"
    },
    "tags": []
   },
   "outputs": [
    {
     "data": {
      "text/plain": [
       "1"
      ]
     },
     "execution_count": 10,
     "metadata": {},
     "output_type": "execute_result"
    }
   ],
   "source": [
    "dict_series[0]"
   ]
  },
  {
   "cell_type": "code",
   "execution_count": 11,
   "id": "84ebeafd",
   "metadata": {
    "execution": {
     "iopub.execute_input": "2023-06-24T13:07:06.694883Z",
     "iopub.status.busy": "2023-06-24T13:07:06.694550Z",
     "iopub.status.idle": "2023-06-24T13:07:06.701155Z",
     "shell.execute_reply": "2023-06-24T13:07:06.699949Z"
    },
    "papermill": {
     "duration": 0.028543,
     "end_time": "2023-06-24T13:07:06.702987",
     "exception": false,
     "start_time": "2023-06-24T13:07:06.674444",
     "status": "completed"
    },
    "tags": []
   },
   "outputs": [
    {
     "data": {
      "text/plain": [
       "d    1\n",
       "i    2\n",
       "n    3\n",
       "dtype: int64"
      ]
     },
     "execution_count": 11,
     "metadata": {},
     "output_type": "execute_result"
    }
   ],
   "source": [
    "dict_series[0:3]"
   ]
  },
  {
   "cell_type": "code",
   "execution_count": 12,
   "id": "119c7169",
   "metadata": {
    "execution": {
     "iopub.execute_input": "2023-06-24T13:07:06.744503Z",
     "iopub.status.busy": "2023-06-24T13:07:06.744076Z",
     "iopub.status.idle": "2023-06-24T13:07:06.751332Z",
     "shell.execute_reply": "2023-06-24T13:07:06.750241Z"
    },
    "papermill": {
     "duration": 0.030918,
     "end_time": "2023-06-24T13:07:06.752996",
     "exception": false,
     "start_time": "2023-06-24T13:07:06.722078",
     "status": "completed"
    },
    "tags": []
   },
   "outputs": [
    {
     "data": {
      "text/plain": [
       "5"
      ]
     },
     "execution_count": 12,
     "metadata": {},
     "output_type": "execute_result"
    }
   ],
   "source": [
    "max(dict_series)"
   ]
  },
  {
   "cell_type": "code",
   "execution_count": 13,
   "id": "76dbac29",
   "metadata": {
    "execution": {
     "iopub.execute_input": "2023-06-24T13:07:06.793375Z",
     "iopub.status.busy": "2023-06-24T13:07:06.792858Z",
     "iopub.status.idle": "2023-06-24T13:07:06.801221Z",
     "shell.execute_reply": "2023-06-24T13:07:06.800386Z"
    },
    "papermill": {
     "duration": 0.030217,
     "end_time": "2023-06-24T13:07:06.802798",
     "exception": false,
     "start_time": "2023-06-24T13:07:06.772581",
     "status": "completed"
    },
    "tags": []
   },
   "outputs": [
    {
     "data": {
      "text/plain": [
       "d    [1, 8, 9]\n",
       "i    [2, 6, 5]\n",
       "n    [3, 7, 8]\n",
       "e    [4, 1, 5]\n",
       "s    [5, 9, 3]\n",
       "dtype: object"
      ]
     },
     "execution_count": 13,
     "metadata": {},
     "output_type": "execute_result"
    }
   ],
   "source": [
    "dict_series=pd.Series({\"d\":[1,8,9],\"i\":[2,6,5],\"n\":[3,7,8],\"e\":[4,1,5],\"s\":[5,9,3]})\n",
    "dict_series"
   ]
  },
  {
   "cell_type": "markdown",
   "id": "ae18fab6",
   "metadata": {
    "papermill": {
     "duration": 0.01928,
     "end_time": "2023-06-24T13:07:06.843531",
     "exception": false,
     "start_time": "2023-06-24T13:07:06.824251",
     "status": "completed"
    },
    "tags": []
   },
   "source": [
    "# **PANDAS DATA FRAMES**"
   ]
  },
  {
   "cell_type": "code",
   "execution_count": 14,
   "id": "9352c1b5",
   "metadata": {
    "execution": {
     "iopub.execute_input": "2023-06-24T13:07:06.884852Z",
     "iopub.status.busy": "2023-06-24T13:07:06.884417Z",
     "iopub.status.idle": "2023-06-24T13:07:06.892715Z",
     "shell.execute_reply": "2023-06-24T13:07:06.891336Z"
    },
    "papermill": {
     "duration": 0.031231,
     "end_time": "2023-06-24T13:07:06.894630",
     "exception": false,
     "start_time": "2023-06-24T13:07:06.863399",
     "status": "completed"
    },
    "tags": []
   },
   "outputs": [
    {
     "name": "stdout",
     "output_type": "stream",
     "text": [
      "Empty DataFrame\n",
      "Columns: []\n",
      "Index: []\n"
     ]
    }
   ],
   "source": [
    "#A Pandas DataFrame is a 2 dimensional data structure, like a 2 dimensional array, or a table with rows and columns\n",
    "df=pd.DataFrame()\n",
    "print(df)"
   ]
  },
  {
   "cell_type": "code",
   "execution_count": 15,
   "id": "5a56e3cf",
   "metadata": {
    "execution": {
     "iopub.execute_input": "2023-06-24T13:07:06.935407Z",
     "iopub.status.busy": "2023-06-24T13:07:06.935123Z",
     "iopub.status.idle": "2023-06-24T13:07:06.941657Z",
     "shell.execute_reply": "2023-06-24T13:07:06.940947Z"
    },
    "papermill": {
     "duration": 0.028456,
     "end_time": "2023-06-24T13:07:06.943172",
     "exception": false,
     "start_time": "2023-06-24T13:07:06.914716",
     "status": "completed"
    },
    "tags": []
   },
   "outputs": [
    {
     "name": "stdout",
     "output_type": "stream",
     "text": [
      "   0\n",
      "0  1\n",
      "1  2\n",
      "2  3\n",
      "3  4\n",
      "4  5\n"
     ]
    }
   ],
   "source": [
    "#data frame using a list\n",
    "list=[1,2,3,4,5]\n",
    "df=pd.DataFrame(list)\n",
    "print(df)"
   ]
  },
  {
   "cell_type": "code",
   "execution_count": 16,
   "id": "33471e20",
   "metadata": {
    "execution": {
     "iopub.execute_input": "2023-06-24T13:07:06.983498Z",
     "iopub.status.busy": "2023-06-24T13:07:06.983196Z",
     "iopub.status.idle": "2023-06-24T13:07:06.990664Z",
     "shell.execute_reply": "2023-06-24T13:07:06.989633Z"
    },
    "papermill": {
     "duration": 0.029724,
     "end_time": "2023-06-24T13:07:06.992375",
     "exception": false,
     "start_time": "2023-06-24T13:07:06.962651",
     "status": "completed"
    },
    "tags": []
   },
   "outputs": [
    {
     "name": "stdout",
     "output_type": "stream",
     "text": [
      "   0  1  2  3   4\n",
      "0  1  2  3  4   5\n",
      "1  6  7  8  9  10\n"
     ]
    }
   ],
   "source": [
    "list=[[1,2,3,4,5],[6,7,8,9,10]]\n",
    "df=pd.DataFrame(list)\n",
    "print(df)"
   ]
  },
  {
   "cell_type": "code",
   "execution_count": 17,
   "id": "ea0aa87b",
   "metadata": {
    "execution": {
     "iopub.execute_input": "2023-06-24T13:07:07.034029Z",
     "iopub.status.busy": "2023-06-24T13:07:07.033686Z",
     "iopub.status.idle": "2023-06-24T13:07:07.049527Z",
     "shell.execute_reply": "2023-06-24T13:07:07.048604Z"
    },
    "papermill": {
     "duration": 0.039018,
     "end_time": "2023-06-24T13:07:07.051373",
     "exception": false,
     "start_time": "2023-06-24T13:07:07.012355",
     "status": "completed"
    },
    "tags": []
   },
   "outputs": [
    {
     "data": {
      "text/html": [
       "<div>\n",
       "<style scoped>\n",
       "    .dataframe tbody tr th:only-of-type {\n",
       "        vertical-align: middle;\n",
       "    }\n",
       "\n",
       "    .dataframe tbody tr th {\n",
       "        vertical-align: top;\n",
       "    }\n",
       "\n",
       "    .dataframe thead th {\n",
       "        text-align: right;\n",
       "    }\n",
       "</style>\n",
       "<table border=\"1\" class=\"dataframe\">\n",
       "  <thead>\n",
       "    <tr style=\"text-align: right;\">\n",
       "      <th></th>\n",
       "      <th>a</th>\n",
       "      <th>b</th>\n",
       "      <th>c</th>\n",
       "      <th>d</th>\n",
       "    </tr>\n",
       "  </thead>\n",
       "  <tbody>\n",
       "    <tr>\n",
       "      <th>0</th>\n",
       "      <td>5</td>\n",
       "      <td>6</td>\n",
       "      <td>7</td>\n",
       "      <td>8</td>\n",
       "    </tr>\n",
       "    <tr>\n",
       "      <th>1</th>\n",
       "      <td>6</td>\n",
       "      <td>9</td>\n",
       "      <td>4</td>\n",
       "      <td>2</td>\n",
       "    </tr>\n",
       "  </tbody>\n",
       "</table>\n",
       "</div>"
      ],
      "text/plain": [
       "   a  b  c  d\n",
       "0  5  6  7  8\n",
       "1  6  9  4  2"
      ]
     },
     "execution_count": 17,
     "metadata": {},
     "output_type": "execute_result"
    }
   ],
   "source": [
    "#now using dictionary\n",
    "a=[{\"a\":5,\"b\":6,\"c\":7,\"d\":8},\n",
    "  {\"a\":6,\"b\":9,\"c\":4,\"d\":2}]\n",
    "df=pd.DataFrame(a)\n",
    "df"
   ]
  },
  {
   "cell_type": "code",
   "execution_count": 18,
   "id": "5a72a472",
   "metadata": {
    "execution": {
     "iopub.execute_input": "2023-06-24T13:07:07.093485Z",
     "iopub.status.busy": "2023-06-24T13:07:07.093140Z",
     "iopub.status.idle": "2023-06-24T13:07:07.102785Z",
     "shell.execute_reply": "2023-06-24T13:07:07.101967Z"
    },
    "papermill": {
     "duration": 0.032907,
     "end_time": "2023-06-24T13:07:07.104512",
     "exception": false,
     "start_time": "2023-06-24T13:07:07.071605",
     "status": "completed"
    },
    "tags": []
   },
   "outputs": [
    {
     "data": {
      "text/html": [
       "<div>\n",
       "<style scoped>\n",
       "    .dataframe tbody tr th:only-of-type {\n",
       "        vertical-align: middle;\n",
       "    }\n",
       "\n",
       "    .dataframe tbody tr th {\n",
       "        vertical-align: top;\n",
       "    }\n",
       "\n",
       "    .dataframe thead th {\n",
       "        text-align: right;\n",
       "    }\n",
       "</style>\n",
       "<table border=\"1\" class=\"dataframe\">\n",
       "  <thead>\n",
       "    <tr style=\"text-align: right;\">\n",
       "      <th></th>\n",
       "      <th>rollno</th>\n",
       "      <th>math</th>\n",
       "      <th>physics</th>\n",
       "    </tr>\n",
       "  </thead>\n",
       "  <tbody>\n",
       "    <tr>\n",
       "      <th>0</th>\n",
       "      <td>1</td>\n",
       "      <td>10</td>\n",
       "      <td>32</td>\n",
       "    </tr>\n",
       "    <tr>\n",
       "      <th>1</th>\n",
       "      <td>2</td>\n",
       "      <td>20</td>\n",
       "      <td>34</td>\n",
       "    </tr>\n",
       "    <tr>\n",
       "      <th>2</th>\n",
       "      <td>3</td>\n",
       "      <td>30</td>\n",
       "      <td>56</td>\n",
       "    </tr>\n",
       "    <tr>\n",
       "      <th>3</th>\n",
       "      <td>4</td>\n",
       "      <td>40</td>\n",
       "      <td>78</td>\n",
       "    </tr>\n",
       "    <tr>\n",
       "      <th>4</th>\n",
       "      <td>5</td>\n",
       "      <td>50</td>\n",
       "      <td>90</td>\n",
       "    </tr>\n",
       "  </tbody>\n",
       "</table>\n",
       "</div>"
      ],
      "text/plain": [
       "   rollno  math  physics\n",
       "0       1    10       32\n",
       "1       2    20       34\n",
       "2       3    30       56\n",
       "3       4    40       78\n",
       "4       5    50       90"
      ]
     },
     "execution_count": 18,
     "metadata": {},
     "output_type": "execute_result"
    }
   ],
   "source": [
    "b={\"rollno\":pd.Series([1,2,3,4,5]),\n",
    "   \"math\":pd.Series([10,20,30,40,50]),\n",
    "   \"physics\":pd.Series([32,34,56,78,90])\n",
    "  }\n",
    "df=pd.DataFrame(b)\n",
    "df"
   ]
  },
  {
   "cell_type": "markdown",
   "id": "66d78035",
   "metadata": {
    "papermill": {
     "duration": 0.022624,
     "end_time": "2023-06-24T13:07:07.148285",
     "exception": false,
     "start_time": "2023-06-24T13:07:07.125661",
     "status": "completed"
    },
    "tags": []
   },
   "source": [
    "# **READING CSV(COMMON SEPARATED VALUES ) AS DATA FRAMES**"
   ]
  },
  {
   "cell_type": "code",
   "execution_count": 19,
   "id": "221abed5",
   "metadata": {
    "execution": {
     "iopub.execute_input": "2023-06-24T13:07:07.191312Z",
     "iopub.status.busy": "2023-06-24T13:07:07.190873Z",
     "iopub.status.idle": "2023-06-24T13:07:07.226615Z",
     "shell.execute_reply": "2023-06-24T13:07:07.225593Z"
    },
    "papermill": {
     "duration": 0.05969,
     "end_time": "2023-06-24T13:07:07.228508",
     "exception": false,
     "start_time": "2023-06-24T13:07:07.168818",
     "status": "completed"
    },
    "tags": []
   },
   "outputs": [
    {
     "data": {
      "text/html": [
       "<div>\n",
       "<style scoped>\n",
       "    .dataframe tbody tr th:only-of-type {\n",
       "        vertical-align: middle;\n",
       "    }\n",
       "\n",
       "    .dataframe tbody tr th {\n",
       "        vertical-align: top;\n",
       "    }\n",
       "\n",
       "    .dataframe thead th {\n",
       "        text-align: right;\n",
       "    }\n",
       "</style>\n",
       "<table border=\"1\" class=\"dataframe\">\n",
       "  <thead>\n",
       "    <tr style=\"text-align: right;\">\n",
       "      <th></th>\n",
       "      <th>Unnamed: 0</th>\n",
       "      <th>work_year</th>\n",
       "      <th>experience_level</th>\n",
       "      <th>employment_type</th>\n",
       "      <th>job_title</th>\n",
       "      <th>salary</th>\n",
       "      <th>salary_currency</th>\n",
       "      <th>salary_in_usd</th>\n",
       "      <th>employee_residence</th>\n",
       "      <th>remote_ratio</th>\n",
       "      <th>company_location</th>\n",
       "      <th>company_size</th>\n",
       "    </tr>\n",
       "  </thead>\n",
       "  <tbody>\n",
       "    <tr>\n",
       "      <th>0</th>\n",
       "      <td>0</td>\n",
       "      <td>2020</td>\n",
       "      <td>MI</td>\n",
       "      <td>FT</td>\n",
       "      <td>Data Scientist</td>\n",
       "      <td>70000</td>\n",
       "      <td>EUR</td>\n",
       "      <td>79833</td>\n",
       "      <td>DE</td>\n",
       "      <td>0</td>\n",
       "      <td>DE</td>\n",
       "      <td>L</td>\n",
       "    </tr>\n",
       "    <tr>\n",
       "      <th>1</th>\n",
       "      <td>1</td>\n",
       "      <td>2020</td>\n",
       "      <td>SE</td>\n",
       "      <td>FT</td>\n",
       "      <td>Machine Learning Scientist</td>\n",
       "      <td>260000</td>\n",
       "      <td>USD</td>\n",
       "      <td>260000</td>\n",
       "      <td>JP</td>\n",
       "      <td>0</td>\n",
       "      <td>JP</td>\n",
       "      <td>S</td>\n",
       "    </tr>\n",
       "    <tr>\n",
       "      <th>2</th>\n",
       "      <td>2</td>\n",
       "      <td>2020</td>\n",
       "      <td>SE</td>\n",
       "      <td>FT</td>\n",
       "      <td>Big Data Engineer</td>\n",
       "      <td>85000</td>\n",
       "      <td>GBP</td>\n",
       "      <td>109024</td>\n",
       "      <td>GB</td>\n",
       "      <td>50</td>\n",
       "      <td>GB</td>\n",
       "      <td>M</td>\n",
       "    </tr>\n",
       "    <tr>\n",
       "      <th>3</th>\n",
       "      <td>3</td>\n",
       "      <td>2020</td>\n",
       "      <td>MI</td>\n",
       "      <td>FT</td>\n",
       "      <td>Product Data Analyst</td>\n",
       "      <td>20000</td>\n",
       "      <td>USD</td>\n",
       "      <td>20000</td>\n",
       "      <td>HN</td>\n",
       "      <td>0</td>\n",
       "      <td>HN</td>\n",
       "      <td>S</td>\n",
       "    </tr>\n",
       "    <tr>\n",
       "      <th>4</th>\n",
       "      <td>4</td>\n",
       "      <td>2020</td>\n",
       "      <td>SE</td>\n",
       "      <td>FT</td>\n",
       "      <td>Machine Learning Engineer</td>\n",
       "      <td>150000</td>\n",
       "      <td>USD</td>\n",
       "      <td>150000</td>\n",
       "      <td>US</td>\n",
       "      <td>50</td>\n",
       "      <td>US</td>\n",
       "      <td>L</td>\n",
       "    </tr>\n",
       "    <tr>\n",
       "      <th>...</th>\n",
       "      <td>...</td>\n",
       "      <td>...</td>\n",
       "      <td>...</td>\n",
       "      <td>...</td>\n",
       "      <td>...</td>\n",
       "      <td>...</td>\n",
       "      <td>...</td>\n",
       "      <td>...</td>\n",
       "      <td>...</td>\n",
       "      <td>...</td>\n",
       "      <td>...</td>\n",
       "      <td>...</td>\n",
       "    </tr>\n",
       "    <tr>\n",
       "      <th>602</th>\n",
       "      <td>602</td>\n",
       "      <td>2022</td>\n",
       "      <td>SE</td>\n",
       "      <td>FT</td>\n",
       "      <td>Data Engineer</td>\n",
       "      <td>154000</td>\n",
       "      <td>USD</td>\n",
       "      <td>154000</td>\n",
       "      <td>US</td>\n",
       "      <td>100</td>\n",
       "      <td>US</td>\n",
       "      <td>M</td>\n",
       "    </tr>\n",
       "    <tr>\n",
       "      <th>603</th>\n",
       "      <td>603</td>\n",
       "      <td>2022</td>\n",
       "      <td>SE</td>\n",
       "      <td>FT</td>\n",
       "      <td>Data Engineer</td>\n",
       "      <td>126000</td>\n",
       "      <td>USD</td>\n",
       "      <td>126000</td>\n",
       "      <td>US</td>\n",
       "      <td>100</td>\n",
       "      <td>US</td>\n",
       "      <td>M</td>\n",
       "    </tr>\n",
       "    <tr>\n",
       "      <th>604</th>\n",
       "      <td>604</td>\n",
       "      <td>2022</td>\n",
       "      <td>SE</td>\n",
       "      <td>FT</td>\n",
       "      <td>Data Analyst</td>\n",
       "      <td>129000</td>\n",
       "      <td>USD</td>\n",
       "      <td>129000</td>\n",
       "      <td>US</td>\n",
       "      <td>0</td>\n",
       "      <td>US</td>\n",
       "      <td>M</td>\n",
       "    </tr>\n",
       "    <tr>\n",
       "      <th>605</th>\n",
       "      <td>605</td>\n",
       "      <td>2022</td>\n",
       "      <td>SE</td>\n",
       "      <td>FT</td>\n",
       "      <td>Data Analyst</td>\n",
       "      <td>150000</td>\n",
       "      <td>USD</td>\n",
       "      <td>150000</td>\n",
       "      <td>US</td>\n",
       "      <td>100</td>\n",
       "      <td>US</td>\n",
       "      <td>M</td>\n",
       "    </tr>\n",
       "    <tr>\n",
       "      <th>606</th>\n",
       "      <td>606</td>\n",
       "      <td>2022</td>\n",
       "      <td>MI</td>\n",
       "      <td>FT</td>\n",
       "      <td>AI Scientist</td>\n",
       "      <td>200000</td>\n",
       "      <td>USD</td>\n",
       "      <td>200000</td>\n",
       "      <td>IN</td>\n",
       "      <td>100</td>\n",
       "      <td>US</td>\n",
       "      <td>L</td>\n",
       "    </tr>\n",
       "  </tbody>\n",
       "</table>\n",
       "<p>607 rows × 12 columns</p>\n",
       "</div>"
      ],
      "text/plain": [
       "     Unnamed: 0  work_year experience_level employment_type  \\\n",
       "0             0       2020               MI              FT   \n",
       "1             1       2020               SE              FT   \n",
       "2             2       2020               SE              FT   \n",
       "3             3       2020               MI              FT   \n",
       "4             4       2020               SE              FT   \n",
       "..          ...        ...              ...             ...   \n",
       "602         602       2022               SE              FT   \n",
       "603         603       2022               SE              FT   \n",
       "604         604       2022               SE              FT   \n",
       "605         605       2022               SE              FT   \n",
       "606         606       2022               MI              FT   \n",
       "\n",
       "                      job_title  salary salary_currency  salary_in_usd  \\\n",
       "0                Data Scientist   70000             EUR          79833   \n",
       "1    Machine Learning Scientist  260000             USD         260000   \n",
       "2             Big Data Engineer   85000             GBP         109024   \n",
       "3          Product Data Analyst   20000             USD          20000   \n",
       "4     Machine Learning Engineer  150000             USD         150000   \n",
       "..                          ...     ...             ...            ...   \n",
       "602               Data Engineer  154000             USD         154000   \n",
       "603               Data Engineer  126000             USD         126000   \n",
       "604                Data Analyst  129000             USD         129000   \n",
       "605                Data Analyst  150000             USD         150000   \n",
       "606                AI Scientist  200000             USD         200000   \n",
       "\n",
       "    employee_residence  remote_ratio company_location company_size  \n",
       "0                   DE             0               DE            L  \n",
       "1                   JP             0               JP            S  \n",
       "2                   GB            50               GB            M  \n",
       "3                   HN             0               HN            S  \n",
       "4                   US            50               US            L  \n",
       "..                 ...           ...              ...          ...  \n",
       "602                 US           100               US            M  \n",
       "603                 US           100               US            M  \n",
       "604                 US             0               US            M  \n",
       "605                 US           100               US            M  \n",
       "606                 IN           100               US            L  \n",
       "\n",
       "[607 rows x 12 columns]"
      ]
     },
     "execution_count": 19,
     "metadata": {},
     "output_type": "execute_result"
    }
   ],
   "source": [
    "df=pd.read_csv(r\"/kaggle/input/data-science-job-salaries/ds_salaries.csv\")\n",
    "df"
   ]
  },
  {
   "cell_type": "code",
   "execution_count": 20,
   "id": "8c95856e",
   "metadata": {
    "execution": {
     "iopub.execute_input": "2023-06-24T13:07:07.272704Z",
     "iopub.status.busy": "2023-06-24T13:07:07.272382Z",
     "iopub.status.idle": "2023-06-24T13:07:07.277353Z",
     "shell.execute_reply": "2023-06-24T13:07:07.276589Z"
    },
    "papermill": {
     "duration": 0.02921,
     "end_time": "2023-06-24T13:07:07.279107",
     "exception": false,
     "start_time": "2023-06-24T13:07:07.249897",
     "status": "completed"
    },
    "tags": []
   },
   "outputs": [
    {
     "data": {
      "text/plain": [
       "pandas.core.frame.DataFrame"
      ]
     },
     "execution_count": 20,
     "metadata": {},
     "output_type": "execute_result"
    }
   ],
   "source": [
    "type(df)"
   ]
  },
  {
   "cell_type": "markdown",
   "id": "76499253",
   "metadata": {
    "papermill": {
     "duration": 0.020775,
     "end_time": "2023-06-24T13:07:07.320984",
     "exception": false,
     "start_time": "2023-06-24T13:07:07.300209",
     "status": "completed"
    },
    "tags": []
   },
   "source": [
    "# **DATA FRAME FUNCTIONS**"
   ]
  },
  {
   "cell_type": "code",
   "execution_count": 21,
   "id": "cb665b11",
   "metadata": {
    "execution": {
     "iopub.execute_input": "2023-06-24T13:07:07.364518Z",
     "iopub.status.busy": "2023-06-24T13:07:07.364189Z",
     "iopub.status.idle": "2023-06-24T13:07:07.373884Z",
     "shell.execute_reply": "2023-06-24T13:07:07.373166Z"
    },
    "papermill": {
     "duration": 0.033461,
     "end_time": "2023-06-24T13:07:07.375493",
     "exception": false,
     "start_time": "2023-06-24T13:07:07.342032",
     "status": "completed"
    },
    "tags": []
   },
   "outputs": [
    {
     "data": {
      "text/plain": [
       "Index(['Unnamed: 0', 'work_year', 'experience_level', 'employment_type',\n",
       "       'job_title', 'salary', 'salary_currency', 'salary_in_usd',\n",
       "       'employee_residence', 'remote_ratio', 'company_location',\n",
       "       'company_size'],\n",
       "      dtype='object')"
      ]
     },
     "execution_count": 21,
     "metadata": {},
     "output_type": "execute_result"
    }
   ],
   "source": [
    "df=pd.read_csv(r\"/kaggle/input/data-science-job-salaries/ds_salaries.csv\")\n",
    "df.columns #gives the columns of data frames"
   ]
  },
  {
   "cell_type": "code",
   "execution_count": 22,
   "id": "98b4465d",
   "metadata": {
    "execution": {
     "iopub.execute_input": "2023-06-24T13:07:07.419570Z",
     "iopub.status.busy": "2023-06-24T13:07:07.419258Z",
     "iopub.status.idle": "2023-06-24T13:07:07.424942Z",
     "shell.execute_reply": "2023-06-24T13:07:07.424084Z"
    },
    "papermill": {
     "duration": 0.030138,
     "end_time": "2023-06-24T13:07:07.427020",
     "exception": false,
     "start_time": "2023-06-24T13:07:07.396882",
     "status": "completed"
    },
    "tags": []
   },
   "outputs": [
    {
     "data": {
      "text/plain": [
       "(607, 12)"
      ]
     },
     "execution_count": 22,
     "metadata": {},
     "output_type": "execute_result"
    }
   ],
   "source": [
    "df.shape #gives no.of rows and cloumns in data frame\n"
   ]
  },
  {
   "cell_type": "code",
   "execution_count": 23,
   "id": "3ebdee87",
   "metadata": {
    "execution": {
     "iopub.execute_input": "2023-06-24T13:07:07.472393Z",
     "iopub.status.busy": "2023-06-24T13:07:07.470713Z",
     "iopub.status.idle": "2023-06-24T13:07:07.476994Z",
     "shell.execute_reply": "2023-06-24T13:07:07.476354Z"
    },
    "papermill": {
     "duration": 0.029868,
     "end_time": "2023-06-24T13:07:07.478606",
     "exception": false,
     "start_time": "2023-06-24T13:07:07.448738",
     "status": "completed"
    },
    "tags": []
   },
   "outputs": [
    {
     "data": {
      "text/plain": [
       "7284"
      ]
     },
     "execution_count": 23,
     "metadata": {},
     "output_type": "execute_result"
    }
   ],
   "source": [
    "df.size #gives u no.of cell in df"
   ]
  },
  {
   "cell_type": "code",
   "execution_count": 24,
   "id": "5deff26b",
   "metadata": {
    "execution": {
     "iopub.execute_input": "2023-06-24T13:07:07.524069Z",
     "iopub.status.busy": "2023-06-24T13:07:07.523237Z",
     "iopub.status.idle": "2023-06-24T13:07:07.536972Z",
     "shell.execute_reply": "2023-06-24T13:07:07.536025Z"
    },
    "papermill": {
     "duration": 0.039143,
     "end_time": "2023-06-24T13:07:07.539122",
     "exception": false,
     "start_time": "2023-06-24T13:07:07.499979",
     "status": "completed"
    },
    "tags": []
   },
   "outputs": [
    {
     "data": {
      "text/html": [
       "<div>\n",
       "<style scoped>\n",
       "    .dataframe tbody tr th:only-of-type {\n",
       "        vertical-align: middle;\n",
       "    }\n",
       "\n",
       "    .dataframe tbody tr th {\n",
       "        vertical-align: top;\n",
       "    }\n",
       "\n",
       "    .dataframe thead th {\n",
       "        text-align: right;\n",
       "    }\n",
       "</style>\n",
       "<table border=\"1\" class=\"dataframe\">\n",
       "  <thead>\n",
       "    <tr style=\"text-align: right;\">\n",
       "      <th></th>\n",
       "      <th>Unnamed: 0</th>\n",
       "      <th>work_year</th>\n",
       "      <th>experience_level</th>\n",
       "      <th>employment_type</th>\n",
       "      <th>job_title</th>\n",
       "      <th>salary</th>\n",
       "      <th>salary_currency</th>\n",
       "      <th>salary_in_usd</th>\n",
       "      <th>employee_residence</th>\n",
       "      <th>remote_ratio</th>\n",
       "      <th>company_location</th>\n",
       "      <th>company_size</th>\n",
       "    </tr>\n",
       "  </thead>\n",
       "  <tbody>\n",
       "    <tr>\n",
       "      <th>0</th>\n",
       "      <td>0</td>\n",
       "      <td>2020</td>\n",
       "      <td>MI</td>\n",
       "      <td>FT</td>\n",
       "      <td>Data Scientist</td>\n",
       "      <td>70000</td>\n",
       "      <td>EUR</td>\n",
       "      <td>79833</td>\n",
       "      <td>DE</td>\n",
       "      <td>0</td>\n",
       "      <td>DE</td>\n",
       "      <td>L</td>\n",
       "    </tr>\n",
       "    <tr>\n",
       "      <th>1</th>\n",
       "      <td>1</td>\n",
       "      <td>2020</td>\n",
       "      <td>SE</td>\n",
       "      <td>FT</td>\n",
       "      <td>Machine Learning Scientist</td>\n",
       "      <td>260000</td>\n",
       "      <td>USD</td>\n",
       "      <td>260000</td>\n",
       "      <td>JP</td>\n",
       "      <td>0</td>\n",
       "      <td>JP</td>\n",
       "      <td>S</td>\n",
       "    </tr>\n",
       "    <tr>\n",
       "      <th>2</th>\n",
       "      <td>2</td>\n",
       "      <td>2020</td>\n",
       "      <td>SE</td>\n",
       "      <td>FT</td>\n",
       "      <td>Big Data Engineer</td>\n",
       "      <td>85000</td>\n",
       "      <td>GBP</td>\n",
       "      <td>109024</td>\n",
       "      <td>GB</td>\n",
       "      <td>50</td>\n",
       "      <td>GB</td>\n",
       "      <td>M</td>\n",
       "    </tr>\n",
       "    <tr>\n",
       "      <th>3</th>\n",
       "      <td>3</td>\n",
       "      <td>2020</td>\n",
       "      <td>MI</td>\n",
       "      <td>FT</td>\n",
       "      <td>Product Data Analyst</td>\n",
       "      <td>20000</td>\n",
       "      <td>USD</td>\n",
       "      <td>20000</td>\n",
       "      <td>HN</td>\n",
       "      <td>0</td>\n",
       "      <td>HN</td>\n",
       "      <td>S</td>\n",
       "    </tr>\n",
       "    <tr>\n",
       "      <th>4</th>\n",
       "      <td>4</td>\n",
       "      <td>2020</td>\n",
       "      <td>SE</td>\n",
       "      <td>FT</td>\n",
       "      <td>Machine Learning Engineer</td>\n",
       "      <td>150000</td>\n",
       "      <td>USD</td>\n",
       "      <td>150000</td>\n",
       "      <td>US</td>\n",
       "      <td>50</td>\n",
       "      <td>US</td>\n",
       "      <td>L</td>\n",
       "    </tr>\n",
       "  </tbody>\n",
       "</table>\n",
       "</div>"
      ],
      "text/plain": [
       "   Unnamed: 0  work_year experience_level employment_type  \\\n",
       "0           0       2020               MI              FT   \n",
       "1           1       2020               SE              FT   \n",
       "2           2       2020               SE              FT   \n",
       "3           3       2020               MI              FT   \n",
       "4           4       2020               SE              FT   \n",
       "\n",
       "                    job_title  salary salary_currency  salary_in_usd  \\\n",
       "0              Data Scientist   70000             EUR          79833   \n",
       "1  Machine Learning Scientist  260000             USD         260000   \n",
       "2           Big Data Engineer   85000             GBP         109024   \n",
       "3        Product Data Analyst   20000             USD          20000   \n",
       "4   Machine Learning Engineer  150000             USD         150000   \n",
       "\n",
       "  employee_residence  remote_ratio company_location company_size  \n",
       "0                 DE             0               DE            L  \n",
       "1                 JP             0               JP            S  \n",
       "2                 GB            50               GB            M  \n",
       "3                 HN             0               HN            S  \n",
       "4                 US            50               US            L  "
      ]
     },
     "execution_count": 24,
     "metadata": {},
     "output_type": "execute_result"
    }
   ],
   "source": [
    "df.head() #gievs u first 5 row of df to give you an preview of df"
   ]
  },
  {
   "cell_type": "code",
   "execution_count": 25,
   "id": "75d90308",
   "metadata": {
    "execution": {
     "iopub.execute_input": "2023-06-24T13:07:07.584637Z",
     "iopub.status.busy": "2023-06-24T13:07:07.583738Z",
     "iopub.status.idle": "2023-06-24T13:07:07.595303Z",
     "shell.execute_reply": "2023-06-24T13:07:07.594499Z"
    },
    "papermill": {
     "duration": 0.035773,
     "end_time": "2023-06-24T13:07:07.597045",
     "exception": false,
     "start_time": "2023-06-24T13:07:07.561272",
     "status": "completed"
    },
    "tags": []
   },
   "outputs": [
    {
     "data": {
      "text/html": [
       "<div>\n",
       "<style scoped>\n",
       "    .dataframe tbody tr th:only-of-type {\n",
       "        vertical-align: middle;\n",
       "    }\n",
       "\n",
       "    .dataframe tbody tr th {\n",
       "        vertical-align: top;\n",
       "    }\n",
       "\n",
       "    .dataframe thead th {\n",
       "        text-align: right;\n",
       "    }\n",
       "</style>\n",
       "<table border=\"1\" class=\"dataframe\">\n",
       "  <thead>\n",
       "    <tr style=\"text-align: right;\">\n",
       "      <th></th>\n",
       "      <th>Unnamed: 0</th>\n",
       "      <th>work_year</th>\n",
       "      <th>experience_level</th>\n",
       "      <th>employment_type</th>\n",
       "      <th>job_title</th>\n",
       "      <th>salary</th>\n",
       "      <th>salary_currency</th>\n",
       "      <th>salary_in_usd</th>\n",
       "      <th>employee_residence</th>\n",
       "      <th>remote_ratio</th>\n",
       "      <th>company_location</th>\n",
       "      <th>company_size</th>\n",
       "    </tr>\n",
       "  </thead>\n",
       "  <tbody>\n",
       "    <tr>\n",
       "      <th>0</th>\n",
       "      <td>0</td>\n",
       "      <td>2020</td>\n",
       "      <td>MI</td>\n",
       "      <td>FT</td>\n",
       "      <td>Data Scientist</td>\n",
       "      <td>70000</td>\n",
       "      <td>EUR</td>\n",
       "      <td>79833</td>\n",
       "      <td>DE</td>\n",
       "      <td>0</td>\n",
       "      <td>DE</td>\n",
       "      <td>L</td>\n",
       "    </tr>\n",
       "    <tr>\n",
       "      <th>1</th>\n",
       "      <td>1</td>\n",
       "      <td>2020</td>\n",
       "      <td>SE</td>\n",
       "      <td>FT</td>\n",
       "      <td>Machine Learning Scientist</td>\n",
       "      <td>260000</td>\n",
       "      <td>USD</td>\n",
       "      <td>260000</td>\n",
       "      <td>JP</td>\n",
       "      <td>0</td>\n",
       "      <td>JP</td>\n",
       "      <td>S</td>\n",
       "    </tr>\n",
       "  </tbody>\n",
       "</table>\n",
       "</div>"
      ],
      "text/plain": [
       "   Unnamed: 0  work_year experience_level employment_type  \\\n",
       "0           0       2020               MI              FT   \n",
       "1           1       2020               SE              FT   \n",
       "\n",
       "                    job_title  salary salary_currency  salary_in_usd  \\\n",
       "0              Data Scientist   70000             EUR          79833   \n",
       "1  Machine Learning Scientist  260000             USD         260000   \n",
       "\n",
       "  employee_residence  remote_ratio company_location company_size  \n",
       "0                 DE             0               DE            L  \n",
       "1                 JP             0               JP            S  "
      ]
     },
     "execution_count": 25,
     "metadata": {},
     "output_type": "execute_result"
    }
   ],
   "source": [
    "df.head(2)  #gives first 2 rows"
   ]
  },
  {
   "cell_type": "code",
   "execution_count": 26,
   "id": "e8ccc860",
   "metadata": {
    "execution": {
     "iopub.execute_input": "2023-06-24T13:07:07.642616Z",
     "iopub.status.busy": "2023-06-24T13:07:07.641694Z",
     "iopub.status.idle": "2023-06-24T13:07:07.653899Z",
     "shell.execute_reply": "2023-06-24T13:07:07.653217Z"
    },
    "papermill": {
     "duration": 0.036465,
     "end_time": "2023-06-24T13:07:07.655471",
     "exception": false,
     "start_time": "2023-06-24T13:07:07.619006",
     "status": "completed"
    },
    "tags": []
   },
   "outputs": [
    {
     "data": {
      "text/html": [
       "<div>\n",
       "<style scoped>\n",
       "    .dataframe tbody tr th:only-of-type {\n",
       "        vertical-align: middle;\n",
       "    }\n",
       "\n",
       "    .dataframe tbody tr th {\n",
       "        vertical-align: top;\n",
       "    }\n",
       "\n",
       "    .dataframe thead th {\n",
       "        text-align: right;\n",
       "    }\n",
       "</style>\n",
       "<table border=\"1\" class=\"dataframe\">\n",
       "  <thead>\n",
       "    <tr style=\"text-align: right;\">\n",
       "      <th></th>\n",
       "      <th>Unnamed: 0</th>\n",
       "      <th>work_year</th>\n",
       "      <th>experience_level</th>\n",
       "      <th>employment_type</th>\n",
       "      <th>job_title</th>\n",
       "      <th>salary</th>\n",
       "      <th>salary_currency</th>\n",
       "      <th>salary_in_usd</th>\n",
       "      <th>employee_residence</th>\n",
       "      <th>remote_ratio</th>\n",
       "      <th>company_location</th>\n",
       "      <th>company_size</th>\n",
       "    </tr>\n",
       "  </thead>\n",
       "  <tbody>\n",
       "    <tr>\n",
       "      <th>602</th>\n",
       "      <td>602</td>\n",
       "      <td>2022</td>\n",
       "      <td>SE</td>\n",
       "      <td>FT</td>\n",
       "      <td>Data Engineer</td>\n",
       "      <td>154000</td>\n",
       "      <td>USD</td>\n",
       "      <td>154000</td>\n",
       "      <td>US</td>\n",
       "      <td>100</td>\n",
       "      <td>US</td>\n",
       "      <td>M</td>\n",
       "    </tr>\n",
       "    <tr>\n",
       "      <th>603</th>\n",
       "      <td>603</td>\n",
       "      <td>2022</td>\n",
       "      <td>SE</td>\n",
       "      <td>FT</td>\n",
       "      <td>Data Engineer</td>\n",
       "      <td>126000</td>\n",
       "      <td>USD</td>\n",
       "      <td>126000</td>\n",
       "      <td>US</td>\n",
       "      <td>100</td>\n",
       "      <td>US</td>\n",
       "      <td>M</td>\n",
       "    </tr>\n",
       "    <tr>\n",
       "      <th>604</th>\n",
       "      <td>604</td>\n",
       "      <td>2022</td>\n",
       "      <td>SE</td>\n",
       "      <td>FT</td>\n",
       "      <td>Data Analyst</td>\n",
       "      <td>129000</td>\n",
       "      <td>USD</td>\n",
       "      <td>129000</td>\n",
       "      <td>US</td>\n",
       "      <td>0</td>\n",
       "      <td>US</td>\n",
       "      <td>M</td>\n",
       "    </tr>\n",
       "    <tr>\n",
       "      <th>605</th>\n",
       "      <td>605</td>\n",
       "      <td>2022</td>\n",
       "      <td>SE</td>\n",
       "      <td>FT</td>\n",
       "      <td>Data Analyst</td>\n",
       "      <td>150000</td>\n",
       "      <td>USD</td>\n",
       "      <td>150000</td>\n",
       "      <td>US</td>\n",
       "      <td>100</td>\n",
       "      <td>US</td>\n",
       "      <td>M</td>\n",
       "    </tr>\n",
       "    <tr>\n",
       "      <th>606</th>\n",
       "      <td>606</td>\n",
       "      <td>2022</td>\n",
       "      <td>MI</td>\n",
       "      <td>FT</td>\n",
       "      <td>AI Scientist</td>\n",
       "      <td>200000</td>\n",
       "      <td>USD</td>\n",
       "      <td>200000</td>\n",
       "      <td>IN</td>\n",
       "      <td>100</td>\n",
       "      <td>US</td>\n",
       "      <td>L</td>\n",
       "    </tr>\n",
       "  </tbody>\n",
       "</table>\n",
       "</div>"
      ],
      "text/plain": [
       "     Unnamed: 0  work_year experience_level employment_type      job_title  \\\n",
       "602         602       2022               SE              FT  Data Engineer   \n",
       "603         603       2022               SE              FT  Data Engineer   \n",
       "604         604       2022               SE              FT   Data Analyst   \n",
       "605         605       2022               SE              FT   Data Analyst   \n",
       "606         606       2022               MI              FT   AI Scientist   \n",
       "\n",
       "     salary salary_currency  salary_in_usd employee_residence  remote_ratio  \\\n",
       "602  154000             USD         154000                 US           100   \n",
       "603  126000             USD         126000                 US           100   \n",
       "604  129000             USD         129000                 US             0   \n",
       "605  150000             USD         150000                 US           100   \n",
       "606  200000             USD         200000                 IN           100   \n",
       "\n",
       "    company_location company_size  \n",
       "602               US            M  \n",
       "603               US            M  \n",
       "604               US            M  \n",
       "605               US            M  \n",
       "606               US            L  "
      ]
     },
     "execution_count": 26,
     "metadata": {},
     "output_type": "execute_result"
    }
   ],
   "source": [
    "df.tail()  #last 5 rows"
   ]
  },
  {
   "cell_type": "code",
   "execution_count": 27,
   "id": "41248119",
   "metadata": {
    "execution": {
     "iopub.execute_input": "2023-06-24T13:07:07.701240Z",
     "iopub.status.busy": "2023-06-24T13:07:07.700877Z",
     "iopub.status.idle": "2023-06-24T13:07:07.725526Z",
     "shell.execute_reply": "2023-06-24T13:07:07.724662Z"
    },
    "papermill": {
     "duration": 0.049901,
     "end_time": "2023-06-24T13:07:07.727745",
     "exception": false,
     "start_time": "2023-06-24T13:07:07.677844",
     "status": "completed"
    },
    "tags": []
   },
   "outputs": [
    {
     "data": {
      "text/html": [
       "<div>\n",
       "<style scoped>\n",
       "    .dataframe tbody tr th:only-of-type {\n",
       "        vertical-align: middle;\n",
       "    }\n",
       "\n",
       "    .dataframe tbody tr th {\n",
       "        vertical-align: top;\n",
       "    }\n",
       "\n",
       "    .dataframe thead th {\n",
       "        text-align: right;\n",
       "    }\n",
       "</style>\n",
       "<table border=\"1\" class=\"dataframe\">\n",
       "  <thead>\n",
       "    <tr style=\"text-align: right;\">\n",
       "      <th></th>\n",
       "      <th>Unnamed: 0</th>\n",
       "      <th>work_year</th>\n",
       "      <th>salary</th>\n",
       "      <th>salary_in_usd</th>\n",
       "      <th>remote_ratio</th>\n",
       "    </tr>\n",
       "  </thead>\n",
       "  <tbody>\n",
       "    <tr>\n",
       "      <th>count</th>\n",
       "      <td>607.000000</td>\n",
       "      <td>607.000000</td>\n",
       "      <td>6.070000e+02</td>\n",
       "      <td>607.000000</td>\n",
       "      <td>607.00000</td>\n",
       "    </tr>\n",
       "    <tr>\n",
       "      <th>mean</th>\n",
       "      <td>303.000000</td>\n",
       "      <td>2021.405272</td>\n",
       "      <td>3.240001e+05</td>\n",
       "      <td>112297.869852</td>\n",
       "      <td>70.92257</td>\n",
       "    </tr>\n",
       "    <tr>\n",
       "      <th>std</th>\n",
       "      <td>175.370085</td>\n",
       "      <td>0.692133</td>\n",
       "      <td>1.544357e+06</td>\n",
       "      <td>70957.259411</td>\n",
       "      <td>40.70913</td>\n",
       "    </tr>\n",
       "    <tr>\n",
       "      <th>min</th>\n",
       "      <td>0.000000</td>\n",
       "      <td>2020.000000</td>\n",
       "      <td>4.000000e+03</td>\n",
       "      <td>2859.000000</td>\n",
       "      <td>0.00000</td>\n",
       "    </tr>\n",
       "    <tr>\n",
       "      <th>25%</th>\n",
       "      <td>151.500000</td>\n",
       "      <td>2021.000000</td>\n",
       "      <td>7.000000e+04</td>\n",
       "      <td>62726.000000</td>\n",
       "      <td>50.00000</td>\n",
       "    </tr>\n",
       "    <tr>\n",
       "      <th>50%</th>\n",
       "      <td>303.000000</td>\n",
       "      <td>2022.000000</td>\n",
       "      <td>1.150000e+05</td>\n",
       "      <td>101570.000000</td>\n",
       "      <td>100.00000</td>\n",
       "    </tr>\n",
       "    <tr>\n",
       "      <th>75%</th>\n",
       "      <td>454.500000</td>\n",
       "      <td>2022.000000</td>\n",
       "      <td>1.650000e+05</td>\n",
       "      <td>150000.000000</td>\n",
       "      <td>100.00000</td>\n",
       "    </tr>\n",
       "    <tr>\n",
       "      <th>max</th>\n",
       "      <td>606.000000</td>\n",
       "      <td>2022.000000</td>\n",
       "      <td>3.040000e+07</td>\n",
       "      <td>600000.000000</td>\n",
       "      <td>100.00000</td>\n",
       "    </tr>\n",
       "  </tbody>\n",
       "</table>\n",
       "</div>"
      ],
      "text/plain": [
       "       Unnamed: 0    work_year        salary  salary_in_usd  remote_ratio\n",
       "count  607.000000   607.000000  6.070000e+02     607.000000     607.00000\n",
       "mean   303.000000  2021.405272  3.240001e+05  112297.869852      70.92257\n",
       "std    175.370085     0.692133  1.544357e+06   70957.259411      40.70913\n",
       "min      0.000000  2020.000000  4.000000e+03    2859.000000       0.00000\n",
       "25%    151.500000  2021.000000  7.000000e+04   62726.000000      50.00000\n",
       "50%    303.000000  2022.000000  1.150000e+05  101570.000000     100.00000\n",
       "75%    454.500000  2022.000000  1.650000e+05  150000.000000     100.00000\n",
       "max    606.000000  2022.000000  3.040000e+07  600000.000000     100.00000"
      ]
     },
     "execution_count": 27,
     "metadata": {},
     "output_type": "execute_result"
    }
   ],
   "source": [
    "df.describe()  #it gives about discription of our df like rows,mean,std,min"
   ]
  },
  {
   "cell_type": "code",
   "execution_count": 28,
   "id": "1f6b55ec",
   "metadata": {
    "execution": {
     "iopub.execute_input": "2023-06-24T13:07:07.773603Z",
     "iopub.status.busy": "2023-06-24T13:07:07.773168Z",
     "iopub.status.idle": "2023-06-24T13:07:07.791350Z",
     "shell.execute_reply": "2023-06-24T13:07:07.789974Z"
    },
    "papermill": {
     "duration": 0.043112,
     "end_time": "2023-06-24T13:07:07.793381",
     "exception": false,
     "start_time": "2023-06-24T13:07:07.750269",
     "status": "completed"
    },
    "tags": []
   },
   "outputs": [
    {
     "name": "stdout",
     "output_type": "stream",
     "text": [
      "<class 'pandas.core.frame.DataFrame'>\n",
      "RangeIndex: 607 entries, 0 to 606\n",
      "Data columns (total 12 columns):\n",
      " #   Column              Non-Null Count  Dtype \n",
      "---  ------              --------------  ----- \n",
      " 0   Unnamed: 0          607 non-null    int64 \n",
      " 1   work_year           607 non-null    int64 \n",
      " 2   experience_level    607 non-null    object\n",
      " 3   employment_type     607 non-null    object\n",
      " 4   job_title           607 non-null    object\n",
      " 5   salary              607 non-null    int64 \n",
      " 6   salary_currency     607 non-null    object\n",
      " 7   salary_in_usd       607 non-null    int64 \n",
      " 8   employee_residence  607 non-null    object\n",
      " 9   remote_ratio        607 non-null    int64 \n",
      " 10  company_location    607 non-null    object\n",
      " 11  company_size        607 non-null    object\n",
      "dtypes: int64(5), object(7)\n",
      "memory usage: 57.0+ KB\n"
     ]
    }
   ],
   "source": [
    "df.info() #it also descibes the df \n",
    "#we can how many null values are there in df with info function"
   ]
  },
  {
   "cell_type": "code",
   "execution_count": 29,
   "id": "8f0c225e",
   "metadata": {
    "execution": {
     "iopub.execute_input": "2023-06-24T13:07:07.843600Z",
     "iopub.status.busy": "2023-06-24T13:07:07.843077Z",
     "iopub.status.idle": "2023-06-24T13:07:07.870027Z",
     "shell.execute_reply": "2023-06-24T13:07:07.869317Z"
    },
    "papermill": {
     "duration": 0.055485,
     "end_time": "2023-06-24T13:07:07.871840",
     "exception": false,
     "start_time": "2023-06-24T13:07:07.816355",
     "status": "completed"
    },
    "tags": []
   },
   "outputs": [
    {
     "data": {
      "text/html": [
       "<div>\n",
       "<style scoped>\n",
       "    .dataframe tbody tr th:only-of-type {\n",
       "        vertical-align: middle;\n",
       "    }\n",
       "\n",
       "    .dataframe tbody tr th {\n",
       "        vertical-align: top;\n",
       "    }\n",
       "\n",
       "    .dataframe thead th {\n",
       "        text-align: right;\n",
       "    }\n",
       "</style>\n",
       "<table border=\"1\" class=\"dataframe\">\n",
       "  <thead>\n",
       "    <tr style=\"text-align: right;\">\n",
       "      <th></th>\n",
       "      <th>work_year</th>\n",
       "      <th>experience_level</th>\n",
       "      <th>employment_type</th>\n",
       "      <th>job_title</th>\n",
       "      <th>salary</th>\n",
       "      <th>salary_currency</th>\n",
       "      <th>salary_in_usd</th>\n",
       "      <th>employee_residence</th>\n",
       "      <th>remote_ratio</th>\n",
       "      <th>company_location</th>\n",
       "      <th>company_size</th>\n",
       "    </tr>\n",
       "  </thead>\n",
       "  <tbody>\n",
       "    <tr>\n",
       "      <th>0</th>\n",
       "      <td>2023</td>\n",
       "      <td>SE</td>\n",
       "      <td>FT</td>\n",
       "      <td>Principal Data Scientist</td>\n",
       "      <td>80000</td>\n",
       "      <td>EUR</td>\n",
       "      <td>85847</td>\n",
       "      <td>ES</td>\n",
       "      <td>100</td>\n",
       "      <td>ES</td>\n",
       "      <td>L</td>\n",
       "    </tr>\n",
       "    <tr>\n",
       "      <th>1</th>\n",
       "      <td>2023</td>\n",
       "      <td>MI</td>\n",
       "      <td>CT</td>\n",
       "      <td>ML Engineer</td>\n",
       "      <td>30000</td>\n",
       "      <td>USD</td>\n",
       "      <td>30000</td>\n",
       "      <td>US</td>\n",
       "      <td>100</td>\n",
       "      <td>US</td>\n",
       "      <td>S</td>\n",
       "    </tr>\n",
       "    <tr>\n",
       "      <th>2</th>\n",
       "      <td>2023</td>\n",
       "      <td>MI</td>\n",
       "      <td>CT</td>\n",
       "      <td>ML Engineer</td>\n",
       "      <td>25500</td>\n",
       "      <td>USD</td>\n",
       "      <td>25500</td>\n",
       "      <td>US</td>\n",
       "      <td>100</td>\n",
       "      <td>US</td>\n",
       "      <td>S</td>\n",
       "    </tr>\n",
       "    <tr>\n",
       "      <th>3</th>\n",
       "      <td>2023</td>\n",
       "      <td>SE</td>\n",
       "      <td>FT</td>\n",
       "      <td>Data Scientist</td>\n",
       "      <td>175000</td>\n",
       "      <td>USD</td>\n",
       "      <td>175000</td>\n",
       "      <td>CA</td>\n",
       "      <td>100</td>\n",
       "      <td>CA</td>\n",
       "      <td>M</td>\n",
       "    </tr>\n",
       "    <tr>\n",
       "      <th>4</th>\n",
       "      <td>2023</td>\n",
       "      <td>SE</td>\n",
       "      <td>FT</td>\n",
       "      <td>Data Scientist</td>\n",
       "      <td>120000</td>\n",
       "      <td>USD</td>\n",
       "      <td>120000</td>\n",
       "      <td>CA</td>\n",
       "      <td>100</td>\n",
       "      <td>CA</td>\n",
       "      <td>M</td>\n",
       "    </tr>\n",
       "  </tbody>\n",
       "</table>\n",
       "</div>"
      ],
      "text/plain": [
       "   work_year experience_level employment_type                 job_title  \\\n",
       "0       2023               SE              FT  Principal Data Scientist   \n",
       "1       2023               MI              CT               ML Engineer   \n",
       "2       2023               MI              CT               ML Engineer   \n",
       "3       2023               SE              FT            Data Scientist   \n",
       "4       2023               SE              FT            Data Scientist   \n",
       "\n",
       "   salary salary_currency  salary_in_usd employee_residence  remote_ratio  \\\n",
       "0   80000             EUR          85847                 ES           100   \n",
       "1   30000             USD          30000                 US           100   \n",
       "2   25500             USD          25500                 US           100   \n",
       "3  175000             USD         175000                 CA           100   \n",
       "4  120000             USD         120000                 CA           100   \n",
       "\n",
       "  company_location company_size  \n",
       "0               ES            L  \n",
       "1               US            S  \n",
       "2               US            S  \n",
       "3               CA            M  \n",
       "4               CA            M  "
      ]
     },
     "execution_count": 29,
     "metadata": {},
     "output_type": "execute_result"
    }
   ],
   "source": [
    "df2=pd.read_csv(r\"/kaggle/input/data-science-salaries-2023/ds_salaries.csv\")\n",
    "df2.head()"
   ]
  },
  {
   "cell_type": "code",
   "execution_count": 30,
   "id": "f8c4b83d",
   "metadata": {
    "execution": {
     "iopub.execute_input": "2023-06-24T13:07:07.917689Z",
     "iopub.status.busy": "2023-06-24T13:07:07.917402Z",
     "iopub.status.idle": "2023-06-24T13:07:07.927752Z",
     "shell.execute_reply": "2023-06-24T13:07:07.926849Z"
    },
    "papermill": {
     "duration": 0.035331,
     "end_time": "2023-06-24T13:07:07.929955",
     "exception": false,
     "start_time": "2023-06-24T13:07:07.894624",
     "status": "completed"
    },
    "tags": []
   },
   "outputs": [
    {
     "name": "stdout",
     "output_type": "stream",
     "text": [
      "<class 'pandas.core.frame.DataFrame'>\n",
      "RangeIndex: 607 entries, 0 to 606\n",
      "Data columns (total 12 columns):\n",
      " #   Column              Non-Null Count  Dtype \n",
      "---  ------              --------------  ----- \n",
      " 0   Unnamed: 0          607 non-null    int64 \n",
      " 1   work_year           607 non-null    int64 \n",
      " 2   experience_level    607 non-null    object\n",
      " 3   employment_type     607 non-null    object\n",
      " 4   job_title           607 non-null    object\n",
      " 5   salary              607 non-null    int64 \n",
      " 6   salary_currency     607 non-null    object\n",
      " 7   salary_in_usd       607 non-null    int64 \n",
      " 8   employee_residence  607 non-null    object\n",
      " 9   remote_ratio        607 non-null    int64 \n",
      " 10  company_location    607 non-null    object\n",
      " 11  company_size        607 non-null    object\n",
      "dtypes: int64(5), object(7)\n",
      "memory usage: 57.0+ KB\n"
     ]
    }
   ],
   "source": [
    "df.info()"
   ]
  },
  {
   "cell_type": "code",
   "execution_count": 31,
   "id": "af2ecb96",
   "metadata": {
    "execution": {
     "iopub.execute_input": "2023-06-24T13:07:07.976549Z",
     "iopub.status.busy": "2023-06-24T13:07:07.975685Z",
     "iopub.status.idle": "2023-06-24T13:07:07.995511Z",
     "shell.execute_reply": "2023-06-24T13:07:07.994852Z"
    },
    "papermill": {
     "duration": 0.044536,
     "end_time": "2023-06-24T13:07:07.997180",
     "exception": false,
     "start_time": "2023-06-24T13:07:07.952644",
     "status": "completed"
    },
    "tags": []
   },
   "outputs": [
    {
     "data": {
      "text/html": [
       "<div>\n",
       "<style scoped>\n",
       "    .dataframe tbody tr th:only-of-type {\n",
       "        vertical-align: middle;\n",
       "    }\n",
       "\n",
       "    .dataframe tbody tr th {\n",
       "        vertical-align: top;\n",
       "    }\n",
       "\n",
       "    .dataframe thead th {\n",
       "        text-align: right;\n",
       "    }\n",
       "</style>\n",
       "<table border=\"1\" class=\"dataframe\">\n",
       "  <thead>\n",
       "    <tr style=\"text-align: right;\">\n",
       "      <th></th>\n",
       "      <th>Unnamed: 0</th>\n",
       "      <th>work_year</th>\n",
       "      <th>salary</th>\n",
       "      <th>salary_in_usd</th>\n",
       "      <th>remote_ratio</th>\n",
       "    </tr>\n",
       "  </thead>\n",
       "  <tbody>\n",
       "    <tr>\n",
       "      <th>count</th>\n",
       "      <td>607.000000</td>\n",
       "      <td>607.000000</td>\n",
       "      <td>6.070000e+02</td>\n",
       "      <td>607.000000</td>\n",
       "      <td>607.00000</td>\n",
       "    </tr>\n",
       "    <tr>\n",
       "      <th>mean</th>\n",
       "      <td>303.000000</td>\n",
       "      <td>2021.405272</td>\n",
       "      <td>3.240001e+05</td>\n",
       "      <td>112297.869852</td>\n",
       "      <td>70.92257</td>\n",
       "    </tr>\n",
       "    <tr>\n",
       "      <th>std</th>\n",
       "      <td>175.370085</td>\n",
       "      <td>0.692133</td>\n",
       "      <td>1.544357e+06</td>\n",
       "      <td>70957.259411</td>\n",
       "      <td>40.70913</td>\n",
       "    </tr>\n",
       "    <tr>\n",
       "      <th>min</th>\n",
       "      <td>0.000000</td>\n",
       "      <td>2020.000000</td>\n",
       "      <td>4.000000e+03</td>\n",
       "      <td>2859.000000</td>\n",
       "      <td>0.00000</td>\n",
       "    </tr>\n",
       "    <tr>\n",
       "      <th>25%</th>\n",
       "      <td>151.500000</td>\n",
       "      <td>2021.000000</td>\n",
       "      <td>7.000000e+04</td>\n",
       "      <td>62726.000000</td>\n",
       "      <td>50.00000</td>\n",
       "    </tr>\n",
       "    <tr>\n",
       "      <th>50%</th>\n",
       "      <td>303.000000</td>\n",
       "      <td>2022.000000</td>\n",
       "      <td>1.150000e+05</td>\n",
       "      <td>101570.000000</td>\n",
       "      <td>100.00000</td>\n",
       "    </tr>\n",
       "    <tr>\n",
       "      <th>75%</th>\n",
       "      <td>454.500000</td>\n",
       "      <td>2022.000000</td>\n",
       "      <td>1.650000e+05</td>\n",
       "      <td>150000.000000</td>\n",
       "      <td>100.00000</td>\n",
       "    </tr>\n",
       "    <tr>\n",
       "      <th>max</th>\n",
       "      <td>606.000000</td>\n",
       "      <td>2022.000000</td>\n",
       "      <td>3.040000e+07</td>\n",
       "      <td>600000.000000</td>\n",
       "      <td>100.00000</td>\n",
       "    </tr>\n",
       "  </tbody>\n",
       "</table>\n",
       "</div>"
      ],
      "text/plain": [
       "       Unnamed: 0    work_year        salary  salary_in_usd  remote_ratio\n",
       "count  607.000000   607.000000  6.070000e+02     607.000000     607.00000\n",
       "mean   303.000000  2021.405272  3.240001e+05  112297.869852      70.92257\n",
       "std    175.370085     0.692133  1.544357e+06   70957.259411      40.70913\n",
       "min      0.000000  2020.000000  4.000000e+03    2859.000000       0.00000\n",
       "25%    151.500000  2021.000000  7.000000e+04   62726.000000      50.00000\n",
       "50%    303.000000  2022.000000  1.150000e+05  101570.000000     100.00000\n",
       "75%    454.500000  2022.000000  1.650000e+05  150000.000000     100.00000\n",
       "max    606.000000  2022.000000  3.040000e+07  600000.000000     100.00000"
      ]
     },
     "execution_count": 31,
     "metadata": {},
     "output_type": "execute_result"
    }
   ],
   "source": [
    "df.describe()"
   ]
  },
  {
   "cell_type": "code",
   "execution_count": 32,
   "id": "57853727",
   "metadata": {
    "execution": {
     "iopub.execute_input": "2023-06-24T13:07:08.047961Z",
     "iopub.status.busy": "2023-06-24T13:07:08.047309Z",
     "iopub.status.idle": "2023-06-24T13:07:08.057763Z",
     "shell.execute_reply": "2023-06-24T13:07:08.056761Z"
    },
    "papermill": {
     "duration": 0.037998,
     "end_time": "2023-06-24T13:07:08.060219",
     "exception": false,
     "start_time": "2023-06-24T13:07:08.022221",
     "status": "completed"
    },
    "tags": []
   },
   "outputs": [
    {
     "name": "stdout",
     "output_type": "stream",
     "text": [
      "<class 'pandas.core.frame.DataFrame'>\n",
      "RangeIndex: 607 entries, 0 to 606\n",
      "Data columns (total 12 columns):\n",
      " #   Column              Non-Null Count  Dtype \n",
      "---  ------              --------------  ----- \n",
      " 0   Unnamed: 0          607 non-null    int64 \n",
      " 1   work_year           607 non-null    int64 \n",
      " 2   experience_level    607 non-null    object\n",
      " 3   employment_type     607 non-null    object\n",
      " 4   job_title           607 non-null    object\n",
      " 5   salary              607 non-null    int64 \n",
      " 6   salary_currency     607 non-null    object\n",
      " 7   salary_in_usd       607 non-null    int64 \n",
      " 8   employee_residence  607 non-null    object\n",
      " 9   remote_ratio        607 non-null    int64 \n",
      " 10  company_location    607 non-null    object\n",
      " 11  company_size        607 non-null    object\n",
      "dtypes: int64(5), object(7)\n",
      "memory usage: 57.0+ KB\n"
     ]
    }
   ],
   "source": [
    "df.info()"
   ]
  },
  {
   "cell_type": "markdown",
   "id": "03aac0bc",
   "metadata": {
    "papermill": {
     "duration": 0.022101,
     "end_time": "2023-06-24T13:07:08.105733",
     "exception": false,
     "start_time": "2023-06-24T13:07:08.083632",
     "status": "completed"
    },
    "tags": []
   },
   "source": [
    "# **Handling Missing Values**"
   ]
  },
  {
   "cell_type": "code",
   "execution_count": 33,
   "id": "ff9862f5",
   "metadata": {
    "execution": {
     "iopub.execute_input": "2023-06-24T13:07:08.161872Z",
     "iopub.status.busy": "2023-06-24T13:07:08.161563Z",
     "iopub.status.idle": "2023-06-24T13:07:08.183119Z",
     "shell.execute_reply": "2023-06-24T13:07:08.181809Z"
    },
    "papermill": {
     "duration": 0.053913,
     "end_time": "2023-06-24T13:07:08.185194",
     "exception": false,
     "start_time": "2023-06-24T13:07:08.131281",
     "status": "completed"
    },
    "tags": []
   },
   "outputs": [
    {
     "data": {
      "text/html": [
       "<div>\n",
       "<style scoped>\n",
       "    .dataframe tbody tr th:only-of-type {\n",
       "        vertical-align: middle;\n",
       "    }\n",
       "\n",
       "    .dataframe tbody tr th {\n",
       "        vertical-align: top;\n",
       "    }\n",
       "\n",
       "    .dataframe thead th {\n",
       "        text-align: right;\n",
       "    }\n",
       "</style>\n",
       "<table border=\"1\" class=\"dataframe\">\n",
       "  <thead>\n",
       "    <tr style=\"text-align: right;\">\n",
       "      <th></th>\n",
       "      <th>Roll No.</th>\n",
       "      <th>Physics</th>\n",
       "      <th>Chemistry</th>\n",
       "      <th>Maths</th>\n",
       "      <th>Computer</th>\n",
       "    </tr>\n",
       "  </thead>\n",
       "  <tbody>\n",
       "    <tr>\n",
       "      <th>0</th>\n",
       "      <td>1</td>\n",
       "      <td>56.0</td>\n",
       "      <td>57.0</td>\n",
       "      <td>58.0</td>\n",
       "      <td>59.0</td>\n",
       "    </tr>\n",
       "    <tr>\n",
       "      <th>1</th>\n",
       "      <td>2</td>\n",
       "      <td>23.0</td>\n",
       "      <td>24.0</td>\n",
       "      <td>25.0</td>\n",
       "      <td>26.0</td>\n",
       "    </tr>\n",
       "    <tr>\n",
       "      <th>2</th>\n",
       "      <td>3</td>\n",
       "      <td>89.0</td>\n",
       "      <td>25.0</td>\n",
       "      <td>26.0</td>\n",
       "      <td>27.0</td>\n",
       "    </tr>\n",
       "    <tr>\n",
       "      <th>3</th>\n",
       "      <td>4</td>\n",
       "      <td>45.0</td>\n",
       "      <td>26.0</td>\n",
       "      <td>27.0</td>\n",
       "      <td>28.0</td>\n",
       "    </tr>\n",
       "    <tr>\n",
       "      <th>4</th>\n",
       "      <td>5</td>\n",
       "      <td>23.0</td>\n",
       "      <td>27.0</td>\n",
       "      <td>28.0</td>\n",
       "      <td>29.0</td>\n",
       "    </tr>\n",
       "  </tbody>\n",
       "</table>\n",
       "</div>"
      ],
      "text/plain": [
       "   Roll No.  Physics  Chemistry  Maths  Computer\n",
       "0         1     56.0       57.0   58.0      59.0\n",
       "1         2     23.0       24.0   25.0      26.0\n",
       "2         3     89.0       25.0   26.0      27.0\n",
       "3         4     45.0       26.0   27.0      28.0\n",
       "4         5     23.0       27.0   28.0      29.0"
      ]
     },
     "execution_count": 33,
     "metadata": {},
     "output_type": "execute_result"
    }
   ],
   "source": [
    "df=pd.read_csv(r\"/kaggle/input/sample/sample.csv\")\n",
    "df.head()"
   ]
  },
  {
   "cell_type": "code",
   "execution_count": 34,
   "id": "4ac58e85",
   "metadata": {
    "execution": {
     "iopub.execute_input": "2023-06-24T13:07:08.240621Z",
     "iopub.status.busy": "2023-06-24T13:07:08.240297Z",
     "iopub.status.idle": "2023-06-24T13:07:08.255060Z",
     "shell.execute_reply": "2023-06-24T13:07:08.253838Z"
    },
    "papermill": {
     "duration": 0.044436,
     "end_time": "2023-06-24T13:07:08.257374",
     "exception": false,
     "start_time": "2023-06-24T13:07:08.212938",
     "status": "completed"
    },
    "tags": []
   },
   "outputs": [
    {
     "data": {
      "text/html": [
       "<div>\n",
       "<style scoped>\n",
       "    .dataframe tbody tr th:only-of-type {\n",
       "        vertical-align: middle;\n",
       "    }\n",
       "\n",
       "    .dataframe tbody tr th {\n",
       "        vertical-align: top;\n",
       "    }\n",
       "\n",
       "    .dataframe thead th {\n",
       "        text-align: right;\n",
       "    }\n",
       "</style>\n",
       "<table border=\"1\" class=\"dataframe\">\n",
       "  <thead>\n",
       "    <tr style=\"text-align: right;\">\n",
       "      <th></th>\n",
       "      <th>Roll No.</th>\n",
       "      <th>Physics</th>\n",
       "      <th>Chemistry</th>\n",
       "      <th>Maths</th>\n",
       "      <th>Computer</th>\n",
       "    </tr>\n",
       "  </thead>\n",
       "  <tbody>\n",
       "    <tr>\n",
       "      <th>0</th>\n",
       "      <td>False</td>\n",
       "      <td>False</td>\n",
       "      <td>False</td>\n",
       "      <td>False</td>\n",
       "      <td>False</td>\n",
       "    </tr>\n",
       "    <tr>\n",
       "      <th>1</th>\n",
       "      <td>False</td>\n",
       "      <td>False</td>\n",
       "      <td>False</td>\n",
       "      <td>False</td>\n",
       "      <td>False</td>\n",
       "    </tr>\n",
       "    <tr>\n",
       "      <th>2</th>\n",
       "      <td>False</td>\n",
       "      <td>False</td>\n",
       "      <td>False</td>\n",
       "      <td>False</td>\n",
       "      <td>False</td>\n",
       "    </tr>\n",
       "    <tr>\n",
       "      <th>3</th>\n",
       "      <td>False</td>\n",
       "      <td>False</td>\n",
       "      <td>False</td>\n",
       "      <td>False</td>\n",
       "      <td>False</td>\n",
       "    </tr>\n",
       "    <tr>\n",
       "      <th>4</th>\n",
       "      <td>False</td>\n",
       "      <td>False</td>\n",
       "      <td>False</td>\n",
       "      <td>False</td>\n",
       "      <td>False</td>\n",
       "    </tr>\n",
       "    <tr>\n",
       "      <th>5</th>\n",
       "      <td>False</td>\n",
       "      <td>False</td>\n",
       "      <td>True</td>\n",
       "      <td>False</td>\n",
       "      <td>False</td>\n",
       "    </tr>\n",
       "    <tr>\n",
       "      <th>6</th>\n",
       "      <td>False</td>\n",
       "      <td>False</td>\n",
       "      <td>False</td>\n",
       "      <td>False</td>\n",
       "      <td>False</td>\n",
       "    </tr>\n",
       "    <tr>\n",
       "      <th>7</th>\n",
       "      <td>False</td>\n",
       "      <td>False</td>\n",
       "      <td>False</td>\n",
       "      <td>False</td>\n",
       "      <td>False</td>\n",
       "    </tr>\n",
       "    <tr>\n",
       "      <th>8</th>\n",
       "      <td>False</td>\n",
       "      <td>True</td>\n",
       "      <td>False</td>\n",
       "      <td>False</td>\n",
       "      <td>False</td>\n",
       "    </tr>\n",
       "    <tr>\n",
       "      <th>9</th>\n",
       "      <td>False</td>\n",
       "      <td>False</td>\n",
       "      <td>False</td>\n",
       "      <td>False</td>\n",
       "      <td>False</td>\n",
       "    </tr>\n",
       "    <tr>\n",
       "      <th>10</th>\n",
       "      <td>False</td>\n",
       "      <td>True</td>\n",
       "      <td>False</td>\n",
       "      <td>False</td>\n",
       "      <td>False</td>\n",
       "    </tr>\n",
       "    <tr>\n",
       "      <th>11</th>\n",
       "      <td>False</td>\n",
       "      <td>False</td>\n",
       "      <td>True</td>\n",
       "      <td>False</td>\n",
       "      <td>False</td>\n",
       "    </tr>\n",
       "    <tr>\n",
       "      <th>12</th>\n",
       "      <td>False</td>\n",
       "      <td>False</td>\n",
       "      <td>False</td>\n",
       "      <td>False</td>\n",
       "      <td>False</td>\n",
       "    </tr>\n",
       "    <tr>\n",
       "      <th>13</th>\n",
       "      <td>False</td>\n",
       "      <td>False</td>\n",
       "      <td>True</td>\n",
       "      <td>True</td>\n",
       "      <td>False</td>\n",
       "    </tr>\n",
       "    <tr>\n",
       "      <th>14</th>\n",
       "      <td>False</td>\n",
       "      <td>True</td>\n",
       "      <td>False</td>\n",
       "      <td>False</td>\n",
       "      <td>False</td>\n",
       "    </tr>\n",
       "    <tr>\n",
       "      <th>15</th>\n",
       "      <td>False</td>\n",
       "      <td>False</td>\n",
       "      <td>False</td>\n",
       "      <td>False</td>\n",
       "      <td>False</td>\n",
       "    </tr>\n",
       "    <tr>\n",
       "      <th>16</th>\n",
       "      <td>False</td>\n",
       "      <td>False</td>\n",
       "      <td>False</td>\n",
       "      <td>False</td>\n",
       "      <td>False</td>\n",
       "    </tr>\n",
       "    <tr>\n",
       "      <th>17</th>\n",
       "      <td>False</td>\n",
       "      <td>False</td>\n",
       "      <td>False</td>\n",
       "      <td>False</td>\n",
       "      <td>False</td>\n",
       "    </tr>\n",
       "    <tr>\n",
       "      <th>18</th>\n",
       "      <td>False</td>\n",
       "      <td>False</td>\n",
       "      <td>False</td>\n",
       "      <td>False</td>\n",
       "      <td>False</td>\n",
       "    </tr>\n",
       "    <tr>\n",
       "      <th>19</th>\n",
       "      <td>False</td>\n",
       "      <td>False</td>\n",
       "      <td>False</td>\n",
       "      <td>False</td>\n",
       "      <td>False</td>\n",
       "    </tr>\n",
       "    <tr>\n",
       "      <th>20</th>\n",
       "      <td>False</td>\n",
       "      <td>False</td>\n",
       "      <td>False</td>\n",
       "      <td>False</td>\n",
       "      <td>False</td>\n",
       "    </tr>\n",
       "    <tr>\n",
       "      <th>21</th>\n",
       "      <td>False</td>\n",
       "      <td>False</td>\n",
       "      <td>False</td>\n",
       "      <td>False</td>\n",
       "      <td>False</td>\n",
       "    </tr>\n",
       "    <tr>\n",
       "      <th>22</th>\n",
       "      <td>False</td>\n",
       "      <td>False</td>\n",
       "      <td>False</td>\n",
       "      <td>False</td>\n",
       "      <td>False</td>\n",
       "    </tr>\n",
       "    <tr>\n",
       "      <th>23</th>\n",
       "      <td>False</td>\n",
       "      <td>False</td>\n",
       "      <td>False</td>\n",
       "      <td>False</td>\n",
       "      <td>False</td>\n",
       "    </tr>\n",
       "    <tr>\n",
       "      <th>24</th>\n",
       "      <td>False</td>\n",
       "      <td>False</td>\n",
       "      <td>True</td>\n",
       "      <td>True</td>\n",
       "      <td>False</td>\n",
       "    </tr>\n",
       "    <tr>\n",
       "      <th>25</th>\n",
       "      <td>False</td>\n",
       "      <td>False</td>\n",
       "      <td>False</td>\n",
       "      <td>False</td>\n",
       "      <td>False</td>\n",
       "    </tr>\n",
       "    <tr>\n",
       "      <th>26</th>\n",
       "      <td>False</td>\n",
       "      <td>False</td>\n",
       "      <td>False</td>\n",
       "      <td>False</td>\n",
       "      <td>False</td>\n",
       "    </tr>\n",
       "    <tr>\n",
       "      <th>27</th>\n",
       "      <td>False</td>\n",
       "      <td>False</td>\n",
       "      <td>False</td>\n",
       "      <td>False</td>\n",
       "      <td>True</td>\n",
       "    </tr>\n",
       "    <tr>\n",
       "      <th>28</th>\n",
       "      <td>False</td>\n",
       "      <td>False</td>\n",
       "      <td>False</td>\n",
       "      <td>False</td>\n",
       "      <td>False</td>\n",
       "    </tr>\n",
       "    <tr>\n",
       "      <th>29</th>\n",
       "      <td>False</td>\n",
       "      <td>False</td>\n",
       "      <td>False</td>\n",
       "      <td>False</td>\n",
       "      <td>False</td>\n",
       "    </tr>\n",
       "  </tbody>\n",
       "</table>\n",
       "</div>"
      ],
      "text/plain": [
       "    Roll No.  Physics  Chemistry  Maths  Computer\n",
       "0      False    False      False  False     False\n",
       "1      False    False      False  False     False\n",
       "2      False    False      False  False     False\n",
       "3      False    False      False  False     False\n",
       "4      False    False      False  False     False\n",
       "5      False    False       True  False     False\n",
       "6      False    False      False  False     False\n",
       "7      False    False      False  False     False\n",
       "8      False     True      False  False     False\n",
       "9      False    False      False  False     False\n",
       "10     False     True      False  False     False\n",
       "11     False    False       True  False     False\n",
       "12     False    False      False  False     False\n",
       "13     False    False       True   True     False\n",
       "14     False     True      False  False     False\n",
       "15     False    False      False  False     False\n",
       "16     False    False      False  False     False\n",
       "17     False    False      False  False     False\n",
       "18     False    False      False  False     False\n",
       "19     False    False      False  False     False\n",
       "20     False    False      False  False     False\n",
       "21     False    False      False  False     False\n",
       "22     False    False      False  False     False\n",
       "23     False    False      False  False     False\n",
       "24     False    False       True   True     False\n",
       "25     False    False      False  False     False\n",
       "26     False    False      False  False     False\n",
       "27     False    False      False  False      True\n",
       "28     False    False      False  False     False\n",
       "29     False    False      False  False     False"
      ]
     },
     "execution_count": 34,
     "metadata": {},
     "output_type": "execute_result"
    }
   ],
   "source": [
    "df.isnull() #check null values there are not"
   ]
  },
  {
   "cell_type": "code",
   "execution_count": 35,
   "id": "6ef53880",
   "metadata": {
    "execution": {
     "iopub.execute_input": "2023-06-24T13:07:08.311983Z",
     "iopub.status.busy": "2023-06-24T13:07:08.310805Z",
     "iopub.status.idle": "2023-06-24T13:07:08.318946Z",
     "shell.execute_reply": "2023-06-24T13:07:08.318184Z"
    },
    "papermill": {
     "duration": 0.034297,
     "end_time": "2023-06-24T13:07:08.320705",
     "exception": false,
     "start_time": "2023-06-24T13:07:08.286408",
     "status": "completed"
    },
    "tags": []
   },
   "outputs": [
    {
     "data": {
      "text/plain": [
       "Roll No.     0\n",
       "Physics      3\n",
       "Chemistry    4\n",
       "Maths        2\n",
       "Computer     1\n",
       "dtype: int64"
      ]
     },
     "execution_count": 35,
     "metadata": {},
     "output_type": "execute_result"
    }
   ],
   "source": [
    "df.isnull().sum() #gives the count of null values in every cloumn in  df"
   ]
  },
  {
   "cell_type": "code",
   "execution_count": 36,
   "id": "f9cc41b3",
   "metadata": {
    "execution": {
     "iopub.execute_input": "2023-06-24T13:07:08.376962Z",
     "iopub.status.busy": "2023-06-24T13:07:08.376633Z",
     "iopub.status.idle": "2023-06-24T13:07:08.383546Z",
     "shell.execute_reply": "2023-06-24T13:07:08.382357Z"
    },
    "papermill": {
     "duration": 0.035333,
     "end_time": "2023-06-24T13:07:08.385651",
     "exception": false,
     "start_time": "2023-06-24T13:07:08.350318",
     "status": "completed"
    },
    "tags": []
   },
   "outputs": [
    {
     "data": {
      "text/plain": [
       "10"
      ]
     },
     "execution_count": 36,
     "metadata": {},
     "output_type": "execute_result"
    }
   ],
   "source": [
    "df.isnull().sum().sum()"
   ]
  },
  {
   "cell_type": "markdown",
   "id": "e3a2dc64",
   "metadata": {
    "papermill": {
     "duration": 0.030633,
     "end_time": "2023-06-24T13:07:08.447658",
     "exception": false,
     "start_time": "2023-06-24T13:07:08.417025",
     "status": "completed"
    },
    "tags": []
   },
   "source": [
    "# **Dropping Rows with null values**"
   ]
  },
  {
   "cell_type": "code",
   "execution_count": 37,
   "id": "989fd712",
   "metadata": {
    "execution": {
     "iopub.execute_input": "2023-06-24T13:07:08.510107Z",
     "iopub.status.busy": "2023-06-24T13:07:08.509772Z",
     "iopub.status.idle": "2023-06-24T13:07:08.514627Z",
     "shell.execute_reply": "2023-06-24T13:07:08.513847Z"
    },
    "papermill": {
     "duration": 0.038279,
     "end_time": "2023-06-24T13:07:08.516235",
     "exception": false,
     "start_time": "2023-06-24T13:07:08.477956",
     "status": "completed"
    },
    "tags": []
   },
   "outputs": [
    {
     "data": {
      "text/plain": [
       "(30, 5)"
      ]
     },
     "execution_count": 37,
     "metadata": {},
     "output_type": "execute_result"
    }
   ],
   "source": [
    "df.shape"
   ]
  },
  {
   "cell_type": "code",
   "execution_count": 38,
   "id": "bc2ba764",
   "metadata": {
    "execution": {
     "iopub.execute_input": "2023-06-24T13:07:08.571116Z",
     "iopub.status.busy": "2023-06-24T13:07:08.570248Z",
     "iopub.status.idle": "2023-06-24T13:07:08.575961Z",
     "shell.execute_reply": "2023-06-24T13:07:08.575274Z"
    },
    "papermill": {
     "duration": 0.036595,
     "end_time": "2023-06-24T13:07:08.578111",
     "exception": false,
     "start_time": "2023-06-24T13:07:08.541516",
     "status": "completed"
    },
    "tags": []
   },
   "outputs": [],
   "source": [
    "#dropna---used to drop all rows consisting of null values\n",
    "df1=df.dropna() #by default axis=0\n",
    "#if we give axis=1 all columns with null values are removed"
   ]
  },
  {
   "cell_type": "code",
   "execution_count": 39,
   "id": "1fa75fa8",
   "metadata": {
    "execution": {
     "iopub.execute_input": "2023-06-24T13:07:08.632474Z",
     "iopub.status.busy": "2023-06-24T13:07:08.631861Z",
     "iopub.status.idle": "2023-06-24T13:07:08.636980Z",
     "shell.execute_reply": "2023-06-24T13:07:08.636339Z"
    },
    "papermill": {
     "duration": 0.031839,
     "end_time": "2023-06-24T13:07:08.638596",
     "exception": false,
     "start_time": "2023-06-24T13:07:08.606757",
     "status": "completed"
    },
    "tags": []
   },
   "outputs": [
    {
     "data": {
      "text/plain": [
       "(22, 5)"
      ]
     },
     "execution_count": 39,
     "metadata": {},
     "output_type": "execute_result"
    }
   ],
   "source": [
    "df1.shape"
   ]
  },
  {
   "cell_type": "markdown",
   "id": "82daeb32",
   "metadata": {
    "papermill": {
     "duration": 0.023665,
     "end_time": "2023-06-24T13:07:08.686517",
     "exception": false,
     "start_time": "2023-06-24T13:07:08.662852",
     "status": "completed"
    },
    "tags": []
   },
   "source": [
    "# **Dropping columns with null=NaN values**\n"
   ]
  },
  {
   "cell_type": "code",
   "execution_count": 40,
   "id": "25463cb2",
   "metadata": {
    "execution": {
     "iopub.execute_input": "2023-06-24T13:07:08.734897Z",
     "iopub.status.busy": "2023-06-24T13:07:08.734374Z",
     "iopub.status.idle": "2023-06-24T13:07:08.739365Z",
     "shell.execute_reply": "2023-06-24T13:07:08.738793Z"
    },
    "papermill": {
     "duration": 0.030931,
     "end_time": "2023-06-24T13:07:08.740898",
     "exception": false,
     "start_time": "2023-06-24T13:07:08.709967",
     "status": "completed"
    },
    "tags": []
   },
   "outputs": [],
   "source": [
    "df2=df.dropna(axis=1)#drop columns with null values\n"
   ]
  },
  {
   "cell_type": "code",
   "execution_count": 41,
   "id": "7fc39eee",
   "metadata": {
    "execution": {
     "iopub.execute_input": "2023-06-24T13:07:08.795641Z",
     "iopub.status.busy": "2023-06-24T13:07:08.795279Z",
     "iopub.status.idle": "2023-06-24T13:07:08.805441Z",
     "shell.execute_reply": "2023-06-24T13:07:08.804601Z"
    },
    "papermill": {
     "duration": 0.04286,
     "end_time": "2023-06-24T13:07:08.807156",
     "exception": false,
     "start_time": "2023-06-24T13:07:08.764296",
     "status": "completed"
    },
    "tags": []
   },
   "outputs": [
    {
     "data": {
      "text/plain": [
       "(30, 1)"
      ]
     },
     "execution_count": 41,
     "metadata": {},
     "output_type": "execute_result"
    }
   ],
   "source": [
    "df2.shape "
   ]
  },
  {
   "cell_type": "code",
   "execution_count": 42,
   "id": "a31ae4df",
   "metadata": {
    "execution": {
     "iopub.execute_input": "2023-06-24T13:07:08.860761Z",
     "iopub.status.busy": "2023-06-24T13:07:08.860336Z",
     "iopub.status.idle": "2023-06-24T13:07:08.876612Z",
     "shell.execute_reply": "2023-06-24T13:07:08.875963Z"
    },
    "papermill": {
     "duration": 0.044224,
     "end_time": "2023-06-24T13:07:08.878203",
     "exception": false,
     "start_time": "2023-06-24T13:07:08.833979",
     "status": "completed"
    },
    "tags": []
   },
   "outputs": [
    {
     "data": {
      "text/html": [
       "<div>\n",
       "<style scoped>\n",
       "    .dataframe tbody tr th:only-of-type {\n",
       "        vertical-align: middle;\n",
       "    }\n",
       "\n",
       "    .dataframe tbody tr th {\n",
       "        vertical-align: top;\n",
       "    }\n",
       "\n",
       "    .dataframe thead th {\n",
       "        text-align: right;\n",
       "    }\n",
       "</style>\n",
       "<table border=\"1\" class=\"dataframe\">\n",
       "  <thead>\n",
       "    <tr style=\"text-align: right;\">\n",
       "      <th></th>\n",
       "      <th>Roll No.</th>\n",
       "      <th>Physics</th>\n",
       "      <th>Chemistry</th>\n",
       "      <th>Maths</th>\n",
       "      <th>Computer</th>\n",
       "    </tr>\n",
       "  </thead>\n",
       "  <tbody>\n",
       "    <tr>\n",
       "      <th>0</th>\n",
       "      <td>1</td>\n",
       "      <td>56.0</td>\n",
       "      <td>57.0</td>\n",
       "      <td>58.0</td>\n",
       "      <td>59.0</td>\n",
       "    </tr>\n",
       "    <tr>\n",
       "      <th>1</th>\n",
       "      <td>2</td>\n",
       "      <td>23.0</td>\n",
       "      <td>24.0</td>\n",
       "      <td>25.0</td>\n",
       "      <td>26.0</td>\n",
       "    </tr>\n",
       "    <tr>\n",
       "      <th>2</th>\n",
       "      <td>3</td>\n",
       "      <td>89.0</td>\n",
       "      <td>25.0</td>\n",
       "      <td>26.0</td>\n",
       "      <td>27.0</td>\n",
       "    </tr>\n",
       "    <tr>\n",
       "      <th>3</th>\n",
       "      <td>4</td>\n",
       "      <td>45.0</td>\n",
       "      <td>26.0</td>\n",
       "      <td>27.0</td>\n",
       "      <td>28.0</td>\n",
       "    </tr>\n",
       "    <tr>\n",
       "      <th>4</th>\n",
       "      <td>5</td>\n",
       "      <td>23.0</td>\n",
       "      <td>27.0</td>\n",
       "      <td>28.0</td>\n",
       "      <td>29.0</td>\n",
       "    </tr>\n",
       "    <tr>\n",
       "      <th>6</th>\n",
       "      <td>7</td>\n",
       "      <td>12.0</td>\n",
       "      <td>13.0</td>\n",
       "      <td>14.0</td>\n",
       "      <td>15.0</td>\n",
       "    </tr>\n",
       "    <tr>\n",
       "      <th>7</th>\n",
       "      <td>8</td>\n",
       "      <td>78.0</td>\n",
       "      <td>14.0</td>\n",
       "      <td>15.0</td>\n",
       "      <td>16.0</td>\n",
       "    </tr>\n",
       "    <tr>\n",
       "      <th>9</th>\n",
       "      <td>10</td>\n",
       "      <td>45.0</td>\n",
       "      <td>16.0</td>\n",
       "      <td>17.0</td>\n",
       "      <td>18.0</td>\n",
       "    </tr>\n",
       "    <tr>\n",
       "      <th>12</th>\n",
       "      <td>13</td>\n",
       "      <td>22.0</td>\n",
       "      <td>23.0</td>\n",
       "      <td>24.0</td>\n",
       "      <td>25.0</td>\n",
       "    </tr>\n",
       "    <tr>\n",
       "      <th>15</th>\n",
       "      <td>16</td>\n",
       "      <td>44.0</td>\n",
       "      <td>44.0</td>\n",
       "      <td>44.0</td>\n",
       "      <td>44.0</td>\n",
       "    </tr>\n",
       "    <tr>\n",
       "      <th>16</th>\n",
       "      <td>17</td>\n",
       "      <td>45.0</td>\n",
       "      <td>45.0</td>\n",
       "      <td>45.0</td>\n",
       "      <td>45.0</td>\n",
       "    </tr>\n",
       "    <tr>\n",
       "      <th>17</th>\n",
       "      <td>18</td>\n",
       "      <td>46.0</td>\n",
       "      <td>46.0</td>\n",
       "      <td>46.0</td>\n",
       "      <td>46.0</td>\n",
       "    </tr>\n",
       "    <tr>\n",
       "      <th>18</th>\n",
       "      <td>19</td>\n",
       "      <td>47.0</td>\n",
       "      <td>47.0</td>\n",
       "      <td>47.0</td>\n",
       "      <td>47.0</td>\n",
       "    </tr>\n",
       "    <tr>\n",
       "      <th>19</th>\n",
       "      <td>20</td>\n",
       "      <td>48.0</td>\n",
       "      <td>48.0</td>\n",
       "      <td>48.0</td>\n",
       "      <td>48.0</td>\n",
       "    </tr>\n",
       "    <tr>\n",
       "      <th>20</th>\n",
       "      <td>21</td>\n",
       "      <td>49.0</td>\n",
       "      <td>49.0</td>\n",
       "      <td>49.0</td>\n",
       "      <td>49.0</td>\n",
       "    </tr>\n",
       "    <tr>\n",
       "      <th>21</th>\n",
       "      <td>22</td>\n",
       "      <td>50.0</td>\n",
       "      <td>50.0</td>\n",
       "      <td>50.0</td>\n",
       "      <td>50.0</td>\n",
       "    </tr>\n",
       "    <tr>\n",
       "      <th>22</th>\n",
       "      <td>23</td>\n",
       "      <td>51.0</td>\n",
       "      <td>51.0</td>\n",
       "      <td>51.0</td>\n",
       "      <td>51.0</td>\n",
       "    </tr>\n",
       "    <tr>\n",
       "      <th>23</th>\n",
       "      <td>24</td>\n",
       "      <td>52.0</td>\n",
       "      <td>52.0</td>\n",
       "      <td>52.0</td>\n",
       "      <td>52.0</td>\n",
       "    </tr>\n",
       "    <tr>\n",
       "      <th>25</th>\n",
       "      <td>26</td>\n",
       "      <td>54.0</td>\n",
       "      <td>33.0</td>\n",
       "      <td>33.0</td>\n",
       "      <td>54.0</td>\n",
       "    </tr>\n",
       "    <tr>\n",
       "      <th>26</th>\n",
       "      <td>27</td>\n",
       "      <td>55.0</td>\n",
       "      <td>34.0</td>\n",
       "      <td>34.0</td>\n",
       "      <td>55.0</td>\n",
       "    </tr>\n",
       "    <tr>\n",
       "      <th>28</th>\n",
       "      <td>29</td>\n",
       "      <td>57.0</td>\n",
       "      <td>36.0</td>\n",
       "      <td>36.0</td>\n",
       "      <td>66.0</td>\n",
       "    </tr>\n",
       "    <tr>\n",
       "      <th>29</th>\n",
       "      <td>30</td>\n",
       "      <td>58.0</td>\n",
       "      <td>37.0</td>\n",
       "      <td>37.0</td>\n",
       "      <td>43.0</td>\n",
       "    </tr>\n",
       "  </tbody>\n",
       "</table>\n",
       "</div>"
      ],
      "text/plain": [
       "    Roll No.  Physics  Chemistry  Maths  Computer\n",
       "0          1     56.0       57.0   58.0      59.0\n",
       "1          2     23.0       24.0   25.0      26.0\n",
       "2          3     89.0       25.0   26.0      27.0\n",
       "3          4     45.0       26.0   27.0      28.0\n",
       "4          5     23.0       27.0   28.0      29.0\n",
       "6          7     12.0       13.0   14.0      15.0\n",
       "7          8     78.0       14.0   15.0      16.0\n",
       "9         10     45.0       16.0   17.0      18.0\n",
       "12        13     22.0       23.0   24.0      25.0\n",
       "15        16     44.0       44.0   44.0      44.0\n",
       "16        17     45.0       45.0   45.0      45.0\n",
       "17        18     46.0       46.0   46.0      46.0\n",
       "18        19     47.0       47.0   47.0      47.0\n",
       "19        20     48.0       48.0   48.0      48.0\n",
       "20        21     49.0       49.0   49.0      49.0\n",
       "21        22     50.0       50.0   50.0      50.0\n",
       "22        23     51.0       51.0   51.0      51.0\n",
       "23        24     52.0       52.0   52.0      52.0\n",
       "25        26     54.0       33.0   33.0      54.0\n",
       "26        27     55.0       34.0   34.0      55.0\n",
       "28        29     57.0       36.0   36.0      66.0\n",
       "29        30     58.0       37.0   37.0      43.0"
      ]
     },
     "execution_count": 42,
     "metadata": {},
     "output_type": "execute_result"
    }
   ],
   "source": [
    "df.dropna(how=\"any\") # if any row value is null then remove that row"
   ]
  },
  {
   "cell_type": "code",
   "execution_count": 43,
   "id": "136c9ce9",
   "metadata": {
    "execution": {
     "iopub.execute_input": "2023-06-24T13:07:08.930585Z",
     "iopub.status.busy": "2023-06-24T13:07:08.929895Z",
     "iopub.status.idle": "2023-06-24T13:07:08.947721Z",
     "shell.execute_reply": "2023-06-24T13:07:08.946937Z"
    },
    "papermill": {
     "duration": 0.045245,
     "end_time": "2023-06-24T13:07:08.949365",
     "exception": false,
     "start_time": "2023-06-24T13:07:08.904120",
     "status": "completed"
    },
    "tags": []
   },
   "outputs": [
    {
     "data": {
      "text/html": [
       "<div>\n",
       "<style scoped>\n",
       "    .dataframe tbody tr th:only-of-type {\n",
       "        vertical-align: middle;\n",
       "    }\n",
       "\n",
       "    .dataframe tbody tr th {\n",
       "        vertical-align: top;\n",
       "    }\n",
       "\n",
       "    .dataframe thead th {\n",
       "        text-align: right;\n",
       "    }\n",
       "</style>\n",
       "<table border=\"1\" class=\"dataframe\">\n",
       "  <thead>\n",
       "    <tr style=\"text-align: right;\">\n",
       "      <th></th>\n",
       "      <th>Roll No.</th>\n",
       "      <th>Physics</th>\n",
       "      <th>Chemistry</th>\n",
       "      <th>Maths</th>\n",
       "      <th>Computer</th>\n",
       "    </tr>\n",
       "  </thead>\n",
       "  <tbody>\n",
       "    <tr>\n",
       "      <th>0</th>\n",
       "      <td>1</td>\n",
       "      <td>56.0</td>\n",
       "      <td>57.0</td>\n",
       "      <td>58.0</td>\n",
       "      <td>59.0</td>\n",
       "    </tr>\n",
       "    <tr>\n",
       "      <th>1</th>\n",
       "      <td>2</td>\n",
       "      <td>23.0</td>\n",
       "      <td>24.0</td>\n",
       "      <td>25.0</td>\n",
       "      <td>26.0</td>\n",
       "    </tr>\n",
       "    <tr>\n",
       "      <th>2</th>\n",
       "      <td>3</td>\n",
       "      <td>89.0</td>\n",
       "      <td>25.0</td>\n",
       "      <td>26.0</td>\n",
       "      <td>27.0</td>\n",
       "    </tr>\n",
       "    <tr>\n",
       "      <th>3</th>\n",
       "      <td>4</td>\n",
       "      <td>45.0</td>\n",
       "      <td>26.0</td>\n",
       "      <td>27.0</td>\n",
       "      <td>28.0</td>\n",
       "    </tr>\n",
       "    <tr>\n",
       "      <th>4</th>\n",
       "      <td>5</td>\n",
       "      <td>23.0</td>\n",
       "      <td>27.0</td>\n",
       "      <td>28.0</td>\n",
       "      <td>29.0</td>\n",
       "    </tr>\n",
       "    <tr>\n",
       "      <th>5</th>\n",
       "      <td>6</td>\n",
       "      <td>90.0</td>\n",
       "      <td>NaN</td>\n",
       "      <td>29.0</td>\n",
       "      <td>30.0</td>\n",
       "    </tr>\n",
       "    <tr>\n",
       "      <th>6</th>\n",
       "      <td>7</td>\n",
       "      <td>12.0</td>\n",
       "      <td>13.0</td>\n",
       "      <td>14.0</td>\n",
       "      <td>15.0</td>\n",
       "    </tr>\n",
       "    <tr>\n",
       "      <th>7</th>\n",
       "      <td>8</td>\n",
       "      <td>78.0</td>\n",
       "      <td>14.0</td>\n",
       "      <td>15.0</td>\n",
       "      <td>16.0</td>\n",
       "    </tr>\n",
       "    <tr>\n",
       "      <th>8</th>\n",
       "      <td>9</td>\n",
       "      <td>NaN</td>\n",
       "      <td>15.0</td>\n",
       "      <td>16.0</td>\n",
       "      <td>17.0</td>\n",
       "    </tr>\n",
       "    <tr>\n",
       "      <th>9</th>\n",
       "      <td>10</td>\n",
       "      <td>45.0</td>\n",
       "      <td>16.0</td>\n",
       "      <td>17.0</td>\n",
       "      <td>18.0</td>\n",
       "    </tr>\n",
       "    <tr>\n",
       "      <th>10</th>\n",
       "      <td>11</td>\n",
       "      <td>NaN</td>\n",
       "      <td>17.0</td>\n",
       "      <td>18.0</td>\n",
       "      <td>19.0</td>\n",
       "    </tr>\n",
       "    <tr>\n",
       "      <th>11</th>\n",
       "      <td>12</td>\n",
       "      <td>88.0</td>\n",
       "      <td>NaN</td>\n",
       "      <td>19.0</td>\n",
       "      <td>20.0</td>\n",
       "    </tr>\n",
       "    <tr>\n",
       "      <th>12</th>\n",
       "      <td>13</td>\n",
       "      <td>22.0</td>\n",
       "      <td>23.0</td>\n",
       "      <td>24.0</td>\n",
       "      <td>25.0</td>\n",
       "    </tr>\n",
       "    <tr>\n",
       "      <th>13</th>\n",
       "      <td>14</td>\n",
       "      <td>90.0</td>\n",
       "      <td>NaN</td>\n",
       "      <td>NaN</td>\n",
       "      <td>42.0</td>\n",
       "    </tr>\n",
       "    <tr>\n",
       "      <th>14</th>\n",
       "      <td>15</td>\n",
       "      <td>NaN</td>\n",
       "      <td>43.0</td>\n",
       "      <td>43.0</td>\n",
       "      <td>43.0</td>\n",
       "    </tr>\n",
       "    <tr>\n",
       "      <th>15</th>\n",
       "      <td>16</td>\n",
       "      <td>44.0</td>\n",
       "      <td>44.0</td>\n",
       "      <td>44.0</td>\n",
       "      <td>44.0</td>\n",
       "    </tr>\n",
       "    <tr>\n",
       "      <th>16</th>\n",
       "      <td>17</td>\n",
       "      <td>45.0</td>\n",
       "      <td>45.0</td>\n",
       "      <td>45.0</td>\n",
       "      <td>45.0</td>\n",
       "    </tr>\n",
       "    <tr>\n",
       "      <th>17</th>\n",
       "      <td>18</td>\n",
       "      <td>46.0</td>\n",
       "      <td>46.0</td>\n",
       "      <td>46.0</td>\n",
       "      <td>46.0</td>\n",
       "    </tr>\n",
       "    <tr>\n",
       "      <th>18</th>\n",
       "      <td>19</td>\n",
       "      <td>47.0</td>\n",
       "      <td>47.0</td>\n",
       "      <td>47.0</td>\n",
       "      <td>47.0</td>\n",
       "    </tr>\n",
       "    <tr>\n",
       "      <th>19</th>\n",
       "      <td>20</td>\n",
       "      <td>48.0</td>\n",
       "      <td>48.0</td>\n",
       "      <td>48.0</td>\n",
       "      <td>48.0</td>\n",
       "    </tr>\n",
       "    <tr>\n",
       "      <th>20</th>\n",
       "      <td>21</td>\n",
       "      <td>49.0</td>\n",
       "      <td>49.0</td>\n",
       "      <td>49.0</td>\n",
       "      <td>49.0</td>\n",
       "    </tr>\n",
       "    <tr>\n",
       "      <th>21</th>\n",
       "      <td>22</td>\n",
       "      <td>50.0</td>\n",
       "      <td>50.0</td>\n",
       "      <td>50.0</td>\n",
       "      <td>50.0</td>\n",
       "    </tr>\n",
       "    <tr>\n",
       "      <th>22</th>\n",
       "      <td>23</td>\n",
       "      <td>51.0</td>\n",
       "      <td>51.0</td>\n",
       "      <td>51.0</td>\n",
       "      <td>51.0</td>\n",
       "    </tr>\n",
       "    <tr>\n",
       "      <th>23</th>\n",
       "      <td>24</td>\n",
       "      <td>52.0</td>\n",
       "      <td>52.0</td>\n",
       "      <td>52.0</td>\n",
       "      <td>52.0</td>\n",
       "    </tr>\n",
       "    <tr>\n",
       "      <th>24</th>\n",
       "      <td>25</td>\n",
       "      <td>53.0</td>\n",
       "      <td>NaN</td>\n",
       "      <td>NaN</td>\n",
       "      <td>53.0</td>\n",
       "    </tr>\n",
       "    <tr>\n",
       "      <th>25</th>\n",
       "      <td>26</td>\n",
       "      <td>54.0</td>\n",
       "      <td>33.0</td>\n",
       "      <td>33.0</td>\n",
       "      <td>54.0</td>\n",
       "    </tr>\n",
       "    <tr>\n",
       "      <th>26</th>\n",
       "      <td>27</td>\n",
       "      <td>55.0</td>\n",
       "      <td>34.0</td>\n",
       "      <td>34.0</td>\n",
       "      <td>55.0</td>\n",
       "    </tr>\n",
       "    <tr>\n",
       "      <th>27</th>\n",
       "      <td>28</td>\n",
       "      <td>56.0</td>\n",
       "      <td>35.0</td>\n",
       "      <td>35.0</td>\n",
       "      <td>NaN</td>\n",
       "    </tr>\n",
       "    <tr>\n",
       "      <th>28</th>\n",
       "      <td>29</td>\n",
       "      <td>57.0</td>\n",
       "      <td>36.0</td>\n",
       "      <td>36.0</td>\n",
       "      <td>66.0</td>\n",
       "    </tr>\n",
       "    <tr>\n",
       "      <th>29</th>\n",
       "      <td>30</td>\n",
       "      <td>58.0</td>\n",
       "      <td>37.0</td>\n",
       "      <td>37.0</td>\n",
       "      <td>43.0</td>\n",
       "    </tr>\n",
       "  </tbody>\n",
       "</table>\n",
       "</div>"
      ],
      "text/plain": [
       "    Roll No.  Physics  Chemistry  Maths  Computer\n",
       "0          1     56.0       57.0   58.0      59.0\n",
       "1          2     23.0       24.0   25.0      26.0\n",
       "2          3     89.0       25.0   26.0      27.0\n",
       "3          4     45.0       26.0   27.0      28.0\n",
       "4          5     23.0       27.0   28.0      29.0\n",
       "5          6     90.0        NaN   29.0      30.0\n",
       "6          7     12.0       13.0   14.0      15.0\n",
       "7          8     78.0       14.0   15.0      16.0\n",
       "8          9      NaN       15.0   16.0      17.0\n",
       "9         10     45.0       16.0   17.0      18.0\n",
       "10        11      NaN       17.0   18.0      19.0\n",
       "11        12     88.0        NaN   19.0      20.0\n",
       "12        13     22.0       23.0   24.0      25.0\n",
       "13        14     90.0        NaN    NaN      42.0\n",
       "14        15      NaN       43.0   43.0      43.0\n",
       "15        16     44.0       44.0   44.0      44.0\n",
       "16        17     45.0       45.0   45.0      45.0\n",
       "17        18     46.0       46.0   46.0      46.0\n",
       "18        19     47.0       47.0   47.0      47.0\n",
       "19        20     48.0       48.0   48.0      48.0\n",
       "20        21     49.0       49.0   49.0      49.0\n",
       "21        22     50.0       50.0   50.0      50.0\n",
       "22        23     51.0       51.0   51.0      51.0\n",
       "23        24     52.0       52.0   52.0      52.0\n",
       "24        25     53.0        NaN    NaN      53.0\n",
       "25        26     54.0       33.0   33.0      54.0\n",
       "26        27     55.0       34.0   34.0      55.0\n",
       "27        28     56.0       35.0   35.0       NaN\n",
       "28        29     57.0       36.0   36.0      66.0\n",
       "29        30     58.0       37.0   37.0      43.0"
      ]
     },
     "execution_count": 43,
     "metadata": {},
     "output_type": "execute_result"
    }
   ],
   "source": [
    "df.dropna(how=\"all\") #if all row values is null then remove that row"
   ]
  },
  {
   "cell_type": "code",
   "execution_count": 44,
   "id": "cf021d2e",
   "metadata": {
    "execution": {
     "iopub.execute_input": "2023-06-24T13:07:09.002178Z",
     "iopub.status.busy": "2023-06-24T13:07:09.001618Z",
     "iopub.status.idle": "2023-06-24T13:07:09.006851Z",
     "shell.execute_reply": "2023-06-24T13:07:09.006066Z"
    },
    "papermill": {
     "duration": 0.032475,
     "end_time": "2023-06-24T13:07:09.008704",
     "exception": false,
     "start_time": "2023-06-24T13:07:08.976229",
     "status": "completed"
    },
    "tags": []
   },
   "outputs": [],
   "source": [
    " df.dropna(inplace=True) #The 'inplace=True' argument stands for the data frame has to make changes permanent eg. pandas shows the dataframe with changes we make but will not modify the original dataframe 'df'"
   ]
  },
  {
   "cell_type": "code",
   "execution_count": 45,
   "id": "eebc574c",
   "metadata": {
    "execution": {
     "iopub.execute_input": "2023-06-24T13:07:09.059517Z",
     "iopub.status.busy": "2023-06-24T13:07:09.059216Z",
     "iopub.status.idle": "2023-06-24T13:07:09.064603Z",
     "shell.execute_reply": "2023-06-24T13:07:09.063540Z"
    },
    "papermill": {
     "duration": 0.033323,
     "end_time": "2023-06-24T13:07:09.066533",
     "exception": false,
     "start_time": "2023-06-24T13:07:09.033210",
     "status": "completed"
    },
    "tags": []
   },
   "outputs": [
    {
     "data": {
      "text/plain": [
       "(22, 5)"
      ]
     },
     "execution_count": 45,
     "metadata": {},
     "output_type": "execute_result"
    }
   ],
   "source": [
    "df.shape"
   ]
  },
  {
   "cell_type": "markdown",
   "id": "06caa254",
   "metadata": {
    "papermill": {
     "duration": 0.024325,
     "end_time": "2023-06-24T13:07:09.115830",
     "exception": false,
     "start_time": "2023-06-24T13:07:09.091505",
     "status": "completed"
    },
    "tags": []
   },
   "source": [
    "**Filling the Null values**"
   ]
  },
  {
   "cell_type": "code",
   "execution_count": 46,
   "id": "cd05e319",
   "metadata": {
    "execution": {
     "iopub.execute_input": "2023-06-24T13:07:09.169493Z",
     "iopub.status.busy": "2023-06-24T13:07:09.169187Z",
     "iopub.status.idle": "2023-06-24T13:07:09.182381Z",
     "shell.execute_reply": "2023-06-24T13:07:09.181487Z"
    },
    "papermill": {
     "duration": 0.042762,
     "end_time": "2023-06-24T13:07:09.184013",
     "exception": false,
     "start_time": "2023-06-24T13:07:09.141251",
     "status": "completed"
    },
    "tags": []
   },
   "outputs": [
    {
     "data": {
      "text/html": [
       "<div>\n",
       "<style scoped>\n",
       "    .dataframe tbody tr th:only-of-type {\n",
       "        vertical-align: middle;\n",
       "    }\n",
       "\n",
       "    .dataframe tbody tr th {\n",
       "        vertical-align: top;\n",
       "    }\n",
       "\n",
       "    .dataframe thead th {\n",
       "        text-align: right;\n",
       "    }\n",
       "</style>\n",
       "<table border=\"1\" class=\"dataframe\">\n",
       "  <thead>\n",
       "    <tr style=\"text-align: right;\">\n",
       "      <th></th>\n",
       "      <th>Roll No.</th>\n",
       "      <th>Physics</th>\n",
       "      <th>Chemistry</th>\n",
       "      <th>Maths</th>\n",
       "      <th>Computer</th>\n",
       "    </tr>\n",
       "  </thead>\n",
       "  <tbody>\n",
       "    <tr>\n",
       "      <th>0</th>\n",
       "      <td>1</td>\n",
       "      <td>56.0</td>\n",
       "      <td>57.0</td>\n",
       "      <td>58.0</td>\n",
       "      <td>59.0</td>\n",
       "    </tr>\n",
       "    <tr>\n",
       "      <th>1</th>\n",
       "      <td>2</td>\n",
       "      <td>23.0</td>\n",
       "      <td>24.0</td>\n",
       "      <td>25.0</td>\n",
       "      <td>26.0</td>\n",
       "    </tr>\n",
       "    <tr>\n",
       "      <th>2</th>\n",
       "      <td>3</td>\n",
       "      <td>89.0</td>\n",
       "      <td>25.0</td>\n",
       "      <td>26.0</td>\n",
       "      <td>27.0</td>\n",
       "    </tr>\n",
       "    <tr>\n",
       "      <th>3</th>\n",
       "      <td>4</td>\n",
       "      <td>45.0</td>\n",
       "      <td>26.0</td>\n",
       "      <td>27.0</td>\n",
       "      <td>28.0</td>\n",
       "    </tr>\n",
       "    <tr>\n",
       "      <th>4</th>\n",
       "      <td>5</td>\n",
       "      <td>23.0</td>\n",
       "      <td>27.0</td>\n",
       "      <td>28.0</td>\n",
       "      <td>29.0</td>\n",
       "    </tr>\n",
       "  </tbody>\n",
       "</table>\n",
       "</div>"
      ],
      "text/plain": [
       "   Roll No.  Physics  Chemistry  Maths  Computer\n",
       "0         1     56.0       57.0   58.0      59.0\n",
       "1         2     23.0       24.0   25.0      26.0\n",
       "2         3     89.0       25.0   26.0      27.0\n",
       "3         4     45.0       26.0   27.0      28.0\n",
       "4         5     23.0       27.0   28.0      29.0"
      ]
     },
     "execution_count": 46,
     "metadata": {},
     "output_type": "execute_result"
    }
   ],
   "source": [
    "df=pd.read_csv(r\"/kaggle/input/sample/sample.csv\")\n",
    "df.head()"
   ]
  },
  {
   "cell_type": "code",
   "execution_count": 47,
   "id": "becdbf51",
   "metadata": {
    "execution": {
     "iopub.execute_input": "2023-06-24T13:07:09.236470Z",
     "iopub.status.busy": "2023-06-24T13:07:09.236108Z",
     "iopub.status.idle": "2023-06-24T13:07:09.244406Z",
     "shell.execute_reply": "2023-06-24T13:07:09.243552Z"
    },
    "papermill": {
     "duration": 0.036357,
     "end_time": "2023-06-24T13:07:09.246078",
     "exception": false,
     "start_time": "2023-06-24T13:07:09.209721",
     "status": "completed"
    },
    "tags": []
   },
   "outputs": [
    {
     "data": {
      "text/plain": [
       "Roll No.     0\n",
       "Physics      3\n",
       "Chemistry    4\n",
       "Maths        2\n",
       "Computer     1\n",
       "dtype: int64"
      ]
     },
     "execution_count": 47,
     "metadata": {},
     "output_type": "execute_result"
    }
   ],
   "source": [
    "df.isnull().sum()"
   ]
  },
  {
   "cell_type": "code",
   "execution_count": 48,
   "id": "41d6969d",
   "metadata": {
    "execution": {
     "iopub.execute_input": "2023-06-24T13:07:09.298637Z",
     "iopub.status.busy": "2023-06-24T13:07:09.298306Z",
     "iopub.status.idle": "2023-06-24T13:07:09.316713Z",
     "shell.execute_reply": "2023-06-24T13:07:09.315735Z"
    },
    "papermill": {
     "duration": 0.046962,
     "end_time": "2023-06-24T13:07:09.318368",
     "exception": false,
     "start_time": "2023-06-24T13:07:09.271406",
     "status": "completed"
    },
    "tags": []
   },
   "outputs": [
    {
     "data": {
      "text/html": [
       "<div>\n",
       "<style scoped>\n",
       "    .dataframe tbody tr th:only-of-type {\n",
       "        vertical-align: middle;\n",
       "    }\n",
       "\n",
       "    .dataframe tbody tr th {\n",
       "        vertical-align: top;\n",
       "    }\n",
       "\n",
       "    .dataframe thead th {\n",
       "        text-align: right;\n",
       "    }\n",
       "</style>\n",
       "<table border=\"1\" class=\"dataframe\">\n",
       "  <thead>\n",
       "    <tr style=\"text-align: right;\">\n",
       "      <th></th>\n",
       "      <th>Roll No.</th>\n",
       "      <th>Physics</th>\n",
       "      <th>Chemistry</th>\n",
       "      <th>Maths</th>\n",
       "      <th>Computer</th>\n",
       "    </tr>\n",
       "  </thead>\n",
       "  <tbody>\n",
       "    <tr>\n",
       "      <th>0</th>\n",
       "      <td>1</td>\n",
       "      <td>56.0</td>\n",
       "      <td>57.0</td>\n",
       "      <td>58.0</td>\n",
       "      <td>59.0</td>\n",
       "    </tr>\n",
       "    <tr>\n",
       "      <th>1</th>\n",
       "      <td>2</td>\n",
       "      <td>23.0</td>\n",
       "      <td>24.0</td>\n",
       "      <td>25.0</td>\n",
       "      <td>26.0</td>\n",
       "    </tr>\n",
       "    <tr>\n",
       "      <th>2</th>\n",
       "      <td>3</td>\n",
       "      <td>89.0</td>\n",
       "      <td>25.0</td>\n",
       "      <td>26.0</td>\n",
       "      <td>27.0</td>\n",
       "    </tr>\n",
       "    <tr>\n",
       "      <th>3</th>\n",
       "      <td>4</td>\n",
       "      <td>45.0</td>\n",
       "      <td>26.0</td>\n",
       "      <td>27.0</td>\n",
       "      <td>28.0</td>\n",
       "    </tr>\n",
       "    <tr>\n",
       "      <th>4</th>\n",
       "      <td>5</td>\n",
       "      <td>23.0</td>\n",
       "      <td>27.0</td>\n",
       "      <td>28.0</td>\n",
       "      <td>29.0</td>\n",
       "    </tr>\n",
       "    <tr>\n",
       "      <th>5</th>\n",
       "      <td>6</td>\n",
       "      <td>90.0</td>\n",
       "      <td>0.0</td>\n",
       "      <td>29.0</td>\n",
       "      <td>30.0</td>\n",
       "    </tr>\n",
       "    <tr>\n",
       "      <th>6</th>\n",
       "      <td>7</td>\n",
       "      <td>12.0</td>\n",
       "      <td>13.0</td>\n",
       "      <td>14.0</td>\n",
       "      <td>15.0</td>\n",
       "    </tr>\n",
       "    <tr>\n",
       "      <th>7</th>\n",
       "      <td>8</td>\n",
       "      <td>78.0</td>\n",
       "      <td>14.0</td>\n",
       "      <td>15.0</td>\n",
       "      <td>16.0</td>\n",
       "    </tr>\n",
       "    <tr>\n",
       "      <th>8</th>\n",
       "      <td>9</td>\n",
       "      <td>0.0</td>\n",
       "      <td>15.0</td>\n",
       "      <td>16.0</td>\n",
       "      <td>17.0</td>\n",
       "    </tr>\n",
       "    <tr>\n",
       "      <th>9</th>\n",
       "      <td>10</td>\n",
       "      <td>45.0</td>\n",
       "      <td>16.0</td>\n",
       "      <td>17.0</td>\n",
       "      <td>18.0</td>\n",
       "    </tr>\n",
       "    <tr>\n",
       "      <th>10</th>\n",
       "      <td>11</td>\n",
       "      <td>0.0</td>\n",
       "      <td>17.0</td>\n",
       "      <td>18.0</td>\n",
       "      <td>19.0</td>\n",
       "    </tr>\n",
       "    <tr>\n",
       "      <th>11</th>\n",
       "      <td>12</td>\n",
       "      <td>88.0</td>\n",
       "      <td>0.0</td>\n",
       "      <td>19.0</td>\n",
       "      <td>20.0</td>\n",
       "    </tr>\n",
       "    <tr>\n",
       "      <th>12</th>\n",
       "      <td>13</td>\n",
       "      <td>22.0</td>\n",
       "      <td>23.0</td>\n",
       "      <td>24.0</td>\n",
       "      <td>25.0</td>\n",
       "    </tr>\n",
       "    <tr>\n",
       "      <th>13</th>\n",
       "      <td>14</td>\n",
       "      <td>90.0</td>\n",
       "      <td>0.0</td>\n",
       "      <td>0.0</td>\n",
       "      <td>42.0</td>\n",
       "    </tr>\n",
       "    <tr>\n",
       "      <th>14</th>\n",
       "      <td>15</td>\n",
       "      <td>0.0</td>\n",
       "      <td>43.0</td>\n",
       "      <td>43.0</td>\n",
       "      <td>43.0</td>\n",
       "    </tr>\n",
       "    <tr>\n",
       "      <th>15</th>\n",
       "      <td>16</td>\n",
       "      <td>44.0</td>\n",
       "      <td>44.0</td>\n",
       "      <td>44.0</td>\n",
       "      <td>44.0</td>\n",
       "    </tr>\n",
       "    <tr>\n",
       "      <th>16</th>\n",
       "      <td>17</td>\n",
       "      <td>45.0</td>\n",
       "      <td>45.0</td>\n",
       "      <td>45.0</td>\n",
       "      <td>45.0</td>\n",
       "    </tr>\n",
       "    <tr>\n",
       "      <th>17</th>\n",
       "      <td>18</td>\n",
       "      <td>46.0</td>\n",
       "      <td>46.0</td>\n",
       "      <td>46.0</td>\n",
       "      <td>46.0</td>\n",
       "    </tr>\n",
       "    <tr>\n",
       "      <th>18</th>\n",
       "      <td>19</td>\n",
       "      <td>47.0</td>\n",
       "      <td>47.0</td>\n",
       "      <td>47.0</td>\n",
       "      <td>47.0</td>\n",
       "    </tr>\n",
       "    <tr>\n",
       "      <th>19</th>\n",
       "      <td>20</td>\n",
       "      <td>48.0</td>\n",
       "      <td>48.0</td>\n",
       "      <td>48.0</td>\n",
       "      <td>48.0</td>\n",
       "    </tr>\n",
       "    <tr>\n",
       "      <th>20</th>\n",
       "      <td>21</td>\n",
       "      <td>49.0</td>\n",
       "      <td>49.0</td>\n",
       "      <td>49.0</td>\n",
       "      <td>49.0</td>\n",
       "    </tr>\n",
       "    <tr>\n",
       "      <th>21</th>\n",
       "      <td>22</td>\n",
       "      <td>50.0</td>\n",
       "      <td>50.0</td>\n",
       "      <td>50.0</td>\n",
       "      <td>50.0</td>\n",
       "    </tr>\n",
       "    <tr>\n",
       "      <th>22</th>\n",
       "      <td>23</td>\n",
       "      <td>51.0</td>\n",
       "      <td>51.0</td>\n",
       "      <td>51.0</td>\n",
       "      <td>51.0</td>\n",
       "    </tr>\n",
       "    <tr>\n",
       "      <th>23</th>\n",
       "      <td>24</td>\n",
       "      <td>52.0</td>\n",
       "      <td>52.0</td>\n",
       "      <td>52.0</td>\n",
       "      <td>52.0</td>\n",
       "    </tr>\n",
       "    <tr>\n",
       "      <th>24</th>\n",
       "      <td>25</td>\n",
       "      <td>53.0</td>\n",
       "      <td>0.0</td>\n",
       "      <td>0.0</td>\n",
       "      <td>53.0</td>\n",
       "    </tr>\n",
       "    <tr>\n",
       "      <th>25</th>\n",
       "      <td>26</td>\n",
       "      <td>54.0</td>\n",
       "      <td>33.0</td>\n",
       "      <td>33.0</td>\n",
       "      <td>54.0</td>\n",
       "    </tr>\n",
       "    <tr>\n",
       "      <th>26</th>\n",
       "      <td>27</td>\n",
       "      <td>55.0</td>\n",
       "      <td>34.0</td>\n",
       "      <td>34.0</td>\n",
       "      <td>55.0</td>\n",
       "    </tr>\n",
       "    <tr>\n",
       "      <th>27</th>\n",
       "      <td>28</td>\n",
       "      <td>56.0</td>\n",
       "      <td>35.0</td>\n",
       "      <td>35.0</td>\n",
       "      <td>0.0</td>\n",
       "    </tr>\n",
       "    <tr>\n",
       "      <th>28</th>\n",
       "      <td>29</td>\n",
       "      <td>57.0</td>\n",
       "      <td>36.0</td>\n",
       "      <td>36.0</td>\n",
       "      <td>66.0</td>\n",
       "    </tr>\n",
       "    <tr>\n",
       "      <th>29</th>\n",
       "      <td>30</td>\n",
       "      <td>58.0</td>\n",
       "      <td>37.0</td>\n",
       "      <td>37.0</td>\n",
       "      <td>43.0</td>\n",
       "    </tr>\n",
       "  </tbody>\n",
       "</table>\n",
       "</div>"
      ],
      "text/plain": [
       "    Roll No.  Physics  Chemistry  Maths  Computer\n",
       "0          1     56.0       57.0   58.0      59.0\n",
       "1          2     23.0       24.0   25.0      26.0\n",
       "2          3     89.0       25.0   26.0      27.0\n",
       "3          4     45.0       26.0   27.0      28.0\n",
       "4          5     23.0       27.0   28.0      29.0\n",
       "5          6     90.0        0.0   29.0      30.0\n",
       "6          7     12.0       13.0   14.0      15.0\n",
       "7          8     78.0       14.0   15.0      16.0\n",
       "8          9      0.0       15.0   16.0      17.0\n",
       "9         10     45.0       16.0   17.0      18.0\n",
       "10        11      0.0       17.0   18.0      19.0\n",
       "11        12     88.0        0.0   19.0      20.0\n",
       "12        13     22.0       23.0   24.0      25.0\n",
       "13        14     90.0        0.0    0.0      42.0\n",
       "14        15      0.0       43.0   43.0      43.0\n",
       "15        16     44.0       44.0   44.0      44.0\n",
       "16        17     45.0       45.0   45.0      45.0\n",
       "17        18     46.0       46.0   46.0      46.0\n",
       "18        19     47.0       47.0   47.0      47.0\n",
       "19        20     48.0       48.0   48.0      48.0\n",
       "20        21     49.0       49.0   49.0      49.0\n",
       "21        22     50.0       50.0   50.0      50.0\n",
       "22        23     51.0       51.0   51.0      51.0\n",
       "23        24     52.0       52.0   52.0      52.0\n",
       "24        25     53.0        0.0    0.0      53.0\n",
       "25        26     54.0       33.0   33.0      54.0\n",
       "26        27     55.0       34.0   34.0      55.0\n",
       "27        28     56.0       35.0   35.0       0.0\n",
       "28        29     57.0       36.0   36.0      66.0\n",
       "29        30     58.0       37.0   37.0      43.0"
      ]
     },
     "execution_count": 48,
     "metadata": {},
     "output_type": "execute_result"
    }
   ],
   "source": [
    "df.fillna(0) #fill null values with zero"
   ]
  },
  {
   "cell_type": "code",
   "execution_count": 49,
   "id": "9bd2ddf9",
   "metadata": {
    "execution": {
     "iopub.execute_input": "2023-06-24T13:07:09.371748Z",
     "iopub.status.busy": "2023-06-24T13:07:09.371378Z",
     "iopub.status.idle": "2023-06-24T13:07:09.389709Z",
     "shell.execute_reply": "2023-06-24T13:07:09.388616Z"
    },
    "papermill": {
     "duration": 0.04728,
     "end_time": "2023-06-24T13:07:09.391850",
     "exception": false,
     "start_time": "2023-06-24T13:07:09.344570",
     "status": "completed"
    },
    "tags": []
   },
   "outputs": [
    {
     "data": {
      "text/html": [
       "<div>\n",
       "<style scoped>\n",
       "    .dataframe tbody tr th:only-of-type {\n",
       "        vertical-align: middle;\n",
       "    }\n",
       "\n",
       "    .dataframe tbody tr th {\n",
       "        vertical-align: top;\n",
       "    }\n",
       "\n",
       "    .dataframe thead th {\n",
       "        text-align: right;\n",
       "    }\n",
       "</style>\n",
       "<table border=\"1\" class=\"dataframe\">\n",
       "  <thead>\n",
       "    <tr style=\"text-align: right;\">\n",
       "      <th></th>\n",
       "      <th>Roll No.</th>\n",
       "      <th>Physics</th>\n",
       "      <th>Chemistry</th>\n",
       "      <th>Maths</th>\n",
       "      <th>Computer</th>\n",
       "    </tr>\n",
       "  </thead>\n",
       "  <tbody>\n",
       "    <tr>\n",
       "      <th>0</th>\n",
       "      <td>1</td>\n",
       "      <td>56.0</td>\n",
       "      <td>57.0</td>\n",
       "      <td>58.0</td>\n",
       "      <td>59.0</td>\n",
       "    </tr>\n",
       "    <tr>\n",
       "      <th>1</th>\n",
       "      <td>2</td>\n",
       "      <td>23.0</td>\n",
       "      <td>24.0</td>\n",
       "      <td>25.0</td>\n",
       "      <td>26.0</td>\n",
       "    </tr>\n",
       "    <tr>\n",
       "      <th>2</th>\n",
       "      <td>3</td>\n",
       "      <td>89.0</td>\n",
       "      <td>25.0</td>\n",
       "      <td>26.0</td>\n",
       "      <td>27.0</td>\n",
       "    </tr>\n",
       "    <tr>\n",
       "      <th>3</th>\n",
       "      <td>4</td>\n",
       "      <td>45.0</td>\n",
       "      <td>26.0</td>\n",
       "      <td>27.0</td>\n",
       "      <td>28.0</td>\n",
       "    </tr>\n",
       "    <tr>\n",
       "      <th>4</th>\n",
       "      <td>5</td>\n",
       "      <td>23.0</td>\n",
       "      <td>27.0</td>\n",
       "      <td>28.0</td>\n",
       "      <td>29.0</td>\n",
       "    </tr>\n",
       "    <tr>\n",
       "      <th>5</th>\n",
       "      <td>6</td>\n",
       "      <td>90.0</td>\n",
       "      <td>2.0</td>\n",
       "      <td>29.0</td>\n",
       "      <td>30.0</td>\n",
       "    </tr>\n",
       "    <tr>\n",
       "      <th>6</th>\n",
       "      <td>7</td>\n",
       "      <td>12.0</td>\n",
       "      <td>13.0</td>\n",
       "      <td>14.0</td>\n",
       "      <td>15.0</td>\n",
       "    </tr>\n",
       "    <tr>\n",
       "      <th>7</th>\n",
       "      <td>8</td>\n",
       "      <td>78.0</td>\n",
       "      <td>14.0</td>\n",
       "      <td>15.0</td>\n",
       "      <td>16.0</td>\n",
       "    </tr>\n",
       "    <tr>\n",
       "      <th>8</th>\n",
       "      <td>9</td>\n",
       "      <td>2.0</td>\n",
       "      <td>15.0</td>\n",
       "      <td>16.0</td>\n",
       "      <td>17.0</td>\n",
       "    </tr>\n",
       "    <tr>\n",
       "      <th>9</th>\n",
       "      <td>10</td>\n",
       "      <td>45.0</td>\n",
       "      <td>16.0</td>\n",
       "      <td>17.0</td>\n",
       "      <td>18.0</td>\n",
       "    </tr>\n",
       "    <tr>\n",
       "      <th>10</th>\n",
       "      <td>11</td>\n",
       "      <td>2.0</td>\n",
       "      <td>17.0</td>\n",
       "      <td>18.0</td>\n",
       "      <td>19.0</td>\n",
       "    </tr>\n",
       "    <tr>\n",
       "      <th>11</th>\n",
       "      <td>12</td>\n",
       "      <td>88.0</td>\n",
       "      <td>2.0</td>\n",
       "      <td>19.0</td>\n",
       "      <td>20.0</td>\n",
       "    </tr>\n",
       "    <tr>\n",
       "      <th>12</th>\n",
       "      <td>13</td>\n",
       "      <td>22.0</td>\n",
       "      <td>23.0</td>\n",
       "      <td>24.0</td>\n",
       "      <td>25.0</td>\n",
       "    </tr>\n",
       "    <tr>\n",
       "      <th>13</th>\n",
       "      <td>14</td>\n",
       "      <td>90.0</td>\n",
       "      <td>2.0</td>\n",
       "      <td>2.0</td>\n",
       "      <td>42.0</td>\n",
       "    </tr>\n",
       "    <tr>\n",
       "      <th>14</th>\n",
       "      <td>15</td>\n",
       "      <td>2.0</td>\n",
       "      <td>43.0</td>\n",
       "      <td>43.0</td>\n",
       "      <td>43.0</td>\n",
       "    </tr>\n",
       "    <tr>\n",
       "      <th>15</th>\n",
       "      <td>16</td>\n",
       "      <td>44.0</td>\n",
       "      <td>44.0</td>\n",
       "      <td>44.0</td>\n",
       "      <td>44.0</td>\n",
       "    </tr>\n",
       "    <tr>\n",
       "      <th>16</th>\n",
       "      <td>17</td>\n",
       "      <td>45.0</td>\n",
       "      <td>45.0</td>\n",
       "      <td>45.0</td>\n",
       "      <td>45.0</td>\n",
       "    </tr>\n",
       "    <tr>\n",
       "      <th>17</th>\n",
       "      <td>18</td>\n",
       "      <td>46.0</td>\n",
       "      <td>46.0</td>\n",
       "      <td>46.0</td>\n",
       "      <td>46.0</td>\n",
       "    </tr>\n",
       "    <tr>\n",
       "      <th>18</th>\n",
       "      <td>19</td>\n",
       "      <td>47.0</td>\n",
       "      <td>47.0</td>\n",
       "      <td>47.0</td>\n",
       "      <td>47.0</td>\n",
       "    </tr>\n",
       "    <tr>\n",
       "      <th>19</th>\n",
       "      <td>20</td>\n",
       "      <td>48.0</td>\n",
       "      <td>48.0</td>\n",
       "      <td>48.0</td>\n",
       "      <td>48.0</td>\n",
       "    </tr>\n",
       "    <tr>\n",
       "      <th>20</th>\n",
       "      <td>21</td>\n",
       "      <td>49.0</td>\n",
       "      <td>49.0</td>\n",
       "      <td>49.0</td>\n",
       "      <td>49.0</td>\n",
       "    </tr>\n",
       "    <tr>\n",
       "      <th>21</th>\n",
       "      <td>22</td>\n",
       "      <td>50.0</td>\n",
       "      <td>50.0</td>\n",
       "      <td>50.0</td>\n",
       "      <td>50.0</td>\n",
       "    </tr>\n",
       "    <tr>\n",
       "      <th>22</th>\n",
       "      <td>23</td>\n",
       "      <td>51.0</td>\n",
       "      <td>51.0</td>\n",
       "      <td>51.0</td>\n",
       "      <td>51.0</td>\n",
       "    </tr>\n",
       "    <tr>\n",
       "      <th>23</th>\n",
       "      <td>24</td>\n",
       "      <td>52.0</td>\n",
       "      <td>52.0</td>\n",
       "      <td>52.0</td>\n",
       "      <td>52.0</td>\n",
       "    </tr>\n",
       "    <tr>\n",
       "      <th>24</th>\n",
       "      <td>25</td>\n",
       "      <td>53.0</td>\n",
       "      <td>2.0</td>\n",
       "      <td>2.0</td>\n",
       "      <td>53.0</td>\n",
       "    </tr>\n",
       "    <tr>\n",
       "      <th>25</th>\n",
       "      <td>26</td>\n",
       "      <td>54.0</td>\n",
       "      <td>33.0</td>\n",
       "      <td>33.0</td>\n",
       "      <td>54.0</td>\n",
       "    </tr>\n",
       "    <tr>\n",
       "      <th>26</th>\n",
       "      <td>27</td>\n",
       "      <td>55.0</td>\n",
       "      <td>34.0</td>\n",
       "      <td>34.0</td>\n",
       "      <td>55.0</td>\n",
       "    </tr>\n",
       "    <tr>\n",
       "      <th>27</th>\n",
       "      <td>28</td>\n",
       "      <td>56.0</td>\n",
       "      <td>35.0</td>\n",
       "      <td>35.0</td>\n",
       "      <td>2.0</td>\n",
       "    </tr>\n",
       "    <tr>\n",
       "      <th>28</th>\n",
       "      <td>29</td>\n",
       "      <td>57.0</td>\n",
       "      <td>36.0</td>\n",
       "      <td>36.0</td>\n",
       "      <td>66.0</td>\n",
       "    </tr>\n",
       "    <tr>\n",
       "      <th>29</th>\n",
       "      <td>30</td>\n",
       "      <td>58.0</td>\n",
       "      <td>37.0</td>\n",
       "      <td>37.0</td>\n",
       "      <td>43.0</td>\n",
       "    </tr>\n",
       "  </tbody>\n",
       "</table>\n",
       "</div>"
      ],
      "text/plain": [
       "    Roll No.  Physics  Chemistry  Maths  Computer\n",
       "0          1     56.0       57.0   58.0      59.0\n",
       "1          2     23.0       24.0   25.0      26.0\n",
       "2          3     89.0       25.0   26.0      27.0\n",
       "3          4     45.0       26.0   27.0      28.0\n",
       "4          5     23.0       27.0   28.0      29.0\n",
       "5          6     90.0        2.0   29.0      30.0\n",
       "6          7     12.0       13.0   14.0      15.0\n",
       "7          8     78.0       14.0   15.0      16.0\n",
       "8          9      2.0       15.0   16.0      17.0\n",
       "9         10     45.0       16.0   17.0      18.0\n",
       "10        11      2.0       17.0   18.0      19.0\n",
       "11        12     88.0        2.0   19.0      20.0\n",
       "12        13     22.0       23.0   24.0      25.0\n",
       "13        14     90.0        2.0    2.0      42.0\n",
       "14        15      2.0       43.0   43.0      43.0\n",
       "15        16     44.0       44.0   44.0      44.0\n",
       "16        17     45.0       45.0   45.0      45.0\n",
       "17        18     46.0       46.0   46.0      46.0\n",
       "18        19     47.0       47.0   47.0      47.0\n",
       "19        20     48.0       48.0   48.0      48.0\n",
       "20        21     49.0       49.0   49.0      49.0\n",
       "21        22     50.0       50.0   50.0      50.0\n",
       "22        23     51.0       51.0   51.0      51.0\n",
       "23        24     52.0       52.0   52.0      52.0\n",
       "24        25     53.0        2.0    2.0      53.0\n",
       "25        26     54.0       33.0   33.0      54.0\n",
       "26        27     55.0       34.0   34.0      55.0\n",
       "27        28     56.0       35.0   35.0       2.0\n",
       "28        29     57.0       36.0   36.0      66.0\n",
       "29        30     58.0       37.0   37.0      43.0"
      ]
     },
     "execution_count": 49,
     "metadata": {},
     "output_type": "execute_result"
    }
   ],
   "source": [
    "df.fillna(2)  #we can fill null values with any value --here \"2\""
   ]
  },
  {
   "cell_type": "code",
   "execution_count": 50,
   "id": "38120af5",
   "metadata": {
    "execution": {
     "iopub.execute_input": "2023-06-24T13:07:09.444665Z",
     "iopub.status.busy": "2023-06-24T13:07:09.444376Z",
     "iopub.status.idle": "2023-06-24T13:07:09.465377Z",
     "shell.execute_reply": "2023-06-24T13:07:09.464435Z"
    },
    "papermill": {
     "duration": 0.04908,
     "end_time": "2023-06-24T13:07:09.467157",
     "exception": false,
     "start_time": "2023-06-24T13:07:09.418077",
     "status": "completed"
    },
    "tags": []
   },
   "outputs": [
    {
     "data": {
      "text/html": [
       "<div>\n",
       "<style scoped>\n",
       "    .dataframe tbody tr th:only-of-type {\n",
       "        vertical-align: middle;\n",
       "    }\n",
       "\n",
       "    .dataframe tbody tr th {\n",
       "        vertical-align: top;\n",
       "    }\n",
       "\n",
       "    .dataframe thead th {\n",
       "        text-align: right;\n",
       "    }\n",
       "</style>\n",
       "<table border=\"1\" class=\"dataframe\">\n",
       "  <thead>\n",
       "    <tr style=\"text-align: right;\">\n",
       "      <th></th>\n",
       "      <th>Roll No.</th>\n",
       "      <th>Physics</th>\n",
       "      <th>Chemistry</th>\n",
       "      <th>Maths</th>\n",
       "      <th>Computer</th>\n",
       "    </tr>\n",
       "  </thead>\n",
       "  <tbody>\n",
       "    <tr>\n",
       "      <th>0</th>\n",
       "      <td>1</td>\n",
       "      <td>56.0</td>\n",
       "      <td>57.0</td>\n",
       "      <td>58.0</td>\n",
       "      <td>59.0</td>\n",
       "    </tr>\n",
       "    <tr>\n",
       "      <th>1</th>\n",
       "      <td>2</td>\n",
       "      <td>23.0</td>\n",
       "      <td>24.0</td>\n",
       "      <td>25.0</td>\n",
       "      <td>26.0</td>\n",
       "    </tr>\n",
       "    <tr>\n",
       "      <th>2</th>\n",
       "      <td>3</td>\n",
       "      <td>89.0</td>\n",
       "      <td>25.0</td>\n",
       "      <td>26.0</td>\n",
       "      <td>27.0</td>\n",
       "    </tr>\n",
       "    <tr>\n",
       "      <th>3</th>\n",
       "      <td>4</td>\n",
       "      <td>45.0</td>\n",
       "      <td>26.0</td>\n",
       "      <td>27.0</td>\n",
       "      <td>28.0</td>\n",
       "    </tr>\n",
       "    <tr>\n",
       "      <th>4</th>\n",
       "      <td>5</td>\n",
       "      <td>23.0</td>\n",
       "      <td>27.0</td>\n",
       "      <td>28.0</td>\n",
       "      <td>29.0</td>\n",
       "    </tr>\n",
       "    <tr>\n",
       "      <th>5</th>\n",
       "      <td>6</td>\n",
       "      <td>90.0</td>\n",
       "      <td>0.0</td>\n",
       "      <td>29.0</td>\n",
       "      <td>30.0</td>\n",
       "    </tr>\n",
       "    <tr>\n",
       "      <th>6</th>\n",
       "      <td>7</td>\n",
       "      <td>12.0</td>\n",
       "      <td>13.0</td>\n",
       "      <td>14.0</td>\n",
       "      <td>15.0</td>\n",
       "    </tr>\n",
       "    <tr>\n",
       "      <th>7</th>\n",
       "      <td>8</td>\n",
       "      <td>78.0</td>\n",
       "      <td>14.0</td>\n",
       "      <td>15.0</td>\n",
       "      <td>16.0</td>\n",
       "    </tr>\n",
       "    <tr>\n",
       "      <th>8</th>\n",
       "      <td>9</td>\n",
       "      <td>none</td>\n",
       "      <td>15.0</td>\n",
       "      <td>16.0</td>\n",
       "      <td>17.0</td>\n",
       "    </tr>\n",
       "    <tr>\n",
       "      <th>9</th>\n",
       "      <td>10</td>\n",
       "      <td>45.0</td>\n",
       "      <td>16.0</td>\n",
       "      <td>17.0</td>\n",
       "      <td>18.0</td>\n",
       "    </tr>\n",
       "    <tr>\n",
       "      <th>10</th>\n",
       "      <td>11</td>\n",
       "      <td>none</td>\n",
       "      <td>17.0</td>\n",
       "      <td>18.0</td>\n",
       "      <td>19.0</td>\n",
       "    </tr>\n",
       "    <tr>\n",
       "      <th>11</th>\n",
       "      <td>12</td>\n",
       "      <td>88.0</td>\n",
       "      <td>0.0</td>\n",
       "      <td>19.0</td>\n",
       "      <td>20.0</td>\n",
       "    </tr>\n",
       "    <tr>\n",
       "      <th>12</th>\n",
       "      <td>13</td>\n",
       "      <td>22.0</td>\n",
       "      <td>23.0</td>\n",
       "      <td>24.0</td>\n",
       "      <td>25.0</td>\n",
       "    </tr>\n",
       "    <tr>\n",
       "      <th>13</th>\n",
       "      <td>14</td>\n",
       "      <td>90.0</td>\n",
       "      <td>0.0</td>\n",
       "      <td>30.0</td>\n",
       "      <td>42.0</td>\n",
       "    </tr>\n",
       "    <tr>\n",
       "      <th>14</th>\n",
       "      <td>15</td>\n",
       "      <td>none</td>\n",
       "      <td>43.0</td>\n",
       "      <td>43.0</td>\n",
       "      <td>43.0</td>\n",
       "    </tr>\n",
       "    <tr>\n",
       "      <th>15</th>\n",
       "      <td>16</td>\n",
       "      <td>44.0</td>\n",
       "      <td>44.0</td>\n",
       "      <td>44.0</td>\n",
       "      <td>44.0</td>\n",
       "    </tr>\n",
       "    <tr>\n",
       "      <th>16</th>\n",
       "      <td>17</td>\n",
       "      <td>45.0</td>\n",
       "      <td>45.0</td>\n",
       "      <td>45.0</td>\n",
       "      <td>45.0</td>\n",
       "    </tr>\n",
       "    <tr>\n",
       "      <th>17</th>\n",
       "      <td>18</td>\n",
       "      <td>46.0</td>\n",
       "      <td>46.0</td>\n",
       "      <td>46.0</td>\n",
       "      <td>46.0</td>\n",
       "    </tr>\n",
       "    <tr>\n",
       "      <th>18</th>\n",
       "      <td>19</td>\n",
       "      <td>47.0</td>\n",
       "      <td>47.0</td>\n",
       "      <td>47.0</td>\n",
       "      <td>47.0</td>\n",
       "    </tr>\n",
       "    <tr>\n",
       "      <th>19</th>\n",
       "      <td>20</td>\n",
       "      <td>48.0</td>\n",
       "      <td>48.0</td>\n",
       "      <td>48.0</td>\n",
       "      <td>48.0</td>\n",
       "    </tr>\n",
       "    <tr>\n",
       "      <th>20</th>\n",
       "      <td>21</td>\n",
       "      <td>49.0</td>\n",
       "      <td>49.0</td>\n",
       "      <td>49.0</td>\n",
       "      <td>49.0</td>\n",
       "    </tr>\n",
       "    <tr>\n",
       "      <th>21</th>\n",
       "      <td>22</td>\n",
       "      <td>50.0</td>\n",
       "      <td>50.0</td>\n",
       "      <td>50.0</td>\n",
       "      <td>50.0</td>\n",
       "    </tr>\n",
       "    <tr>\n",
       "      <th>22</th>\n",
       "      <td>23</td>\n",
       "      <td>51.0</td>\n",
       "      <td>51.0</td>\n",
       "      <td>51.0</td>\n",
       "      <td>51.0</td>\n",
       "    </tr>\n",
       "    <tr>\n",
       "      <th>23</th>\n",
       "      <td>24</td>\n",
       "      <td>52.0</td>\n",
       "      <td>52.0</td>\n",
       "      <td>52.0</td>\n",
       "      <td>52.0</td>\n",
       "    </tr>\n",
       "    <tr>\n",
       "      <th>24</th>\n",
       "      <td>25</td>\n",
       "      <td>53.0</td>\n",
       "      <td>0.0</td>\n",
       "      <td>30.0</td>\n",
       "      <td>53.0</td>\n",
       "    </tr>\n",
       "    <tr>\n",
       "      <th>25</th>\n",
       "      <td>26</td>\n",
       "      <td>54.0</td>\n",
       "      <td>33.0</td>\n",
       "      <td>33.0</td>\n",
       "      <td>54.0</td>\n",
       "    </tr>\n",
       "    <tr>\n",
       "      <th>26</th>\n",
       "      <td>27</td>\n",
       "      <td>55.0</td>\n",
       "      <td>34.0</td>\n",
       "      <td>34.0</td>\n",
       "      <td>55.0</td>\n",
       "    </tr>\n",
       "    <tr>\n",
       "      <th>27</th>\n",
       "      <td>28</td>\n",
       "      <td>56.0</td>\n",
       "      <td>35.0</td>\n",
       "      <td>35.0</td>\n",
       "      <td>NaN</td>\n",
       "    </tr>\n",
       "    <tr>\n",
       "      <th>28</th>\n",
       "      <td>29</td>\n",
       "      <td>57.0</td>\n",
       "      <td>36.0</td>\n",
       "      <td>36.0</td>\n",
       "      <td>66.0</td>\n",
       "    </tr>\n",
       "    <tr>\n",
       "      <th>29</th>\n",
       "      <td>30</td>\n",
       "      <td>58.0</td>\n",
       "      <td>37.0</td>\n",
       "      <td>37.0</td>\n",
       "      <td>43.0</td>\n",
       "    </tr>\n",
       "  </tbody>\n",
       "</table>\n",
       "</div>"
      ],
      "text/plain": [
       "    Roll No. Physics  Chemistry  Maths  Computer\n",
       "0          1    56.0       57.0   58.0      59.0\n",
       "1          2    23.0       24.0   25.0      26.0\n",
       "2          3    89.0       25.0   26.0      27.0\n",
       "3          4    45.0       26.0   27.0      28.0\n",
       "4          5    23.0       27.0   28.0      29.0\n",
       "5          6    90.0        0.0   29.0      30.0\n",
       "6          7    12.0       13.0   14.0      15.0\n",
       "7          8    78.0       14.0   15.0      16.0\n",
       "8          9    none       15.0   16.0      17.0\n",
       "9         10    45.0       16.0   17.0      18.0\n",
       "10        11    none       17.0   18.0      19.0\n",
       "11        12    88.0        0.0   19.0      20.0\n",
       "12        13    22.0       23.0   24.0      25.0\n",
       "13        14    90.0        0.0   30.0      42.0\n",
       "14        15    none       43.0   43.0      43.0\n",
       "15        16    44.0       44.0   44.0      44.0\n",
       "16        17    45.0       45.0   45.0      45.0\n",
       "17        18    46.0       46.0   46.0      46.0\n",
       "18        19    47.0       47.0   47.0      47.0\n",
       "19        20    48.0       48.0   48.0      48.0\n",
       "20        21    49.0       49.0   49.0      49.0\n",
       "21        22    50.0       50.0   50.0      50.0\n",
       "22        23    51.0       51.0   51.0      51.0\n",
       "23        24    52.0       52.0   52.0      52.0\n",
       "24        25    53.0        0.0   30.0      53.0\n",
       "25        26    54.0       33.0   33.0      54.0\n",
       "26        27    55.0       34.0   34.0      55.0\n",
       "27        28    56.0       35.0   35.0       NaN\n",
       "28        29    57.0       36.0   36.0      66.0\n",
       "29        30    58.0       37.0   37.0      43.0"
      ]
     },
     "execution_count": 50,
     "metadata": {},
     "output_type": "execute_result"
    }
   ],
   "source": [
    "df.fillna({\"Physics\":'none',\"Chemistry\":0,\"Maths\":30}) #we can customize the null values like this"
   ]
  },
  {
   "cell_type": "code",
   "execution_count": 51,
   "id": "676765b1",
   "metadata": {
    "execution": {
     "iopub.execute_input": "2023-06-24T13:07:09.521975Z",
     "iopub.status.busy": "2023-06-24T13:07:09.521608Z",
     "iopub.status.idle": "2023-06-24T13:07:09.541378Z",
     "shell.execute_reply": "2023-06-24T13:07:09.540796Z"
    },
    "papermill": {
     "duration": 0.048624,
     "end_time": "2023-06-24T13:07:09.542922",
     "exception": false,
     "start_time": "2023-06-24T13:07:09.494298",
     "status": "completed"
    },
    "tags": []
   },
   "outputs": [
    {
     "data": {
      "text/html": [
       "<div>\n",
       "<style scoped>\n",
       "    .dataframe tbody tr th:only-of-type {\n",
       "        vertical-align: middle;\n",
       "    }\n",
       "\n",
       "    .dataframe tbody tr th {\n",
       "        vertical-align: top;\n",
       "    }\n",
       "\n",
       "    .dataframe thead th {\n",
       "        text-align: right;\n",
       "    }\n",
       "</style>\n",
       "<table border=\"1\" class=\"dataframe\">\n",
       "  <thead>\n",
       "    <tr style=\"text-align: right;\">\n",
       "      <th></th>\n",
       "      <th>Roll No.</th>\n",
       "      <th>Physics</th>\n",
       "      <th>Chemistry</th>\n",
       "      <th>Maths</th>\n",
       "      <th>Computer</th>\n",
       "    </tr>\n",
       "  </thead>\n",
       "  <tbody>\n",
       "    <tr>\n",
       "      <th>0</th>\n",
       "      <td>1</td>\n",
       "      <td>56.0</td>\n",
       "      <td>57.0</td>\n",
       "      <td>58.0</td>\n",
       "      <td>59.0</td>\n",
       "    </tr>\n",
       "    <tr>\n",
       "      <th>1</th>\n",
       "      <td>2</td>\n",
       "      <td>23.0</td>\n",
       "      <td>24.0</td>\n",
       "      <td>25.0</td>\n",
       "      <td>26.0</td>\n",
       "    </tr>\n",
       "    <tr>\n",
       "      <th>2</th>\n",
       "      <td>3</td>\n",
       "      <td>89.0</td>\n",
       "      <td>25.0</td>\n",
       "      <td>26.0</td>\n",
       "      <td>27.0</td>\n",
       "    </tr>\n",
       "    <tr>\n",
       "      <th>3</th>\n",
       "      <td>4</td>\n",
       "      <td>45.0</td>\n",
       "      <td>26.0</td>\n",
       "      <td>27.0</td>\n",
       "      <td>28.0</td>\n",
       "    </tr>\n",
       "    <tr>\n",
       "      <th>4</th>\n",
       "      <td>5</td>\n",
       "      <td>23.0</td>\n",
       "      <td>27.0</td>\n",
       "      <td>28.0</td>\n",
       "      <td>29.0</td>\n",
       "    </tr>\n",
       "    <tr>\n",
       "      <th>5</th>\n",
       "      <td>6</td>\n",
       "      <td>90.0</td>\n",
       "      <td>27.0</td>\n",
       "      <td>29.0</td>\n",
       "      <td>30.0</td>\n",
       "    </tr>\n",
       "    <tr>\n",
       "      <th>6</th>\n",
       "      <td>7</td>\n",
       "      <td>12.0</td>\n",
       "      <td>13.0</td>\n",
       "      <td>14.0</td>\n",
       "      <td>15.0</td>\n",
       "    </tr>\n",
       "    <tr>\n",
       "      <th>7</th>\n",
       "      <td>8</td>\n",
       "      <td>78.0</td>\n",
       "      <td>14.0</td>\n",
       "      <td>15.0</td>\n",
       "      <td>16.0</td>\n",
       "    </tr>\n",
       "    <tr>\n",
       "      <th>8</th>\n",
       "      <td>9</td>\n",
       "      <td>78.0</td>\n",
       "      <td>15.0</td>\n",
       "      <td>16.0</td>\n",
       "      <td>17.0</td>\n",
       "    </tr>\n",
       "    <tr>\n",
       "      <th>9</th>\n",
       "      <td>10</td>\n",
       "      <td>45.0</td>\n",
       "      <td>16.0</td>\n",
       "      <td>17.0</td>\n",
       "      <td>18.0</td>\n",
       "    </tr>\n",
       "    <tr>\n",
       "      <th>10</th>\n",
       "      <td>11</td>\n",
       "      <td>45.0</td>\n",
       "      <td>17.0</td>\n",
       "      <td>18.0</td>\n",
       "      <td>19.0</td>\n",
       "    </tr>\n",
       "    <tr>\n",
       "      <th>11</th>\n",
       "      <td>12</td>\n",
       "      <td>88.0</td>\n",
       "      <td>17.0</td>\n",
       "      <td>19.0</td>\n",
       "      <td>20.0</td>\n",
       "    </tr>\n",
       "    <tr>\n",
       "      <th>12</th>\n",
       "      <td>13</td>\n",
       "      <td>22.0</td>\n",
       "      <td>23.0</td>\n",
       "      <td>24.0</td>\n",
       "      <td>25.0</td>\n",
       "    </tr>\n",
       "    <tr>\n",
       "      <th>13</th>\n",
       "      <td>14</td>\n",
       "      <td>90.0</td>\n",
       "      <td>23.0</td>\n",
       "      <td>24.0</td>\n",
       "      <td>42.0</td>\n",
       "    </tr>\n",
       "    <tr>\n",
       "      <th>14</th>\n",
       "      <td>15</td>\n",
       "      <td>90.0</td>\n",
       "      <td>43.0</td>\n",
       "      <td>43.0</td>\n",
       "      <td>43.0</td>\n",
       "    </tr>\n",
       "    <tr>\n",
       "      <th>15</th>\n",
       "      <td>16</td>\n",
       "      <td>44.0</td>\n",
       "      <td>44.0</td>\n",
       "      <td>44.0</td>\n",
       "      <td>44.0</td>\n",
       "    </tr>\n",
       "    <tr>\n",
       "      <th>16</th>\n",
       "      <td>17</td>\n",
       "      <td>45.0</td>\n",
       "      <td>45.0</td>\n",
       "      <td>45.0</td>\n",
       "      <td>45.0</td>\n",
       "    </tr>\n",
       "    <tr>\n",
       "      <th>17</th>\n",
       "      <td>18</td>\n",
       "      <td>46.0</td>\n",
       "      <td>46.0</td>\n",
       "      <td>46.0</td>\n",
       "      <td>46.0</td>\n",
       "    </tr>\n",
       "    <tr>\n",
       "      <th>18</th>\n",
       "      <td>19</td>\n",
       "      <td>47.0</td>\n",
       "      <td>47.0</td>\n",
       "      <td>47.0</td>\n",
       "      <td>47.0</td>\n",
       "    </tr>\n",
       "    <tr>\n",
       "      <th>19</th>\n",
       "      <td>20</td>\n",
       "      <td>48.0</td>\n",
       "      <td>48.0</td>\n",
       "      <td>48.0</td>\n",
       "      <td>48.0</td>\n",
       "    </tr>\n",
       "    <tr>\n",
       "      <th>20</th>\n",
       "      <td>21</td>\n",
       "      <td>49.0</td>\n",
       "      <td>49.0</td>\n",
       "      <td>49.0</td>\n",
       "      <td>49.0</td>\n",
       "    </tr>\n",
       "    <tr>\n",
       "      <th>21</th>\n",
       "      <td>22</td>\n",
       "      <td>50.0</td>\n",
       "      <td>50.0</td>\n",
       "      <td>50.0</td>\n",
       "      <td>50.0</td>\n",
       "    </tr>\n",
       "    <tr>\n",
       "      <th>22</th>\n",
       "      <td>23</td>\n",
       "      <td>51.0</td>\n",
       "      <td>51.0</td>\n",
       "      <td>51.0</td>\n",
       "      <td>51.0</td>\n",
       "    </tr>\n",
       "    <tr>\n",
       "      <th>23</th>\n",
       "      <td>24</td>\n",
       "      <td>52.0</td>\n",
       "      <td>52.0</td>\n",
       "      <td>52.0</td>\n",
       "      <td>52.0</td>\n",
       "    </tr>\n",
       "    <tr>\n",
       "      <th>24</th>\n",
       "      <td>25</td>\n",
       "      <td>53.0</td>\n",
       "      <td>52.0</td>\n",
       "      <td>52.0</td>\n",
       "      <td>53.0</td>\n",
       "    </tr>\n",
       "    <tr>\n",
       "      <th>25</th>\n",
       "      <td>26</td>\n",
       "      <td>54.0</td>\n",
       "      <td>33.0</td>\n",
       "      <td>33.0</td>\n",
       "      <td>54.0</td>\n",
       "    </tr>\n",
       "    <tr>\n",
       "      <th>26</th>\n",
       "      <td>27</td>\n",
       "      <td>55.0</td>\n",
       "      <td>34.0</td>\n",
       "      <td>34.0</td>\n",
       "      <td>55.0</td>\n",
       "    </tr>\n",
       "    <tr>\n",
       "      <th>27</th>\n",
       "      <td>28</td>\n",
       "      <td>56.0</td>\n",
       "      <td>35.0</td>\n",
       "      <td>35.0</td>\n",
       "      <td>55.0</td>\n",
       "    </tr>\n",
       "    <tr>\n",
       "      <th>28</th>\n",
       "      <td>29</td>\n",
       "      <td>57.0</td>\n",
       "      <td>36.0</td>\n",
       "      <td>36.0</td>\n",
       "      <td>66.0</td>\n",
       "    </tr>\n",
       "    <tr>\n",
       "      <th>29</th>\n",
       "      <td>30</td>\n",
       "      <td>58.0</td>\n",
       "      <td>37.0</td>\n",
       "      <td>37.0</td>\n",
       "      <td>43.0</td>\n",
       "    </tr>\n",
       "  </tbody>\n",
       "</table>\n",
       "</div>"
      ],
      "text/plain": [
       "    Roll No.  Physics  Chemistry  Maths  Computer\n",
       "0          1     56.0       57.0   58.0      59.0\n",
       "1          2     23.0       24.0   25.0      26.0\n",
       "2          3     89.0       25.0   26.0      27.0\n",
       "3          4     45.0       26.0   27.0      28.0\n",
       "4          5     23.0       27.0   28.0      29.0\n",
       "5          6     90.0       27.0   29.0      30.0\n",
       "6          7     12.0       13.0   14.0      15.0\n",
       "7          8     78.0       14.0   15.0      16.0\n",
       "8          9     78.0       15.0   16.0      17.0\n",
       "9         10     45.0       16.0   17.0      18.0\n",
       "10        11     45.0       17.0   18.0      19.0\n",
       "11        12     88.0       17.0   19.0      20.0\n",
       "12        13     22.0       23.0   24.0      25.0\n",
       "13        14     90.0       23.0   24.0      42.0\n",
       "14        15     90.0       43.0   43.0      43.0\n",
       "15        16     44.0       44.0   44.0      44.0\n",
       "16        17     45.0       45.0   45.0      45.0\n",
       "17        18     46.0       46.0   46.0      46.0\n",
       "18        19     47.0       47.0   47.0      47.0\n",
       "19        20     48.0       48.0   48.0      48.0\n",
       "20        21     49.0       49.0   49.0      49.0\n",
       "21        22     50.0       50.0   50.0      50.0\n",
       "22        23     51.0       51.0   51.0      51.0\n",
       "23        24     52.0       52.0   52.0      52.0\n",
       "24        25     53.0       52.0   52.0      53.0\n",
       "25        26     54.0       33.0   33.0      54.0\n",
       "26        27     55.0       34.0   34.0      55.0\n",
       "27        28     56.0       35.0   35.0      55.0\n",
       "28        29     57.0       36.0   36.0      66.0\n",
       "29        30     58.0       37.0   37.0      43.0"
      ]
     },
     "execution_count": 51,
     "metadata": {},
     "output_type": "execute_result"
    }
   ],
   "source": [
    " df.fillna(method=\"ffill\") #this is forward fill where null values are filled with the just previous value of perticluar row."
   ]
  },
  {
   "cell_type": "code",
   "execution_count": 52,
   "id": "20dbeed8",
   "metadata": {
    "execution": {
     "iopub.execute_input": "2023-06-24T13:07:09.598480Z",
     "iopub.status.busy": "2023-06-24T13:07:09.598169Z",
     "iopub.status.idle": "2023-06-24T13:07:09.618888Z",
     "shell.execute_reply": "2023-06-24T13:07:09.618047Z"
    },
    "papermill": {
     "duration": 0.049709,
     "end_time": "2023-06-24T13:07:09.620585",
     "exception": false,
     "start_time": "2023-06-24T13:07:09.570876",
     "status": "completed"
    },
    "tags": []
   },
   "outputs": [
    {
     "data": {
      "text/html": [
       "<div>\n",
       "<style scoped>\n",
       "    .dataframe tbody tr th:only-of-type {\n",
       "        vertical-align: middle;\n",
       "    }\n",
       "\n",
       "    .dataframe tbody tr th {\n",
       "        vertical-align: top;\n",
       "    }\n",
       "\n",
       "    .dataframe thead th {\n",
       "        text-align: right;\n",
       "    }\n",
       "</style>\n",
       "<table border=\"1\" class=\"dataframe\">\n",
       "  <thead>\n",
       "    <tr style=\"text-align: right;\">\n",
       "      <th></th>\n",
       "      <th>Roll No.</th>\n",
       "      <th>Physics</th>\n",
       "      <th>Chemistry</th>\n",
       "      <th>Maths</th>\n",
       "      <th>Computer</th>\n",
       "    </tr>\n",
       "  </thead>\n",
       "  <tbody>\n",
       "    <tr>\n",
       "      <th>0</th>\n",
       "      <td>1.0</td>\n",
       "      <td>56.0</td>\n",
       "      <td>57.0</td>\n",
       "      <td>58.0</td>\n",
       "      <td>59.0</td>\n",
       "    </tr>\n",
       "    <tr>\n",
       "      <th>1</th>\n",
       "      <td>2.0</td>\n",
       "      <td>23.0</td>\n",
       "      <td>24.0</td>\n",
       "      <td>25.0</td>\n",
       "      <td>26.0</td>\n",
       "    </tr>\n",
       "    <tr>\n",
       "      <th>2</th>\n",
       "      <td>3.0</td>\n",
       "      <td>89.0</td>\n",
       "      <td>25.0</td>\n",
       "      <td>26.0</td>\n",
       "      <td>27.0</td>\n",
       "    </tr>\n",
       "    <tr>\n",
       "      <th>3</th>\n",
       "      <td>4.0</td>\n",
       "      <td>45.0</td>\n",
       "      <td>26.0</td>\n",
       "      <td>27.0</td>\n",
       "      <td>28.0</td>\n",
       "    </tr>\n",
       "    <tr>\n",
       "      <th>4</th>\n",
       "      <td>5.0</td>\n",
       "      <td>23.0</td>\n",
       "      <td>27.0</td>\n",
       "      <td>28.0</td>\n",
       "      <td>29.0</td>\n",
       "    </tr>\n",
       "    <tr>\n",
       "      <th>5</th>\n",
       "      <td>6.0</td>\n",
       "      <td>90.0</td>\n",
       "      <td>90.0</td>\n",
       "      <td>29.0</td>\n",
       "      <td>30.0</td>\n",
       "    </tr>\n",
       "    <tr>\n",
       "      <th>6</th>\n",
       "      <td>7.0</td>\n",
       "      <td>12.0</td>\n",
       "      <td>13.0</td>\n",
       "      <td>14.0</td>\n",
       "      <td>15.0</td>\n",
       "    </tr>\n",
       "    <tr>\n",
       "      <th>7</th>\n",
       "      <td>8.0</td>\n",
       "      <td>78.0</td>\n",
       "      <td>14.0</td>\n",
       "      <td>15.0</td>\n",
       "      <td>16.0</td>\n",
       "    </tr>\n",
       "    <tr>\n",
       "      <th>8</th>\n",
       "      <td>9.0</td>\n",
       "      <td>9.0</td>\n",
       "      <td>15.0</td>\n",
       "      <td>16.0</td>\n",
       "      <td>17.0</td>\n",
       "    </tr>\n",
       "    <tr>\n",
       "      <th>9</th>\n",
       "      <td>10.0</td>\n",
       "      <td>45.0</td>\n",
       "      <td>16.0</td>\n",
       "      <td>17.0</td>\n",
       "      <td>18.0</td>\n",
       "    </tr>\n",
       "    <tr>\n",
       "      <th>10</th>\n",
       "      <td>11.0</td>\n",
       "      <td>11.0</td>\n",
       "      <td>17.0</td>\n",
       "      <td>18.0</td>\n",
       "      <td>19.0</td>\n",
       "    </tr>\n",
       "    <tr>\n",
       "      <th>11</th>\n",
       "      <td>12.0</td>\n",
       "      <td>88.0</td>\n",
       "      <td>88.0</td>\n",
       "      <td>19.0</td>\n",
       "      <td>20.0</td>\n",
       "    </tr>\n",
       "    <tr>\n",
       "      <th>12</th>\n",
       "      <td>13.0</td>\n",
       "      <td>22.0</td>\n",
       "      <td>23.0</td>\n",
       "      <td>24.0</td>\n",
       "      <td>25.0</td>\n",
       "    </tr>\n",
       "    <tr>\n",
       "      <th>13</th>\n",
       "      <td>14.0</td>\n",
       "      <td>90.0</td>\n",
       "      <td>90.0</td>\n",
       "      <td>90.0</td>\n",
       "      <td>42.0</td>\n",
       "    </tr>\n",
       "    <tr>\n",
       "      <th>14</th>\n",
       "      <td>15.0</td>\n",
       "      <td>15.0</td>\n",
       "      <td>43.0</td>\n",
       "      <td>43.0</td>\n",
       "      <td>43.0</td>\n",
       "    </tr>\n",
       "    <tr>\n",
       "      <th>15</th>\n",
       "      <td>16.0</td>\n",
       "      <td>44.0</td>\n",
       "      <td>44.0</td>\n",
       "      <td>44.0</td>\n",
       "      <td>44.0</td>\n",
       "    </tr>\n",
       "    <tr>\n",
       "      <th>16</th>\n",
       "      <td>17.0</td>\n",
       "      <td>45.0</td>\n",
       "      <td>45.0</td>\n",
       "      <td>45.0</td>\n",
       "      <td>45.0</td>\n",
       "    </tr>\n",
       "    <tr>\n",
       "      <th>17</th>\n",
       "      <td>18.0</td>\n",
       "      <td>46.0</td>\n",
       "      <td>46.0</td>\n",
       "      <td>46.0</td>\n",
       "      <td>46.0</td>\n",
       "    </tr>\n",
       "    <tr>\n",
       "      <th>18</th>\n",
       "      <td>19.0</td>\n",
       "      <td>47.0</td>\n",
       "      <td>47.0</td>\n",
       "      <td>47.0</td>\n",
       "      <td>47.0</td>\n",
       "    </tr>\n",
       "    <tr>\n",
       "      <th>19</th>\n",
       "      <td>20.0</td>\n",
       "      <td>48.0</td>\n",
       "      <td>48.0</td>\n",
       "      <td>48.0</td>\n",
       "      <td>48.0</td>\n",
       "    </tr>\n",
       "    <tr>\n",
       "      <th>20</th>\n",
       "      <td>21.0</td>\n",
       "      <td>49.0</td>\n",
       "      <td>49.0</td>\n",
       "      <td>49.0</td>\n",
       "      <td>49.0</td>\n",
       "    </tr>\n",
       "    <tr>\n",
       "      <th>21</th>\n",
       "      <td>22.0</td>\n",
       "      <td>50.0</td>\n",
       "      <td>50.0</td>\n",
       "      <td>50.0</td>\n",
       "      <td>50.0</td>\n",
       "    </tr>\n",
       "    <tr>\n",
       "      <th>22</th>\n",
       "      <td>23.0</td>\n",
       "      <td>51.0</td>\n",
       "      <td>51.0</td>\n",
       "      <td>51.0</td>\n",
       "      <td>51.0</td>\n",
       "    </tr>\n",
       "    <tr>\n",
       "      <th>23</th>\n",
       "      <td>24.0</td>\n",
       "      <td>52.0</td>\n",
       "      <td>52.0</td>\n",
       "      <td>52.0</td>\n",
       "      <td>52.0</td>\n",
       "    </tr>\n",
       "    <tr>\n",
       "      <th>24</th>\n",
       "      <td>25.0</td>\n",
       "      <td>53.0</td>\n",
       "      <td>53.0</td>\n",
       "      <td>53.0</td>\n",
       "      <td>53.0</td>\n",
       "    </tr>\n",
       "    <tr>\n",
       "      <th>25</th>\n",
       "      <td>26.0</td>\n",
       "      <td>54.0</td>\n",
       "      <td>33.0</td>\n",
       "      <td>33.0</td>\n",
       "      <td>54.0</td>\n",
       "    </tr>\n",
       "    <tr>\n",
       "      <th>26</th>\n",
       "      <td>27.0</td>\n",
       "      <td>55.0</td>\n",
       "      <td>34.0</td>\n",
       "      <td>34.0</td>\n",
       "      <td>55.0</td>\n",
       "    </tr>\n",
       "    <tr>\n",
       "      <th>27</th>\n",
       "      <td>28.0</td>\n",
       "      <td>56.0</td>\n",
       "      <td>35.0</td>\n",
       "      <td>35.0</td>\n",
       "      <td>35.0</td>\n",
       "    </tr>\n",
       "    <tr>\n",
       "      <th>28</th>\n",
       "      <td>29.0</td>\n",
       "      <td>57.0</td>\n",
       "      <td>36.0</td>\n",
       "      <td>36.0</td>\n",
       "      <td>66.0</td>\n",
       "    </tr>\n",
       "    <tr>\n",
       "      <th>29</th>\n",
       "      <td>30.0</td>\n",
       "      <td>58.0</td>\n",
       "      <td>37.0</td>\n",
       "      <td>37.0</td>\n",
       "      <td>43.0</td>\n",
       "    </tr>\n",
       "  </tbody>\n",
       "</table>\n",
       "</div>"
      ],
      "text/plain": [
       "    Roll No.  Physics  Chemistry  Maths  Computer\n",
       "0        1.0     56.0       57.0   58.0      59.0\n",
       "1        2.0     23.0       24.0   25.0      26.0\n",
       "2        3.0     89.0       25.0   26.0      27.0\n",
       "3        4.0     45.0       26.0   27.0      28.0\n",
       "4        5.0     23.0       27.0   28.0      29.0\n",
       "5        6.0     90.0       90.0   29.0      30.0\n",
       "6        7.0     12.0       13.0   14.0      15.0\n",
       "7        8.0     78.0       14.0   15.0      16.0\n",
       "8        9.0      9.0       15.0   16.0      17.0\n",
       "9       10.0     45.0       16.0   17.0      18.0\n",
       "10      11.0     11.0       17.0   18.0      19.0\n",
       "11      12.0     88.0       88.0   19.0      20.0\n",
       "12      13.0     22.0       23.0   24.0      25.0\n",
       "13      14.0     90.0       90.0   90.0      42.0\n",
       "14      15.0     15.0       43.0   43.0      43.0\n",
       "15      16.0     44.0       44.0   44.0      44.0\n",
       "16      17.0     45.0       45.0   45.0      45.0\n",
       "17      18.0     46.0       46.0   46.0      46.0\n",
       "18      19.0     47.0       47.0   47.0      47.0\n",
       "19      20.0     48.0       48.0   48.0      48.0\n",
       "20      21.0     49.0       49.0   49.0      49.0\n",
       "21      22.0     50.0       50.0   50.0      50.0\n",
       "22      23.0     51.0       51.0   51.0      51.0\n",
       "23      24.0     52.0       52.0   52.0      52.0\n",
       "24      25.0     53.0       53.0   53.0      53.0\n",
       "25      26.0     54.0       33.0   33.0      54.0\n",
       "26      27.0     55.0       34.0   34.0      55.0\n",
       "27      28.0     56.0       35.0   35.0      35.0\n",
       "28      29.0     57.0       36.0   36.0      66.0\n",
       "29      30.0     58.0       37.0   37.0      43.0"
      ]
     },
     "execution_count": 52,
     "metadata": {},
     "output_type": "execute_result"
    }
   ],
   "source": [
    "df.fillna(method=\"ffill\",axis=1) #fill column values as above"
   ]
  },
  {
   "cell_type": "code",
   "execution_count": 53,
   "id": "02b05123",
   "metadata": {
    "execution": {
     "iopub.execute_input": "2023-06-24T13:07:09.676011Z",
     "iopub.status.busy": "2023-06-24T13:07:09.675665Z",
     "iopub.status.idle": "2023-06-24T13:07:09.684121Z",
     "shell.execute_reply": "2023-06-24T13:07:09.683443Z"
    },
    "papermill": {
     "duration": 0.037221,
     "end_time": "2023-06-24T13:07:09.685587",
     "exception": false,
     "start_time": "2023-06-24T13:07:09.648366",
     "status": "completed"
    },
    "tags": []
   },
   "outputs": [
    {
     "data": {
      "text/plain": [
       "0     56.000000\n",
       "1     23.000000\n",
       "2     89.000000\n",
       "3     45.000000\n",
       "4     23.000000\n",
       "5     90.000000\n",
       "6     12.000000\n",
       "7     78.000000\n",
       "8     52.814815\n",
       "9     45.000000\n",
       "10    52.814815\n",
       "11    88.000000\n",
       "12    22.000000\n",
       "13    90.000000\n",
       "14    52.814815\n",
       "15    44.000000\n",
       "16    45.000000\n",
       "17    46.000000\n",
       "18    47.000000\n",
       "19    48.000000\n",
       "20    49.000000\n",
       "21    50.000000\n",
       "22    51.000000\n",
       "23    52.000000\n",
       "24    53.000000\n",
       "25    54.000000\n",
       "26    55.000000\n",
       "27    56.000000\n",
       "28    57.000000\n",
       "29    58.000000\n",
       "Name: Physics, dtype: float64"
      ]
     },
     "execution_count": 53,
     "metadata": {},
     "output_type": "execute_result"
    }
   ],
   "source": [
    "#if we  want fill null value with mean value of complete row\n",
    "df[\"Physics\"].fillna(value=df[\"Physics\"].mean())  #it fills null values present in physics with mean value of all values in physics."
   ]
  },
  {
   "cell_type": "code",
   "execution_count": 54,
   "id": "774f17f1",
   "metadata": {
    "execution": {
     "iopub.execute_input": "2023-06-24T13:07:09.739808Z",
     "iopub.status.busy": "2023-06-24T13:07:09.739457Z",
     "iopub.status.idle": "2023-06-24T13:07:09.746853Z",
     "shell.execute_reply": "2023-06-24T13:07:09.745994Z"
    },
    "papermill": {
     "duration": 0.036506,
     "end_time": "2023-06-24T13:07:09.748646",
     "exception": false,
     "start_time": "2023-06-24T13:07:09.712140",
     "status": "completed"
    },
    "tags": []
   },
   "outputs": [],
   "source": [
    "df.fillna(method=\"bfill\",inplace=True) #fill value with forward value of the row"
   ]
  },
  {
   "cell_type": "code",
   "execution_count": 55,
   "id": "03e03f7e",
   "metadata": {
    "execution": {
     "iopub.execute_input": "2023-06-24T13:07:09.805983Z",
     "iopub.status.busy": "2023-06-24T13:07:09.805336Z",
     "iopub.status.idle": "2023-06-24T13:07:11.067481Z",
     "shell.execute_reply": "2023-06-24T13:07:11.066509Z"
    },
    "papermill": {
     "duration": 1.290814,
     "end_time": "2023-06-24T13:07:11.068483",
     "exception": true,
     "start_time": "2023-06-24T13:07:09.777669",
     "status": "failed"
    },
    "tags": []
   },
   "outputs": [
    {
     "ename": "ValueError",
     "evalue": "Must specify a fill 'value' or 'method'.",
     "output_type": "error",
     "traceback": [
      "\u001b[0;31m---------------------------------------------------------------------------\u001b[0m",
      "\u001b[0;31mValueError\u001b[0m                                Traceback (most recent call last)",
      "Cell \u001b[0;32mIn[55], line 1\u001b[0m\n\u001b[0;32m----> 1\u001b[0m \u001b[43mdf\u001b[49m\u001b[38;5;241;43m.\u001b[39;49m\u001b[43mfillna\u001b[49m\u001b[43m(\u001b[49m\u001b[43minplace\u001b[49m\u001b[38;5;241;43m=\u001b[39;49m\u001b[38;5;28;43;01mTrue\u001b[39;49;00m\u001b[43m)\u001b[49m\n",
      "File \u001b[0;32m/opt/conda/lib/python3.10/site-packages/pandas/util/_decorators.py:331\u001b[0m, in \u001b[0;36mdeprecate_nonkeyword_arguments.<locals>.decorate.<locals>.wrapper\u001b[0;34m(*args, **kwargs)\u001b[0m\n\u001b[1;32m    325\u001b[0m \u001b[38;5;28;01mif\u001b[39;00m \u001b[38;5;28mlen\u001b[39m(args) \u001b[38;5;241m>\u001b[39m num_allow_args:\n\u001b[1;32m    326\u001b[0m     warnings\u001b[38;5;241m.\u001b[39mwarn(\n\u001b[1;32m    327\u001b[0m         msg\u001b[38;5;241m.\u001b[39mformat(arguments\u001b[38;5;241m=\u001b[39m_format_argument_list(allow_args)),\n\u001b[1;32m    328\u001b[0m         \u001b[38;5;167;01mFutureWarning\u001b[39;00m,\n\u001b[1;32m    329\u001b[0m         stacklevel\u001b[38;5;241m=\u001b[39mfind_stack_level(),\n\u001b[1;32m    330\u001b[0m     )\n\u001b[0;32m--> 331\u001b[0m \u001b[38;5;28;01mreturn\u001b[39;00m \u001b[43mfunc\u001b[49m\u001b[43m(\u001b[49m\u001b[38;5;241;43m*\u001b[39;49m\u001b[43margs\u001b[49m\u001b[43m,\u001b[49m\u001b[43m \u001b[49m\u001b[38;5;241;43m*\u001b[39;49m\u001b[38;5;241;43m*\u001b[39;49m\u001b[43mkwargs\u001b[49m\u001b[43m)\u001b[49m\n",
      "File \u001b[0;32m/opt/conda/lib/python3.10/site-packages/pandas/core/frame.py:5635\u001b[0m, in \u001b[0;36mDataFrame.fillna\u001b[0;34m(self, value, method, axis, inplace, limit, downcast)\u001b[0m\n\u001b[1;32m   5624\u001b[0m \u001b[38;5;129m@deprecate_nonkeyword_arguments\u001b[39m(version\u001b[38;5;241m=\u001b[39m\u001b[38;5;28;01mNone\u001b[39;00m, allowed_args\u001b[38;5;241m=\u001b[39m[\u001b[38;5;124m\"\u001b[39m\u001b[38;5;124mself\u001b[39m\u001b[38;5;124m\"\u001b[39m, \u001b[38;5;124m\"\u001b[39m\u001b[38;5;124mvalue\u001b[39m\u001b[38;5;124m\"\u001b[39m])\n\u001b[1;32m   5625\u001b[0m \u001b[38;5;129m@doc\u001b[39m(NDFrame\u001b[38;5;241m.\u001b[39mfillna, \u001b[38;5;241m*\u001b[39m\u001b[38;5;241m*\u001b[39m_shared_doc_kwargs)\n\u001b[1;32m   5626\u001b[0m \u001b[38;5;28;01mdef\u001b[39;00m \u001b[38;5;21mfillna\u001b[39m(  \u001b[38;5;66;03m# type: ignore[override]\u001b[39;00m\n\u001b[0;32m   (...)\u001b[0m\n\u001b[1;32m   5633\u001b[0m     downcast: \u001b[38;5;28mdict\u001b[39m \u001b[38;5;241m|\u001b[39m \u001b[38;5;28;01mNone\u001b[39;00m \u001b[38;5;241m=\u001b[39m \u001b[38;5;28;01mNone\u001b[39;00m,\n\u001b[1;32m   5634\u001b[0m ) \u001b[38;5;241m-\u001b[39m\u001b[38;5;241m>\u001b[39m DataFrame \u001b[38;5;241m|\u001b[39m \u001b[38;5;28;01mNone\u001b[39;00m:\n\u001b[0;32m-> 5635\u001b[0m     \u001b[38;5;28;01mreturn\u001b[39;00m \u001b[38;5;28;43msuper\u001b[39;49m\u001b[43m(\u001b[49m\u001b[43m)\u001b[49m\u001b[38;5;241;43m.\u001b[39;49m\u001b[43mfillna\u001b[49m\u001b[43m(\u001b[49m\n\u001b[1;32m   5636\u001b[0m \u001b[43m        \u001b[49m\u001b[43mvalue\u001b[49m\u001b[38;5;241;43m=\u001b[39;49m\u001b[43mvalue\u001b[49m\u001b[43m,\u001b[49m\n\u001b[1;32m   5637\u001b[0m \u001b[43m        \u001b[49m\u001b[43mmethod\u001b[49m\u001b[38;5;241;43m=\u001b[39;49m\u001b[43mmethod\u001b[49m\u001b[43m,\u001b[49m\n\u001b[1;32m   5638\u001b[0m \u001b[43m        \u001b[49m\u001b[43maxis\u001b[49m\u001b[38;5;241;43m=\u001b[39;49m\u001b[43maxis\u001b[49m\u001b[43m,\u001b[49m\n\u001b[1;32m   5639\u001b[0m \u001b[43m        \u001b[49m\u001b[43minplace\u001b[49m\u001b[38;5;241;43m=\u001b[39;49m\u001b[43minplace\u001b[49m\u001b[43m,\u001b[49m\n\u001b[1;32m   5640\u001b[0m \u001b[43m        \u001b[49m\u001b[43mlimit\u001b[49m\u001b[38;5;241;43m=\u001b[39;49m\u001b[43mlimit\u001b[49m\u001b[43m,\u001b[49m\n\u001b[1;32m   5641\u001b[0m \u001b[43m        \u001b[49m\u001b[43mdowncast\u001b[49m\u001b[38;5;241;43m=\u001b[39;49m\u001b[43mdowncast\u001b[49m\u001b[43m,\u001b[49m\n\u001b[1;32m   5642\u001b[0m \u001b[43m    \u001b[49m\u001b[43m)\u001b[49m\n",
      "File \u001b[0;32m/opt/conda/lib/python3.10/site-packages/pandas/core/generic.py:6795\u001b[0m, in \u001b[0;36mNDFrame.fillna\u001b[0;34m(self, value, method, axis, inplace, limit, downcast)\u001b[0m\n\u001b[1;32m   6684\u001b[0m \u001b[38;5;250m\u001b[39m\u001b[38;5;124;03m\"\"\"\u001b[39;00m\n\u001b[1;32m   6685\u001b[0m \u001b[38;5;124;03mFill NA/NaN values using the specified method.\u001b[39;00m\n\u001b[1;32m   6686\u001b[0m \n\u001b[0;32m   (...)\u001b[0m\n\u001b[1;32m   6792\u001b[0m \u001b[38;5;124;03mNote that column D is not affected since it is not present in df2.\u001b[39;00m\n\u001b[1;32m   6793\u001b[0m \u001b[38;5;124;03m\"\"\"\u001b[39;00m\n\u001b[1;32m   6794\u001b[0m inplace \u001b[38;5;241m=\u001b[39m validate_bool_kwarg(inplace, \u001b[38;5;124m\"\u001b[39m\u001b[38;5;124minplace\u001b[39m\u001b[38;5;124m\"\u001b[39m)\n\u001b[0;32m-> 6795\u001b[0m value, method \u001b[38;5;241m=\u001b[39m \u001b[43mvalidate_fillna_kwargs\u001b[49m\u001b[43m(\u001b[49m\u001b[43mvalue\u001b[49m\u001b[43m,\u001b[49m\u001b[43m \u001b[49m\u001b[43mmethod\u001b[49m\u001b[43m)\u001b[49m\n\u001b[1;32m   6797\u001b[0m \u001b[38;5;28mself\u001b[39m\u001b[38;5;241m.\u001b[39m_consolidate_inplace()\n\u001b[1;32m   6799\u001b[0m \u001b[38;5;66;03m# set the default here, so functions examining the signaure\u001b[39;00m\n\u001b[1;32m   6800\u001b[0m \u001b[38;5;66;03m# can detect if something was set (e.g. in groupby) (GH9221)\u001b[39;00m\n",
      "File \u001b[0;32m/opt/conda/lib/python3.10/site-packages/pandas/util/_validators.py:388\u001b[0m, in \u001b[0;36mvalidate_fillna_kwargs\u001b[0;34m(value, method, validate_scalar_dict_value)\u001b[0m\n\u001b[1;32m    385\u001b[0m \u001b[38;5;28;01mfrom\u001b[39;00m \u001b[38;5;21;01mpandas\u001b[39;00m\u001b[38;5;21;01m.\u001b[39;00m\u001b[38;5;21;01mcore\u001b[39;00m\u001b[38;5;21;01m.\u001b[39;00m\u001b[38;5;21;01mmissing\u001b[39;00m \u001b[38;5;28;01mimport\u001b[39;00m clean_fill_method\n\u001b[1;32m    387\u001b[0m \u001b[38;5;28;01mif\u001b[39;00m value \u001b[38;5;129;01mis\u001b[39;00m \u001b[38;5;28;01mNone\u001b[39;00m \u001b[38;5;129;01mand\u001b[39;00m method \u001b[38;5;129;01mis\u001b[39;00m \u001b[38;5;28;01mNone\u001b[39;00m:\n\u001b[0;32m--> 388\u001b[0m     \u001b[38;5;28;01mraise\u001b[39;00m \u001b[38;5;167;01mValueError\u001b[39;00m(\u001b[38;5;124m\"\u001b[39m\u001b[38;5;124mMust specify a fill \u001b[39m\u001b[38;5;124m'\u001b[39m\u001b[38;5;124mvalue\u001b[39m\u001b[38;5;124m'\u001b[39m\u001b[38;5;124m or \u001b[39m\u001b[38;5;124m'\u001b[39m\u001b[38;5;124mmethod\u001b[39m\u001b[38;5;124m'\u001b[39m\u001b[38;5;124m.\u001b[39m\u001b[38;5;124m\"\u001b[39m)\n\u001b[1;32m    389\u001b[0m \u001b[38;5;28;01melif\u001b[39;00m value \u001b[38;5;129;01mis\u001b[39;00m \u001b[38;5;28;01mNone\u001b[39;00m \u001b[38;5;129;01mand\u001b[39;00m method \u001b[38;5;129;01mis\u001b[39;00m \u001b[38;5;129;01mnot\u001b[39;00m \u001b[38;5;28;01mNone\u001b[39;00m:\n\u001b[1;32m    390\u001b[0m     method \u001b[38;5;241m=\u001b[39m clean_fill_method(method)\n",
      "\u001b[0;31mValueError\u001b[0m: Must specify a fill 'value' or 'method'."
     ]
    }
   ],
   "source": [
    "df.fillna(inplace=True)"
   ]
  },
  {
   "cell_type": "code",
   "execution_count": null,
   "id": "e35432b2",
   "metadata": {
    "papermill": {
     "duration": null,
     "end_time": null,
     "exception": null,
     "start_time": null,
     "status": "pending"
    },
    "tags": []
   },
   "outputs": [],
   "source": [
    "df"
   ]
  },
  {
   "cell_type": "markdown",
   "id": "f367acd7",
   "metadata": {
    "papermill": {
     "duration": null,
     "end_time": null,
     "exception": null,
     "start_time": null,
     "status": "pending"
    },
    "tags": []
   },
   "source": [
    "# **REPLACE FUNCTION**"
   ]
  },
  {
   "cell_type": "code",
   "execution_count": null,
   "id": "89ec90ba",
   "metadata": {
    "papermill": {
     "duration": null,
     "end_time": null,
     "exception": null,
     "start_time": null,
     "status": "pending"
    },
    "tags": []
   },
   "outputs": [],
   "source": [
    "#if we want to replace a perticluar with another value we use this.\n",
    "df=pd.read_csv(r\"/kaggle/input/sample/sample.csv\")\n",
    "df.head()"
   ]
  },
  {
   "cell_type": "code",
   "execution_count": null,
   "id": "e44deb59",
   "metadata": {
    "papermill": {
     "duration": null,
     "end_time": null,
     "exception": null,
     "start_time": null,
     "status": "pending"
    },
    "tags": []
   },
   "outputs": [],
   "source": [
    "df.replace(to_replace=26,value=30)"
   ]
  },
  {
   "cell_type": "code",
   "execution_count": null,
   "id": "bee671c3",
   "metadata": {
    "papermill": {
     "duration": null,
     "end_time": null,
     "exception": null,
     "start_time": null,
     "status": "pending"
    },
    "tags": []
   },
   "outputs": [],
   "source": [
    "df.replace(34,10000) #1st parameter is actual value ,,2nd parameter is by what value we want to change the value"
   ]
  },
  {
   "cell_type": "code",
   "execution_count": null,
   "id": "36f54db7",
   "metadata": {
    "papermill": {
     "duration": null,
     "end_time": null,
     "exception": null,
     "start_time": null,
     "status": "pending"
    },
    "tags": []
   },
   "outputs": [],
   "source": [
    "df.replace(to_replace=[50,51,52,53,54,55,56,57,58,59],value=\"A\") #value can be any type"
   ]
  },
  {
   "cell_type": "code",
   "execution_count": null,
   "id": "54a5799f",
   "metadata": {
    "papermill": {
     "duration": null,
     "end_time": null,
     "exception": null,
     "start_time": null,
     "status": "pending"
    },
    "tags": []
   },
   "outputs": [],
   "source": [
    "df.replace([50,51,52,53],[\"A\",\"B\",\"C\",\"D\"])"
   ]
  },
  {
   "cell_type": "code",
   "execution_count": null,
   "id": "fc65385b",
   "metadata": {
    "papermill": {
     "duration": null,
     "end_time": null,
     "exception": null,
     "start_time": null,
     "status": "pending"
    },
    "tags": []
   },
   "outputs": [],
   "source": [
    "df[\"Physics\"].replace([50,51,52,53],[\"A\",\"B\",\"C\",\"D\"],inplace=True)\n",
    "df"
   ]
  },
  {
   "cell_type": "code",
   "execution_count": null,
   "id": "9143c3e4",
   "metadata": {
    "papermill": {
     "duration": null,
     "end_time": null,
     "exception": null,
     "start_time": null,
     "status": "pending"
    },
    "tags": []
   },
   "outputs": [],
   "source": [
    "df.replace('[A-Za-z]',0) #it replaces every charecter with \"0\" value"
   ]
  },
  {
   "cell_type": "code",
   "execution_count": null,
   "id": "be388a60",
   "metadata": {
    "papermill": {
     "duration": null,
     "end_time": null,
     "exception": null,
     "start_time": null,
     "status": "pending"
    },
    "tags": []
   },
   "outputs": [],
   "source": [
    "#but still we can see alphabets so we need to do this\n",
    "df.replace(\"[A-Za-z]\",0,regex=True)"
   ]
  },
  {
   "cell_type": "code",
   "execution_count": null,
   "id": "e8a317d7",
   "metadata": {
    "papermill": {
     "duration": null,
     "end_time": null,
     "exception": null,
     "start_time": null,
     "status": "pending"
    },
    "tags": []
   },
   "outputs": [],
   "source": [
    "df.replace(15,method=\"ffill\")"
   ]
  },
  {
   "cell_type": "code",
   "execution_count": null,
   "id": "71ae1bed",
   "metadata": {
    "papermill": {
     "duration": null,
     "end_time": null,
     "exception": null,
     "start_time": null,
     "status": "pending"
    },
    "tags": []
   },
   "outputs": [],
   "source": [
    "df.replace(15,method=\"bfill\")"
   ]
  },
  {
   "cell_type": "markdown",
   "id": "1a2e5df4",
   "metadata": {
    "papermill": {
     "duration": null,
     "end_time": null,
     "exception": null,
     "start_time": null,
     "status": "pending"
    },
    "tags": []
   },
   "source": [
    "# **loc() function**"
   ]
  },
  {
   "cell_type": "code",
   "execution_count": null,
   "id": "1a001eab",
   "metadata": {
    "papermill": {
     "duration": null,
     "end_time": null,
     "exception": null,
     "start_time": null,
     "status": "pending"
    },
    "tags": []
   },
   "outputs": [],
   "source": [
    "# . loc is typically used for label indexing and can access multiple columns, while . iloc is used for integer indexing.\n",
    "#location loc()---->The loc operator is used to index a portion of the dataframe. loc supports indexing both by row and column names and by using boolean expressions.\n",
    "import pandas as pd\n"
   ]
  },
  {
   "cell_type": "code",
   "execution_count": null,
   "id": "bb19c536",
   "metadata": {
    "papermill": {
     "duration": null,
     "end_time": null,
     "exception": null,
     "start_time": null,
     "status": "pending"
    },
    "tags": []
   },
   "outputs": [],
   "source": [
    "df=pd.read_csv(r\"/kaggle/input/sample2/sample2.csv\",index_col=[\"Roll No.\"])\n",
    "df.head()\n",
    "#index_col ---it is used to index the table with our own name.--here indexing starts form 1 not the 0.\n",
    "#we have to pass colunm or row name with which we want to access the table."
   ]
  },
  {
   "cell_type": "code",
   "execution_count": null,
   "id": "3caa7670",
   "metadata": {
    "papermill": {
     "duration": null,
     "end_time": null,
     "exception": null,
     "start_time": null,
     "status": "pending"
    },
    "tags": []
   },
   "outputs": [],
   "source": [
    "#df.loc[1] #it return the first row not the 0th row\n",
    "df.loc[[1]]"
   ]
  },
  {
   "cell_type": "code",
   "execution_count": null,
   "id": "d76475d9",
   "metadata": {
    "papermill": {
     "duration": null,
     "end_time": null,
     "exception": null,
     "start_time": null,
     "status": "pending"
    },
    "tags": []
   },
   "outputs": [],
   "source": [
    "df.loc[5]"
   ]
  },
  {
   "cell_type": "code",
   "execution_count": null,
   "id": "fd8465ac",
   "metadata": {
    "papermill": {
     "duration": null,
     "end_time": null,
     "exception": null,
     "start_time": null,
     "status": "pending"
    },
    "tags": []
   },
   "outputs": [],
   "source": [
    "df.loc[[5,6,7,8]]"
   ]
  },
  {
   "cell_type": "code",
   "execution_count": null,
   "id": "37d7b1b2",
   "metadata": {
    "papermill": {
     "duration": null,
     "end_time": null,
     "exception": null,
     "start_time": null,
     "status": "pending"
    },
    "tags": []
   },
   "outputs": [],
   "source": [
    "df.loc[5,\"Physics\"]"
   ]
  },
  {
   "cell_type": "code",
   "execution_count": null,
   "id": "6049def3",
   "metadata": {
    "papermill": {
     "duration": null,
     "end_time": null,
     "exception": null,
     "start_time": null,
     "status": "pending"
    },
    "tags": []
   },
   "outputs": [],
   "source": [
    "df.loc[5:15,\"Chemistry\"]"
   ]
  },
  {
   "cell_type": "code",
   "execution_count": null,
   "id": "f5855ecc",
   "metadata": {
    "papermill": {
     "duration": null,
     "end_time": null,
     "exception": null,
     "start_time": null,
     "status": "pending"
    },
    "tags": []
   },
   "outputs": [],
   "source": [
    "df.loc[df[\"Physics\"]<50]"
   ]
  },
  {
   "cell_type": "code",
   "execution_count": null,
   "id": "ec1f731d",
   "metadata": {
    "papermill": {
     "duration": null,
     "end_time": null,
     "exception": null,
     "start_time": null,
     "status": "pending"
    },
    "tags": []
   },
   "outputs": [],
   "source": [
    "df.loc[df[\"Physics\"]>80,[\"Maths\"]]"
   ]
  },
  {
   "cell_type": "markdown",
   "id": "2be94178",
   "metadata": {
    "papermill": {
     "duration": null,
     "end_time": null,
     "exception": null,
     "start_time": null,
     "status": "pending"
    },
    "tags": []
   },
   "source": [
    "* loc is label-based, which means that you have to specify rows and columns based on their row and column labels\n",
    "* iloc is integer position-based, so you have to specify rows and columns by their integer position values (0-based integer position)."
   ]
  },
  {
   "cell_type": "markdown",
   "id": "f71d10ea",
   "metadata": {
    "papermill": {
     "duration": null,
     "end_time": null,
     "exception": null,
     "start_time": null,
     "status": "pending"
    },
    "tags": []
   },
   "source": [
    "**iloc()**"
   ]
  },
  {
   "cell_type": "code",
   "execution_count": null,
   "id": "b52158a2",
   "metadata": {
    "papermill": {
     "duration": null,
     "end_time": null,
     "exception": null,
     "start_time": null,
     "status": "pending"
    },
    "tags": []
   },
   "outputs": [],
   "source": [
    "#index location---here index starts from 0 not 1.\n",
    "df.iloc[0] #first row will be 0 index"
   ]
  },
  {
   "cell_type": "code",
   "execution_count": null,
   "id": "47b23cd3",
   "metadata": {
    "papermill": {
     "duration": null,
     "end_time": null,
     "exception": null,
     "start_time": null,
     "status": "pending"
    },
    "tags": []
   },
   "outputs": [],
   "source": [
    "df.iloc[[0]]"
   ]
  },
  {
   "cell_type": "code",
   "execution_count": null,
   "id": "cf691572",
   "metadata": {
    "papermill": {
     "duration": null,
     "end_time": null,
     "exception": null,
     "start_time": null,
     "status": "pending"
    },
    "tags": []
   },
   "outputs": [],
   "source": [
    "df.iloc[[0,1,2]]"
   ]
  },
  {
   "cell_type": "code",
   "execution_count": null,
   "id": "470b8271",
   "metadata": {
    "papermill": {
     "duration": null,
     "end_time": null,
     "exception": null,
     "start_time": null,
     "status": "pending"
    },
    "tags": []
   },
   "outputs": [],
   "source": [
    "df.iloc[:,0]"
   ]
  },
  {
   "cell_type": "code",
   "execution_count": null,
   "id": "a8fb2d8e",
   "metadata": {
    "papermill": {
     "duration": null,
     "end_time": null,
     "exception": null,
     "start_time": null,
     "status": "pending"
    },
    "tags": []
   },
   "outputs": [],
   "source": [
    "df.iloc[:,1]"
   ]
  },
  {
   "cell_type": "code",
   "execution_count": null,
   "id": "2992c7a8",
   "metadata": {
    "papermill": {
     "duration": null,
     "end_time": null,
     "exception": null,
     "start_time": null,
     "status": "pending"
    },
    "tags": []
   },
   "outputs": [],
   "source": [
    "df.iloc[0:5,1]"
   ]
  },
  {
   "cell_type": "code",
   "execution_count": null,
   "id": "c88375a7",
   "metadata": {
    "execution": {
     "iopub.execute_input": "2023-06-24T12:12:16.764689Z",
     "iopub.status.busy": "2023-06-24T12:12:16.764306Z",
     "iopub.status.idle": "2023-06-24T12:12:16.777473Z",
     "shell.execute_reply": "2023-06-24T12:12:16.776336Z",
     "shell.execute_reply.started": "2023-06-24T12:12:16.764658Z"
    },
    "papermill": {
     "duration": null,
     "end_time": null,
     "exception": null,
     "start_time": null,
     "status": "pending"
    },
    "tags": []
   },
   "outputs": [],
   "source": [
    "df.iloc[0:5,1:4]"
   ]
  },
  {
   "cell_type": "code",
   "execution_count": null,
   "id": "9ba70deb",
   "metadata": {
    "papermill": {
     "duration": null,
     "end_time": null,
     "exception": null,
     "start_time": null,
     "status": "pending"
    },
    "tags": []
   },
   "outputs": [],
   "source": [
    "#loc()---it take indexes of that column which you have made as index.\n",
    "#iloc()----it take (0-based indexing) as an input--strats with 0."
   ]
  },
  {
   "cell_type": "markdown",
   "id": "ac705333",
   "metadata": {
    "papermill": {
     "duration": null,
     "end_time": null,
     "exception": null,
     "start_time": null,
     "status": "pending"
    },
    "tags": []
   },
   "source": [
    "# #GroupBy() function"
   ]
  },
  {
   "cell_type": "code",
   "execution_count": null,
   "id": "1c9fed63",
   "metadata": {
    "execution": {
     "iopub.execute_input": "2023-06-24T12:16:40.570213Z",
     "iopub.status.busy": "2023-06-24T12:16:40.569787Z",
     "iopub.status.idle": "2023-06-24T12:16:40.594217Z",
     "shell.execute_reply": "2023-06-24T12:16:40.592951Z",
     "shell.execute_reply.started": "2023-06-24T12:16:40.570178Z"
    },
    "papermill": {
     "duration": null,
     "end_time": null,
     "exception": null,
     "start_time": null,
     "status": "pending"
    },
    "tags": []
   },
   "outputs": [],
   "source": [
    "#it is going form groups according to the parameter that we have provided.\n",
    "df=pd.read_csv(r\"/kaggle/input/sample2/sample2.csv\")\n",
    "df.head()"
   ]
  },
  {
   "cell_type": "code",
   "execution_count": null,
   "id": "5e2163be",
   "metadata": {
    "execution": {
     "iopub.execute_input": "2023-06-24T12:17:33.200133Z",
     "iopub.status.busy": "2023-06-24T12:17:33.199623Z",
     "iopub.status.idle": "2023-06-24T12:17:33.207700Z",
     "shell.execute_reply": "2023-06-24T12:17:33.206616Z",
     "shell.execute_reply.started": "2023-06-24T12:17:33.200084Z"
    },
    "papermill": {
     "duration": null,
     "end_time": null,
     "exception": null,
     "start_time": null,
     "status": "pending"
    },
    "tags": []
   },
   "outputs": [],
   "source": [
    "branch_group=df.groupby(by=\"Branch\")\n",
    "branch_group"
   ]
  },
  {
   "cell_type": "code",
   "execution_count": null,
   "id": "a4ca3568",
   "metadata": {
    "execution": {
     "iopub.execute_input": "2023-06-24T12:17:59.649280Z",
     "iopub.status.busy": "2023-06-24T12:17:59.648911Z",
     "iopub.status.idle": "2023-06-24T12:17:59.657480Z",
     "shell.execute_reply": "2023-06-24T12:17:59.656265Z",
     "shell.execute_reply.started": "2023-06-24T12:17:59.649250Z"
    },
    "papermill": {
     "duration": null,
     "end_time": null,
     "exception": null,
     "start_time": null,
     "status": "pending"
    },
    "tags": []
   },
   "outputs": [],
   "source": [
    "branch_group.groups  #it prints the data present in given group\n",
    "#below number are the indexes where the perticular attribute present in the table."
   ]
  },
  {
   "cell_type": "code",
   "execution_count": null,
   "id": "f28527a4",
   "metadata": {
    "execution": {
     "iopub.execute_input": "2023-06-24T12:22:43.475898Z",
     "iopub.status.busy": "2023-06-24T12:22:43.475521Z",
     "iopub.status.idle": "2023-06-24T12:22:43.492184Z",
     "shell.execute_reply": "2023-06-24T12:22:43.491088Z",
     "shell.execute_reply.started": "2023-06-24T12:22:43.475868Z"
    },
    "papermill": {
     "duration": null,
     "end_time": null,
     "exception": null,
     "start_time": null,
     "status": "pending"
    },
    "tags": []
   },
   "outputs": [],
   "source": [
    "gp2=df.groupby(by=[\"Branch\",\"Section\"])\n",
    "gp2.groups\n"
   ]
  },
  {
   "cell_type": "code",
   "execution_count": null,
   "id": "9add586a",
   "metadata": {
    "execution": {
     "iopub.execute_input": "2023-06-24T12:24:15.383634Z",
     "iopub.status.busy": "2023-06-24T12:24:15.383243Z",
     "iopub.status.idle": "2023-06-24T12:24:15.419952Z",
     "shell.execute_reply": "2023-06-24T12:24:15.419086Z",
     "shell.execute_reply.started": "2023-06-24T12:24:15.383604Z"
    },
    "papermill": {
     "duration": null,
     "end_time": null,
     "exception": null,
     "start_time": null,
     "status": "pending"
    },
    "tags": []
   },
   "outputs": [],
   "source": [
    "for group,data_frame in gp2:\n",
    "    print(group)\n",
    "    print(data_frame)"
   ]
  },
  {
   "cell_type": "markdown",
   "id": "7c771c27",
   "metadata": {
    "papermill": {
     "duration": null,
     "end_time": null,
     "exception": null,
     "start_time": null,
     "status": "pending"
    },
    "tags": []
   },
   "source": [
    "# #Merge() Function"
   ]
  },
  {
   "cell_type": "code",
   "execution_count": null,
   "id": "968cee90",
   "metadata": {
    "papermill": {
     "duration": null,
     "end_time": null,
     "exception": null,
     "start_time": null,
     "status": "pending"
    },
    "tags": []
   },
   "outputs": [],
   "source": [
    "#it is going to merge the data frames"
   ]
  },
  {
   "cell_type": "code",
   "execution_count": null,
   "id": "9247552f",
   "metadata": {
    "execution": {
     "iopub.execute_input": "2023-06-24T12:29:02.952043Z",
     "iopub.status.busy": "2023-06-24T12:29:02.951627Z",
     "iopub.status.idle": "2023-06-24T12:29:02.961715Z",
     "shell.execute_reply": "2023-06-24T12:29:02.960918Z",
     "shell.execute_reply.started": "2023-06-24T12:29:02.952008Z"
    },
    "papermill": {
     "duration": null,
     "end_time": null,
     "exception": null,
     "start_time": null,
     "status": "pending"
    },
    "tags": []
   },
   "outputs": [],
   "source": [
    "df=pd.DataFrame({\"roll no\":[1,2,3,4,5],\"Physics\":[34,67,34,89,12]})\n",
    "df"
   ]
  },
  {
   "cell_type": "code",
   "execution_count": null,
   "id": "f9010de2",
   "metadata": {
    "execution": {
     "iopub.execute_input": "2023-06-24T12:30:15.920157Z",
     "iopub.status.busy": "2023-06-24T12:30:15.919716Z",
     "iopub.status.idle": "2023-06-24T12:30:15.929790Z",
     "shell.execute_reply": "2023-06-24T12:30:15.929003Z",
     "shell.execute_reply.started": "2023-06-24T12:30:15.920122Z"
    },
    "papermill": {
     "duration": null,
     "end_time": null,
     "exception": null,
     "start_time": null,
     "status": "pending"
    },
    "tags": []
   },
   "outputs": [],
   "source": [
    "df1=pd.DataFrame({\"roll no\":[1,2,3,4,5],\"Chemistry\":[78,33,39,81,90]})\n",
    "df1"
   ]
  },
  {
   "cell_type": "code",
   "execution_count": null,
   "id": "5500ed4c",
   "metadata": {
    "execution": {
     "iopub.execute_input": "2023-06-24T12:30:49.001171Z",
     "iopub.status.busy": "2023-06-24T12:30:49.000786Z",
     "iopub.status.idle": "2023-06-24T12:30:49.020322Z",
     "shell.execute_reply": "2023-06-24T12:30:49.019130Z",
     "shell.execute_reply.started": "2023-06-24T12:30:49.001142Z"
    },
    "papermill": {
     "duration": null,
     "end_time": null,
     "exception": null,
     "start_time": null,
     "status": "pending"
    },
    "tags": []
   },
   "outputs": [],
   "source": [
    "pd.merge(df,df1,on=\"roll no\")"
   ]
  },
  {
   "cell_type": "code",
   "execution_count": null,
   "id": "ce6319fd",
   "metadata": {
    "execution": {
     "iopub.execute_input": "2023-06-24T12:31:24.586949Z",
     "iopub.status.busy": "2023-06-24T12:31:24.586546Z",
     "iopub.status.idle": "2023-06-24T12:31:24.600007Z",
     "shell.execute_reply": "2023-06-24T12:31:24.599007Z",
     "shell.execute_reply.started": "2023-06-24T12:31:24.586918Z"
    },
    "papermill": {
     "duration": null,
     "end_time": null,
     "exception": null,
     "start_time": null,
     "status": "pending"
    },
    "tags": []
   },
   "outputs": [],
   "source": [
    "pd.merge(df1,df,on=\"roll no\")"
   ]
  },
  {
   "cell_type": "code",
   "execution_count": null,
   "id": "90023604",
   "metadata": {
    "execution": {
     "iopub.execute_input": "2023-06-24T12:32:40.552133Z",
     "iopub.status.busy": "2023-06-24T12:32:40.551255Z",
     "iopub.status.idle": "2023-06-24T12:32:40.566088Z",
     "shell.execute_reply": "2023-06-24T12:32:40.564810Z",
     "shell.execute_reply.started": "2023-06-24T12:32:40.552081Z"
    },
    "papermill": {
     "duration": null,
     "end_time": null,
     "exception": null,
     "start_time": null,
     "status": "pending"
    },
    "tags": []
   },
   "outputs": [],
   "source": [
    "pd.merge(df,df1) #on--by default intersecting column will be taken.\n"
   ]
  },
  {
   "cell_type": "code",
   "execution_count": null,
   "id": "0b4ebd17",
   "metadata": {
    "execution": {
     "iopub.execute_input": "2023-06-24T12:45:42.255518Z",
     "iopub.status.busy": "2023-06-24T12:45:42.255124Z",
     "iopub.status.idle": "2023-06-24T12:45:42.262530Z",
     "shell.execute_reply": "2023-06-24T12:45:42.261354Z",
     "shell.execute_reply.started": "2023-06-24T12:45:42.255486Z"
    },
    "papermill": {
     "duration": null,
     "end_time": null,
     "exception": null,
     "start_time": null,
     "status": "pending"
    },
    "tags": []
   },
   "outputs": [],
   "source": [
    "df3=pd.DataFrame({\"roll no\":[1,2,3,6,7],\"Physics\":[23,67,45,78,99]})\n",
    "df4=pd.DataFrame({\"roll no\":[1,2,3,8,9],\"Chemistry\":[24,68,49,79,99]})"
   ]
  },
  {
   "cell_type": "code",
   "execution_count": null,
   "id": "353bb822",
   "metadata": {
    "execution": {
     "iopub.execute_input": "2023-06-24T12:46:01.767403Z",
     "iopub.status.busy": "2023-06-24T12:46:01.766657Z",
     "iopub.status.idle": "2023-06-24T12:46:01.780167Z",
     "shell.execute_reply": "2023-06-24T12:46:01.779117Z",
     "shell.execute_reply.started": "2023-06-24T12:46:01.767359Z"
    },
    "papermill": {
     "duration": null,
     "end_time": null,
     "exception": null,
     "start_time": null,
     "status": "pending"
    },
    "tags": []
   },
   "outputs": [],
   "source": [
    "# # it is going to take only values of intersecting\n",
    "\n",
    "pd.merge(df3,df4)"
   ]
  },
  {
   "cell_type": "code",
   "execution_count": null,
   "id": "e60a37a5",
   "metadata": {
    "execution": {
     "iopub.execute_input": "2023-06-24T12:46:31.516303Z",
     "iopub.status.busy": "2023-06-24T12:46:31.515931Z",
     "iopub.status.idle": "2023-06-24T12:46:31.530778Z",
     "shell.execute_reply": "2023-06-24T12:46:31.529722Z",
     "shell.execute_reply.started": "2023-06-24T12:46:31.516273Z"
    },
    "papermill": {
     "duration": null,
     "end_time": null,
     "exception": null,
     "start_time": null,
     "status": "pending"
    },
    "tags": []
   },
   "outputs": [],
   "source": [
    "pd.merge(df3,df4,how=\"left\")\n",
    "#indexes on th df3 only will be taken."
   ]
  },
  {
   "cell_type": "code",
   "execution_count": null,
   "id": "65cdc2e7",
   "metadata": {
    "execution": {
     "iopub.execute_input": "2023-06-24T12:46:39.348302Z",
     "iopub.status.busy": "2023-06-24T12:46:39.347800Z",
     "iopub.status.idle": "2023-06-24T12:46:39.363678Z",
     "shell.execute_reply": "2023-06-24T12:46:39.362792Z",
     "shell.execute_reply.started": "2023-06-24T12:46:39.348257Z"
    },
    "papermill": {
     "duration": null,
     "end_time": null,
     "exception": null,
     "start_time": null,
     "status": "pending"
    },
    "tags": []
   },
   "outputs": [],
   "source": [
    "pd.merge(df3,df4,how=\"right\")  #it will take all values in df4"
   ]
  },
  {
   "cell_type": "code",
   "execution_count": null,
   "id": "c782591d",
   "metadata": {
    "execution": {
     "iopub.execute_input": "2023-06-24T12:47:45.816996Z",
     "iopub.status.busy": "2023-06-24T12:47:45.816619Z",
     "iopub.status.idle": "2023-06-24T12:47:45.834809Z",
     "shell.execute_reply": "2023-06-24T12:47:45.833894Z",
     "shell.execute_reply.started": "2023-06-24T12:47:45.816966Z"
    },
    "papermill": {
     "duration": null,
     "end_time": null,
     "exception": null,
     "start_time": null,
     "status": "pending"
    },
    "tags": []
   },
   "outputs": [],
   "source": [
    "pd.merge(df3,df4,how=\"outer\") #it will take both values in both datafframes\n"
   ]
  },
  {
   "cell_type": "markdown",
   "id": "0ca1ac96",
   "metadata": {
    "papermill": {
     "duration": null,
     "end_time": null,
     "exception": null,
     "start_time": null,
     "status": "pending"
    },
    "tags": []
   },
   "source": [
    "# #append() Function"
   ]
  },
  {
   "cell_type": "code",
   "execution_count": null,
   "id": "a752d98c",
   "metadata": {
    "papermill": {
     "duration": null,
     "end_time": null,
     "exception": null,
     "start_time": null,
     "status": "pending"
    },
    "tags": []
   },
   "outputs": [],
   "source": [
    "#it is similar to merge \n",
    "#but here we gonna append one df into  another df.\n"
   ]
  },
  {
   "cell_type": "code",
   "execution_count": null,
   "id": "344fae2e",
   "metadata": {
    "execution": {
     "iopub.execute_input": "2023-06-24T12:52:35.775478Z",
     "iopub.status.busy": "2023-06-24T12:52:35.775097Z",
     "iopub.status.idle": "2023-06-24T12:52:35.787359Z",
     "shell.execute_reply": "2023-06-24T12:52:35.785577Z",
     "shell.execute_reply.started": "2023-06-24T12:52:35.775448Z"
    },
    "papermill": {
     "duration": null,
     "end_time": null,
     "exception": null,
     "start_time": null,
     "status": "pending"
    },
    "tags": []
   },
   "outputs": [],
   "source": [
    "df1=pd.DataFrame({\"roll no\":[1,2,3,4,5],\"Maths\":[10,20,30,40,50],\"Physics\":[100,200,300,400,500]})\n",
    "df2=pd.DataFrame({\"roll no\":[6,7,8,9,10],\"Maths\":[60,70,80,90,100],\"Physics\":[600,700,800,900,1000]})\n",
    "print(df1)\n",
    "print(df2)"
   ]
  },
  {
   "cell_type": "code",
   "execution_count": null,
   "id": "476dc985",
   "metadata": {
    "execution": {
     "iopub.execute_input": "2023-06-24T12:52:55.550553Z",
     "iopub.status.busy": "2023-06-24T12:52:55.550175Z",
     "iopub.status.idle": "2023-06-24T12:52:55.562420Z",
     "shell.execute_reply": "2023-06-24T12:52:55.561223Z",
     "shell.execute_reply.started": "2023-06-24T12:52:55.550524Z"
    },
    "papermill": {
     "duration": null,
     "end_time": null,
     "exception": null,
     "start_time": null,
     "status": "pending"
    },
    "tags": []
   },
   "outputs": [],
   "source": [
    "df1.append(df2) #df2 is appended to df1"
   ]
  },
  {
   "cell_type": "code",
   "execution_count": null,
   "id": "153984bc",
   "metadata": {
    "execution": {
     "iopub.execute_input": "2023-06-24T12:53:48.089552Z",
     "iopub.status.busy": "2023-06-24T12:53:48.089143Z",
     "iopub.status.idle": "2023-06-24T12:53:48.100753Z",
     "shell.execute_reply": "2023-06-24T12:53:48.099526Z",
     "shell.execute_reply.started": "2023-06-24T12:53:48.089520Z"
    },
    "papermill": {
     "duration": null,
     "end_time": null,
     "exception": null,
     "start_time": null,
     "status": "pending"
    },
    "tags": []
   },
   "outputs": [],
   "source": [
    "df2.append(df1)"
   ]
  },
  {
   "cell_type": "code",
   "execution_count": null,
   "id": "dd959dda",
   "metadata": {
    "execution": {
     "iopub.execute_input": "2023-06-24T12:54:33.465786Z",
     "iopub.status.busy": "2023-06-24T12:54:33.465404Z",
     "iopub.status.idle": "2023-06-24T12:54:33.477130Z",
     "shell.execute_reply": "2023-06-24T12:54:33.476030Z",
     "shell.execute_reply.started": "2023-06-24T12:54:33.465756Z"
    },
    "papermill": {
     "duration": null,
     "end_time": null,
     "exception": null,
     "start_time": null,
     "status": "pending"
    },
    "tags": []
   },
   "outputs": [],
   "source": [
    "df1.append(df2,ignore_index=True) #indexes will be incremented"
   ]
  },
  {
   "cell_type": "code",
   "execution_count": null,
   "id": "2ec95d1a",
   "metadata": {
    "execution": {
     "iopub.execute_input": "2023-06-24T12:55:42.034997Z",
     "iopub.status.busy": "2023-06-24T12:55:42.034589Z",
     "iopub.status.idle": "2023-06-24T12:55:42.047995Z",
     "shell.execute_reply": "2023-06-24T12:55:42.046870Z",
     "shell.execute_reply.started": "2023-06-24T12:55:42.034961Z"
    },
    "papermill": {
     "duration": null,
     "end_time": null,
     "exception": null,
     "start_time": null,
     "status": "pending"
    },
    "tags": []
   },
   "outputs": [],
   "source": [
    "df1.append(df2,ignore_index=True,sort=True) #it used to sort"
   ]
  },
  {
   "cell_type": "code",
   "execution_count": null,
   "id": "2898cffa",
   "metadata": {
    "execution": {
     "iopub.execute_input": "2023-06-24T12:56:48.425197Z",
     "iopub.status.busy": "2023-06-24T12:56:48.424809Z",
     "iopub.status.idle": "2023-06-24T12:56:48.435548Z",
     "shell.execute_reply": "2023-06-24T12:56:48.434444Z",
     "shell.execute_reply.started": "2023-06-24T12:56:48.425165Z"
    },
    "papermill": {
     "duration": null,
     "end_time": null,
     "exception": null,
     "start_time": null,
     "status": "pending"
    },
    "tags": []
   },
   "outputs": [],
   "source": [
    "df1=pd.DataFrame({\"roll no\":[1,2,3,4,5],\"Chemistry\":[45,67,34,78,67],\"Maths\":[10,20,30,40,50],\"Physics\":[100,200,300,400,500]})\n",
    "df2=pd.DataFrame({\"roll no\":[6,7,8,9,10],\"Maths\":[60,70,80,90,100],\"Physics\":[600,700,800,900,1000]})\n",
    "print(df1)\n",
    "print(df2)"
   ]
  },
  {
   "cell_type": "code",
   "execution_count": null,
   "id": "55e16e43",
   "metadata": {
    "execution": {
     "iopub.execute_input": "2023-06-24T12:57:10.665900Z",
     "iopub.status.busy": "2023-06-24T12:57:10.665502Z",
     "iopub.status.idle": "2023-06-24T12:57:10.680388Z",
     "shell.execute_reply": "2023-06-24T12:57:10.679227Z",
     "shell.execute_reply.started": "2023-06-24T12:57:10.665868Z"
    },
    "papermill": {
     "duration": null,
     "end_time": null,
     "exception": null,
     "start_time": null,
     "status": "pending"
    },
    "tags": []
   },
   "outputs": [],
   "source": [
    "df1.append(df2,ignore_index=True)"
   ]
  },
  {
   "cell_type": "markdown",
   "id": "4369e669",
   "metadata": {
    "papermill": {
     "duration": null,
     "end_time": null,
     "exception": null,
     "start_time": null,
     "status": "pending"
    },
    "tags": []
   },
   "source": [
    "# #Pivot Table"
   ]
  },
  {
   "cell_type": "code",
   "execution_count": null,
   "id": "7b2e402c",
   "metadata": {
    "papermill": {
     "duration": null,
     "end_time": null,
     "exception": null,
     "start_time": null,
     "status": "pending"
    },
    "tags": []
   },
   "outputs": [],
   "source": [
    "#The pivot table function takes in a data frame and the parameters detailing the shape you want the data to take. Then it outputs summarized data in the form of a pivot table.\n"
   ]
  },
  {
   "cell_type": "code",
   "execution_count": null,
   "id": "1f520395",
   "metadata": {
    "execution": {
     "iopub.execute_input": "2023-06-24T13:00:27.049808Z",
     "iopub.status.busy": "2023-06-24T13:00:27.049459Z",
     "iopub.status.idle": "2023-06-24T13:00:27.072001Z",
     "shell.execute_reply": "2023-06-24T13:00:27.070770Z",
     "shell.execute_reply.started": "2023-06-24T13:00:27.049780Z"
    },
    "papermill": {
     "duration": null,
     "end_time": null,
     "exception": null,
     "start_time": null,
     "status": "pending"
    },
    "tags": []
   },
   "outputs": [],
   "source": [
    "df=pd.read_csv(r\"/kaggle/input/sample2/sample2.csv\")\n",
    "df.head()"
   ]
  },
  {
   "cell_type": "code",
   "execution_count": null,
   "id": "ea66b4f2",
   "metadata": {
    "execution": {
     "iopub.execute_input": "2023-06-24T13:01:08.120183Z",
     "iopub.status.busy": "2023-06-24T13:01:08.119774Z",
     "iopub.status.idle": "2023-06-24T13:01:08.145599Z",
     "shell.execute_reply": "2023-06-24T13:01:08.144488Z",
     "shell.execute_reply.started": "2023-06-24T13:01:08.120151Z"
    },
    "papermill": {
     "duration": null,
     "end_time": null,
     "exception": null,
     "start_time": null,
     "status": "pending"
    },
    "tags": []
   },
   "outputs": [],
   "source": [
    "pd.pivot_table(df,index=\"Branch\")  \n",
    "#by default the below values are mean values."
   ]
  },
  {
   "cell_type": "code",
   "execution_count": null,
   "id": "9af9e706",
   "metadata": {
    "execution": {
     "iopub.execute_input": "2023-06-24T13:03:23.027804Z",
     "iopub.status.busy": "2023-06-24T13:03:23.027396Z",
     "iopub.status.idle": "2023-06-24T13:03:23.049337Z",
     "shell.execute_reply": "2023-06-24T13:03:23.048119Z",
     "shell.execute_reply.started": "2023-06-24T13:03:23.027770Z"
    },
    "papermill": {
     "duration": null,
     "end_time": null,
     "exception": null,
     "start_time": null,
     "status": "pending"
    },
    "tags": []
   },
   "outputs": [],
   "source": [
    "pd.pivot_table(df,index=\"Branch\",aggfunc=\"sum\")\n",
    "#it will gives the sum of total marks of students."
   ]
  },
  {
   "cell_type": "code",
   "execution_count": null,
   "id": "3035400e",
   "metadata": {
    "execution": {
     "iopub.execute_input": "2023-06-24T13:04:18.134190Z",
     "iopub.status.busy": "2023-06-24T13:04:18.133797Z",
     "iopub.status.idle": "2023-06-24T13:04:18.152046Z",
     "shell.execute_reply": "2023-06-24T13:04:18.150901Z",
     "shell.execute_reply.started": "2023-06-24T13:04:18.134159Z"
    },
    "papermill": {
     "duration": null,
     "end_time": null,
     "exception": null,
     "start_time": null,
     "status": "pending"
    },
    "tags": []
   },
   "outputs": [],
   "source": [
    "pd.pivot_table(df,index=\"Branch\",aggfunc=\"count\")\n",
    "#it reutrns of no.of students ."
   ]
  },
  {
   "cell_type": "code",
   "execution_count": null,
   "id": "5d9d8f4d",
   "metadata": {
    "execution": {
     "iopub.execute_input": "2023-06-24T13:05:07.701048Z",
     "iopub.status.busy": "2023-06-24T13:05:07.700634Z",
     "iopub.status.idle": "2023-06-24T13:05:07.729924Z",
     "shell.execute_reply": "2023-06-24T13:05:07.728743Z",
     "shell.execute_reply.started": "2023-06-24T13:05:07.701014Z"
    },
    "papermill": {
     "duration": null,
     "end_time": null,
     "exception": null,
     "start_time": null,
     "status": "pending"
    },
    "tags": []
   },
   "outputs": [],
   "source": [
    "pd.pivot_table(df,index=\"Branch\",aggfunc=\"max\")"
   ]
  },
  {
   "cell_type": "code",
   "execution_count": null,
   "id": "ad91e894",
   "metadata": {
    "execution": {
     "iopub.execute_input": "2023-06-24T13:05:42.942045Z",
     "iopub.status.busy": "2023-06-24T13:05:42.941625Z",
     "iopub.status.idle": "2023-06-24T13:05:42.990391Z",
     "shell.execute_reply": "2023-06-24T13:05:42.989343Z",
     "shell.execute_reply.started": "2023-06-24T13:05:42.942009Z"
    },
    "papermill": {
     "duration": null,
     "end_time": null,
     "exception": null,
     "start_time": null,
     "status": "pending"
    },
    "tags": []
   },
   "outputs": [],
   "source": [
    "pd.pivot_table(df,index=\"Branch\",columns=\"Section\")\n",
    "#it will give deatiled view of the table."
   ]
  }
 ],
 "metadata": {
  "kernelspec": {
   "display_name": "Python 3",
   "language": "python",
   "name": "python3"
  },
  "language_info": {
   "codemirror_mode": {
    "name": "ipython",
    "version": 3
   },
   "file_extension": ".py",
   "mimetype": "text/x-python",
   "name": "python",
   "nbconvert_exporter": "python",
   "pygments_lexer": "ipython3",
   "version": "3.10.10"
  },
  "papermill": {
   "default_parameters": {},
   "duration": 14.022576,
   "end_time": "2023-06-24T13:07:12.018299",
   "environment_variables": {},
   "exception": true,
   "input_path": "__notebook__.ipynb",
   "output_path": "__notebook__.ipynb",
   "parameters": {},
   "start_time": "2023-06-24T13:06:57.995723",
   "version": "2.4.0"
  }
 },
 "nbformat": 4,
 "nbformat_minor": 5
}
